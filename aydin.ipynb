{
 "cells": [
  {
   "cell_type": "code",
   "execution_count": 61,
   "metadata": {},
   "outputs": [],
   "source": [
    "import sys\n",
    "import cantera as ct\n",
    "import numpy as np\n",
    "import scipy.optimize as opt\n",
    "import matplotlib.pyplot as plt\n",
    "\n",
    "import phases\n",
    "import feedstock as fs\n",
    "import fuel as fu\n",
    "import energy as en\n",
    "import gasifier as gs"
   ]
  },
  {
   "cell_type": "code",
   "execution_count": 62,
   "metadata": {},
   "outputs": [],
   "source": [
    "char_params = np.array([-111.1574, 3.9705, 0.0362, -7.1958, 3.0419, 1.2430, 0.1276, 1.1034, 1.4281])\n",
    "methane_params = np.array([16.5264, 0.4982, -0.0304, 0.1739, 0.2148, -0.1864, -0.1186, -0.2192, -0.2552])\n",
    "\n",
    "def char(ER, MC, T, C, H, O, ash):\n",
    "    a = lambda i: char_params[i]\n",
    "    return np.exp(a(0) + a(1)*ER + a(2)*MC + a(3)*((10**(-3))*T) + a(4)*((10**(-3))*T)**2 + a(5)*C + a(6)*H + a(7)*O +a(8)*ash)\n",
    "\n",
    "def met(ER, MC, T, C, H, O, ash):\n",
    "    b = lambda i: methane_params[i]\n",
    "    return np.exp(b(0) + b(1)*ER + b(2)*MC + b(3)*((10**(-3))*T) + b(4)*((10**(-3))*T)**2 + b(5)*C + b(6)*H + b(7)*O +b(8)*ash)"
   ]
  },
  {
   "cell_type": "code",
   "execution_count": 63,
   "metadata": {},
   "outputs": [
    {
     "name": "stdout",
     "output_type": "stream",
     "text": [
      "0.04736461979829722 0.08982715674014347\n",
      "18.781254244492537\n",
      "26.05928569366626\n",
      "7.893473593643492\n",
      "3.535229827259486\n",
      "43.17776861347578\n",
      "1306.6013594753942 1297.2668893001076\n",
      "6.136925909460035 5.414137249707376 2.91915465680778 2.1312448985878225\n",
      "3.535229827259486\n"
     ]
    }
   ],
   "source": [
    "ER = 0.27\n",
    "MC = 0.075\n",
    "species = ['H2', 'CO', 'CO2', 'CH4', 'N2']\n",
    "exp = [16.8, 25.8, 9.1, 1.5, 46.8]\n",
    "\n",
    "barrioWood = fs.create_fuel_stream(1, [50.70, 6.90, 42.40, 0.30, 0.00, 0.00], 0.0039, MC, 18.86)\n",
    "air = fs.create_air_from_ER(barrioWood, ER)\n",
    "outlet0 = gs.gasify_nonisot(barrioWood, air, charFormation=0, directMethaneConv=0)\n",
    "Teq = outlet0.T\n",
    "char1 = char(ER, MC, Teq, 50.7, 6.90, 42.40, 0.39)\n",
    "met1 = met(ER, MC, Teq, 50.7, 6.90, 42.40, 0.39)\n",
    "print(char1, met1)\n",
    "outlet1 = gs.gasify_nonisot(barrioWood, air, charFormation=char1, directMethaneConv=0)\n",
    "outlet2 = gs.gasify_nonisot(barrioWood, air, charFormation=0, directMethaneConv=met1)\n",
    "outlet3 = gs.gasify_nonisot(barrioWood, air, charFormation=char1, directMethaneConv=met1)\n",
    "\n",
    "for i, sp in enumerate(species):\n",
    "    print(100*outlet3.get_syngas_fraction(sp, water=False, nitrogen=True))\n",
    "print(outlet0.T, outlet3.T)\n",
    "RMSE_0 = (sum([(exp[i] - 100*outlet0.get_syngas_fraction(sp, water=False, nitrogen=True))**2 for i, sp in enumerate(species)]) / len(species))**(1/2)\n",
    "RMSE_1 = (sum([(exp[i] - 100*outlet1.get_syngas_fraction(sp, water=False, nitrogen=True))**2 for i, sp in enumerate(species)]) / len(species))**(1/2)\n",
    "RMSE_2 = (sum([(exp[i] - 100*outlet2.get_syngas_fraction(sp, water=False, nitrogen=True))**2 for i, sp in enumerate(species)]) / len(species))**(1/2)\n",
    "RMSE_3 = (sum([(exp[i] - 100*outlet3.get_syngas_fraction(sp, water=False, nitrogen=True))**2 for i, sp in enumerate(species)]) / len(species))**(1/2)\n",
    "print(RMSE_0, RMSE_1, RMSE_2, RMSE_3)\n",
    "print(100*outlet3.get_syngas_fraction('CH4', water=False, nitrogen=True))\n",
    "# outlet2 = gs.gasify_nonisot2(barrioWood, air, charFormation=char1, directMethaneConv=met1)\n",
    "# print(outlet2.T)\n",
    "# print(outlet2.get_syngas_fraction('H2', water=False, nitrogen=True))\n",
    "# print(outlet2.get_syngas_fraction('CO', water=False, nitrogen=True))\n",
    "# print(outlet2.get_syngas_fraction('CO2', water=False, nitrogen=True))\n",
    "# print(outlet2.get_syngas_fraction('CH4', water=False, nitrogen=True))\n",
    "# print(outlet2.get_syngas_fraction('N2', water=False, nitrogen=True))"
   ]
  }
 ],
 "metadata": {
  "kernelspec": {
   "display_name": "ct-env",
   "language": "python",
   "name": "python3"
  },
  "language_info": {
   "codemirror_mode": {
    "name": "ipython",
    "version": 3
   },
   "file_extension": ".py",
   "mimetype": "text/x-python",
   "name": "python",
   "nbconvert_exporter": "python",
   "pygments_lexer": "ipython3",
   "version": "3.9.12"
  },
  "orig_nbformat": 4,
  "vscode": {
   "interpreter": {
    "hash": "2f8f1d48e13c088e6e56ea43e4e7205e8329df80b1713cb4d658a3a978301f46"
   }
  }
 },
 "nbformat": 4,
 "nbformat_minor": 2
}
