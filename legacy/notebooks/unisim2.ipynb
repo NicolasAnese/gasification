{
 "cells": [
  {
   "cell_type": "code",
   "execution_count": 46,
   "metadata": {},
   "outputs": [],
   "source": [
    "import sys\n",
    "import cantera as ct\n",
    "import numpy as np\n",
    "import scipy.optimize as opt\n",
    "import matplotlib.pyplot as plt\n",
    "import pandas as pd\n",
    "\n",
    "import phases\n",
    "import feedstock as fs\n",
    "import fuel as fu\n",
    "import energy as en\n",
    "import gasifier as gs"
   ]
  },
  {
   "cell_type": "code",
   "execution_count": 47,
   "metadata": {},
   "outputs": [],
   "source": [
    "coalUltimate = [78.4750, 3.9681, 16.0249, 0.7044, 0.7748, 0.0528] # % daf\n",
    "coalAshWB = 0.128199 # fraction, w.b.\n",
    "coalMoistWB = 0.02 # fraction, w.b.\n",
    "coalHHV_WB = 24.727 # MJ/kg, w.b.\n",
    "coalLHV_WB = 24.155 # MJ/kg, w.b.\n",
    "ashMW = 80.7 # kg/kmol\n",
    "ashHF = -788.92 # MJ/kmol\n",
    "coalHF = -44.17 # MJ/kmol\n",
    "\n",
    "coalHHV_DB = coalHHV_WB / (1 - coalMoistWB) # MJ/kg, d.b.\n",
    "coalLHV_DB = coalLHV_WB / (1 - coalMoistWB) # MJ/kg, d.b.\n",
    "coalAshDB = coalAshWB / (1 - coalMoistWB) # fraction, d.b.\n",
    "coalMoistDB = coalMoistWB / (1 - coalMoistWB) # fraction, d.b.\n",
    "ashComposition = [54.06, 6.57, 23.18, 6.85, 0.82, 1.6, 1.83, 0.5, 1.05, 3.54, 0] # % of ash\n",
    "coal = fs.create_fuel_stream(10535, coalUltimate, coalAshDB, 5715/10535, HHV=coalHHV_DB, LHV=coalLHV_DB, ashComposition=ashComposition)\n",
    "initialCarbon = coal.species_moles[phases.indices['C(gr)']] * phases.Mw['C(gr)']"
   ]
  },
  {
   "cell_type": "code",
   "execution_count": 48,
   "metadata": {},
   "outputs": [],
   "source": [
    "O2 = fs.create_O2_stream(8750)\n",
    "O2.T = 60 + 273.15 # K\n",
    "coal.T = 60 + 273.15 # K\n",
    "O2.P = 4.2E6 # Pa\n",
    "coal.P = 4.2E6 # Pa"
   ]
  },
  {
   "cell_type": "code",
   "execution_count": 49,
   "metadata": {},
   "outputs": [
    {
     "name": "stdout",
     "output_type": "stream",
     "text": [
      "O2: 3.384932125144767e-13\n",
      "CO: 0.3781233220001839\n",
      "CO2: 0.14585213511172707\n",
      "H2: 0.22780175431599134\n",
      "H2O: 0.24470406987725407\n",
      "CH4: 7.984158280415671e-05\n",
      "N2: 0.0021867323287846187\n",
      "0.9987478552170836\n",
      "1050.0458605696501\n",
      "0.08005124086204925\n"
     ]
    }
   ],
   "source": [
    "outlet = gs.gasify_isot(coal, O2, T=1274+273.15, P=4.2E6, charFormation=0.08004)\n",
    "species = ['O2', 'CO', 'CO2', 'H2', 'H2O', 'CH4', 'N2']\n",
    "soma = 0\n",
    "for i, sp in enumerate(species):\n",
    "    frac = outlet.get_syngas_fraction(sp)\n",
    "    soma += frac\n",
    "    print(f'{sp}: {frac}')\n",
    "print(soma)\n",
    "print(outlet.get_syngas_amount('mole', water=True, nitrogen=True))\n",
    "print(outlet.species_moles[phases.indices['C(gr)']] * phases.Mw['C(gr)'] / initialCarbon)"
   ]
  }
 ],
 "metadata": {
  "kernelspec": {
   "display_name": "ct-env",
   "language": "python",
   "name": "python3"
  },
  "language_info": {
   "codemirror_mode": {
    "name": "ipython",
    "version": 3
   },
   "file_extension": ".py",
   "mimetype": "text/x-python",
   "name": "python",
   "nbconvert_exporter": "python",
   "pygments_lexer": "ipython3",
   "version": "3.9.12 (main, Apr  4 2022, 05:22:27) [MSC v.1916 64 bit (AMD64)]"
  },
  "orig_nbformat": 4,
  "vscode": {
   "interpreter": {
    "hash": "2f8f1d48e13c088e6e56ea43e4e7205e8329df80b1713cb4d658a3a978301f46"
   }
  }
 },
 "nbformat": 4,
 "nbformat_minor": 2
}
