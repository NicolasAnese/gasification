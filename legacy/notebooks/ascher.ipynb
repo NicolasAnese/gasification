{
 "cells": [
  {
   "cell_type": "code",
   "execution_count": 59,
   "metadata": {},
   "outputs": [],
   "source": [
    "import sys\n",
    "import cantera as ct\n",
    "import numpy as np\n",
    "import scipy.optimize as opt\n",
    "import matplotlib.pyplot as plt\n",
    "import pandas as pd\n",
    "\n",
    "import phases\n",
    "import feedstock as fs\n",
    "import fuel as fu\n",
    "import energy as en\n",
    "import gasifier as gs"
   ]
  },
  {
   "cell_type": "code",
   "execution_count": 60,
   "metadata": {},
   "outputs": [
    {
     "name": "stdout",
     "output_type": "stream",
     "text": [
      "    ID feed_type feed_shape  feed_particle_size  feed_LHV          C  \\\n",
      "6    7  plastics    pellets                 2.0      42.9  86.034130   \n",
      "7    8  plastics    pellets                 2.0      42.9  86.034130   \n",
      "8    9  plastics    pellets                 2.0      42.9  86.034130   \n",
      "9   10  plastics    pellets                 2.0      42.9  86.034130   \n",
      "10  11  plastics    pellets                 2.0      42.9  86.034130   \n",
      "11  12  plastics    pellets                 2.0      42.9  86.034130   \n",
      "12  13  plastics    pellets                 2.0      42.9  86.034130   \n",
      "13  14  plastics    pellets                 2.0      42.9  86.034130   \n",
      "14  15  plastics    pellets                 2.0      42.9  86.034130   \n",
      "15  16  plastics    pellets                 2.0      42.9  86.034130   \n",
      "16  17  plastics    pellets                 1.0      42.9  85.775757   \n",
      "17  18  plastics    pellets                 1.0      42.9  85.775757   \n",
      "18  19  plastics    pellets                 1.0      42.9  85.775757   \n",
      "19  20  plastics    pellets                 1.0      42.9  85.775757   \n",
      "\n",
      "            H    N    S    O  ...   CO2   CH4  C2Hn  gas_LHV  gas_tar  \\\n",
      "6   13.967894  0.0  0.0  0.0  ...   9.6   9.1   4.7      7.5    130.0   \n",
      "7   13.967894  0.0  0.0  0.0  ...  10.4   7.1   4.2      6.3     81.0   \n",
      "8   13.967894  0.0  0.0  0.0  ...   9.1  10.4   4.5      7.9    160.0   \n",
      "9   13.967894  0.0  0.0  0.0  ...   1.4   2.2   0.5      6.5      0.0   \n",
      "10  13.967894  0.0  0.0  0.0  ...   1.6   3.4   1.4      7.6      0.0   \n",
      "11  13.967894  0.0  0.0  0.0  ...   1.7   2.1   0.5      6.5      0.0   \n",
      "12  13.967894  0.0  0.0  0.0  ...   3.3   2.0   0.9      6.3      0.0   \n",
      "13  13.967894  0.0  0.0  0.0  ...   1.6   3.2   1.0      7.5      0.0   \n",
      "14  13.967894  0.0  0.0  0.0  ...   1.2   1.5   0.1      6.4      0.0   \n",
      "15  13.967894  0.0  0.0  0.0  ...   3.1   5.7   2.0      7.1      0.0   \n",
      "16  14.228206  0.0  0.0  0.0  ...   2.3   2.8   0.6      6.9      0.0   \n",
      "17  14.228206  0.0  0.0  0.0  ...   1.5   2.3   0.5      6.8      0.0   \n",
      "18  14.228206  0.0  0.0  0.0  ...   1.7   2.5   0.7      7.0      0.0   \n",
      "19  14.228206  0.0  0.0  0.0  ...   5.1   7.3   2.4      7.7      0.0   \n",
      "\n",
      "    gas_yield  char_yield   CGE         CCE  \\\n",
      "6    3.312000         NaN  58.0   60.032405   \n",
      "7    4.342857         NaN  63.0   72.877459   \n",
      "8    2.962025         NaN  55.0   54.941085   \n",
      "9    5.427692         NaN  82.0   76.444539   \n",
      "10   4.168421         NaN  74.0   62.719851   \n",
      "11   5.649231         NaN  85.0   80.625716   \n",
      "12   6.000000         NaN  88.0   92.090861   \n",
      "13   4.800000         NaN  84.0   71.051350   \n",
      "14   6.187500         NaN  92.0   84.141147   \n",
      "15   5.678873         NaN  94.0  101.957312   \n",
      "16   4.904348         NaN  79.0   67.345533   \n",
      "17   5.823529         NaN  93.0   86.616531   \n",
      "18   5.142857         NaN  84.0   75.428584   \n",
      "19   5.142857         NaN  93.0  101.553048   \n",
      "\n",
      "                                      Reference  \n",
      "6   Arena, Waste Management 2010, 30, 1212-1219  \n",
      "7   Arena, Waste Management 2010, 30, 1212-1219  \n",
      "8   Arena, Waste Management 2010, 30, 1212-1219  \n",
      "9   Arena, Waste Management 2010, 30, 1212-1219  \n",
      "10  Arena, Waste Management 2010, 30, 1212-1219  \n",
      "11  Arena, Waste Management 2010, 30, 1212-1219  \n",
      "12  Arena, Waste Management 2010, 30, 1212-1219  \n",
      "13  Arena, Waste Management 2010, 30, 1212-1219  \n",
      "14  Arena, Waste Management 2010, 30, 1212-1219  \n",
      "15  Arena, Waste Management 2010, 30, 1212-1219  \n",
      "16  Arena, Waste Management 2010, 30, 1212-1219  \n",
      "17  Arena, Waste Management 2010, 30, 1212-1219  \n",
      "18  Arena, Waste Management 2010, 30, 1212-1219  \n",
      "19  Arena, Waste Management 2010, 30, 1212-1219  \n",
      "\n",
      "[14 rows x 41 columns]\n"
     ]
    }
   ],
   "source": [
    "df = pd.read_excel('data/ascher_data.xlsx', 'Clean Data')\n",
    "df1 = df[6:20]\n",
    "print(df1)"
   ]
  },
  {
   "cell_type": "code",
   "execution_count": 63,
   "metadata": {},
   "outputs": [
    {
     "name": "stdout",
     "output_type": "stream",
     "text": [
      "19.561716708285235\n",
      "14.957343276034562\n",
      "19.61238697288239\n",
      "16.83803412314439\n",
      "19.61238697288239\n",
      "16.381068174489666\n",
      "14.957343276034562\n",
      "19.152830087334443\n",
      "15.947972473763\n",
      "15.536864046767382\n",
      "19.424221942617233\n",
      "17.271535081878515\n",
      "18.837790481932508\n",
      "16.36305766262735\n"
     ]
    }
   ],
   "source": [
    "for i, row in df1.iterrows():\n",
    "    ultimate = [row['C'], row['H'], row['O'], row['N'], row['S'], 0]\n",
    "    ash = row['feed_ash'] / 100\n",
    "    moist = row['feed_moisture'] / (100 - row['feed_moisture'])\n",
    "    Tg = row['temperature'] + 273.15 # K\n",
    "    SR = row['steam_biomass_ratio']\n",
    "    ER = row['ER']\n",
    "    LHV_wb = row['feed_LHV']\n",
    "    LHV = LHV_wb * (1 + moist)\n",
    "    feed = fs.create_fuel_stream(1, ultimate, ash, moist, LHV=LHV)\n",
    "    feed.set_HHV_from_LHV(LHV)\n",
    "    agent = fs.create_air_from_ER(feed, ER)\n",
    "    stoichAir = fs.create_air_from_ER(feed, 1.0)\n",
    "    stoichAirMass = stoichAir.get_mass()\n",
    "    outlet_iso = gs.gasify_isot(feed, agent, T=Tg, charFormation=0, directMethaneConv=0)\n",
    "    outlet_non = gs.gasify_nonisot(feed, agent, heatLossFraction=0, charFormation=0, directMethaneConv=0.2)\n",
    "    print(100*outlet_non.get_syngas_fraction('H2', water=False, nitrogen=True))"
   ]
  }
 ],
 "metadata": {
  "kernelspec": {
   "display_name": "ct-env",
   "language": "python",
   "name": "python3"
  },
  "language_info": {
   "codemirror_mode": {
    "name": "ipython",
    "version": 3
   },
   "file_extension": ".py",
   "mimetype": "text/x-python",
   "name": "python",
   "nbconvert_exporter": "python",
   "pygments_lexer": "ipython3",
   "version": "3.9.12 (main, Apr  4 2022, 05:22:27) [MSC v.1916 64 bit (AMD64)]"
  },
  "orig_nbformat": 4,
  "vscode": {
   "interpreter": {
    "hash": "2f8f1d48e13c088e6e56ea43e4e7205e8329df80b1713cb4d658a3a978301f46"
   }
  }
 },
 "nbformat": 4,
 "nbformat_minor": 2
}
