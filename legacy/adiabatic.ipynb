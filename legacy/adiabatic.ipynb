{
 "cells": [
  {
   "cell_type": "code",
   "execution_count": 1,
   "metadata": {},
   "outputs": [
    {
     "name": "stdout",
     "output_type": "stream",
     "text": [
      "CanteraWarning: NasaPoly2::validate: \n",
      "For species Fe(c), discontinuity in cp/R detected at Tmid = 1000.0\n",
      "\tValue computed using low-temperature polynomial:  0.0\n",
      "\tValue computed using high-temperature polynomial: 4.2881898\n",
      "\n",
      "CanteraWarning: NasaPoly2::validate: \n",
      "For species Fe(c), discontinuity in h/RT detected at Tmid = 1000.0\n",
      "\tValue computed using low-temperature polynomial:  0.0\n",
      "\tValue computed using high-temperature polynomial: 3.425820683333331\n",
      "\n",
      "CanteraWarning: NasaPoly2::validate: \n",
      "For species Fe(c), discontinuity in s/R detected at Tmid = 1000.0\n",
      "\tValue computed using low-temperature polynomial:  0.0\n",
      "\tValue computed using high-temperature polynomial: 8.486560101557188\n",
      "\n",
      "CanteraWarning: NasaPoly2::validate: \n",
      "For species Cr(cr), discontinuity in cp/R detected at Tmid = 1000.0\n",
      "\tValue computed using low-temperature polynomial:  749.1520512400002\n",
      "\tValue computed using high-temperature polynomial: 0.0\n",
      "\n",
      "CanteraWarning: NasaPoly2::validate: \n",
      "For species Cr(cr), discontinuity in h/RT detected at Tmid = 1000.0\n",
      "\tValue computed using low-temperature polynomial:  113.24055562733336\n",
      "\tValue computed using high-temperature polynomial: 0.0\n",
      "\n",
      "CanteraWarning: NasaPoly2::validate: \n",
      "For species Cr(cr), discontinuity in s/R detected at Tmid = 1000.0\n",
      "\tValue computed using low-temperature polynomial:  135.51255437035232\n",
      "\tValue computed using high-temperature polynomial: 0.0\n",
      "\n"
     ]
    }
   ],
   "source": [
    "# Importing libraries\n",
    "import numpy as np\n",
    "import pandas as pd\n",
    "import cantera as ct\n",
    "import matplotlib.pyplot as plt\n",
    "import json\n",
    "\n",
    "# Importing packages\n",
    "import feedstock as fs\n",
    "import pp\n",
    "import gasifier as g\n",
    "import fuel as fu\n",
    "import energy as en\n",
    "import outputs as op"
   ]
  },
  {
   "cell_type": "code",
   "execution_count": 2,
   "metadata": {},
   "outputs": [],
   "source": [
    "fuelID = \"Rubber\"\n",
    "Info = {\"Description\":\"Rubber wood\", \"Type\":\"Biomass\", \"Category\":\"Sawdust\", \"Reference\":\"Jayah et al.\", \"Year\":\"2003\", \"DOI\":\"10.1016/S0961-9534(03)00037-0\"}\n",
    "moist = [None, None]\n",
    "prox = [\"db\", 19.2, 80.1, 0.7]\n",
    "HV = [19.6, None]\n",
    "biochem = [None, None, None, None]\n",
    "ult = [\"db\", 50.6, 6.5, 42.0, 0.2, None, None]\n",
    "ashC = [None, None, None, None, None, None, None, None, None, None, None]\n",
    "fu.addToDatabase(fuelID, Info, moist, prox, HV, biochem, ult, ashC)"
   ]
  },
  {
   "cell_type": "code",
   "execution_count": 3,
   "metadata": {},
   "outputs": [
    {
     "name": "stdout",
     "output_type": "stream",
     "text": [
      "19.58\n",
      "-3741.0460880329497 kJ/kg\n",
      "-48678.36719316474 kJ/kg\n"
     ]
    }
   ],
   "source": [
    "fuelID = \"Sorghum\"\n",
    "fuelMix = fs.getFuelMix(fuelID, 1.0) # 1 kg\n",
    "HHV = fu.HV(fuelID, 'HHV')\n",
    "print(HHV)\n",
    "Hfo = en.hFormation(fuelID, HHV)\n",
    "print(Hfo/1000, \"kJ/kg\")\n",
    "print((-190.3-1407*fs.OHCratio(fuelMix)[1])*2.326*fs.Mw(fuelMix), \"kJ/kg\")"
   ]
  },
  {
   "cell_type": "code",
   "execution_count": 4,
   "metadata": {},
   "outputs": [],
   "source": [
    "#g.NonIsotGasification(fuelID, fuelMass=1.0, moist=0.0, T0=730+273.15, P=ct.one_atm, air=0.35, stm=0.0, airType='ER', stmType='SR', heatLoss=0.0, guess=pp.To)"
   ]
  },
  {
   "cell_type": "code",
   "execution_count": 5,
   "metadata": {},
   "outputs": [
    {
     "name": "stdout",
     "output_type": "stream",
     "text": [
      "nan\n"
     ]
    },
    {
     "name": "stderr",
     "output_type": "stream",
     "text": [
      "d:\\user\\Desktop\\Faculdade\\IC Rodolfo\\gasification\\energy.py:147: RuntimeWarning: invalid value encountered in double_scalars\n",
      "  h = (self.phase_moles(self.phase_index('solid')) \\\n"
     ]
    }
   ],
   "source": [
    "O2mix = pp.mix()\n",
    "O2mix.species_moles[pp.i['O2']] = 50\n",
    "O2mix.T = 1000\n",
    "O2mix.P = 101325\n",
    "print(en.get_enthalpy(O2mix))"
   ]
  }
 ],
 "metadata": {
  "kernelspec": {
   "display_name": "Python 3.9.12 ('ct-env')",
   "language": "python",
   "name": "python3"
  },
  "language_info": {
   "codemirror_mode": {
    "name": "ipython",
    "version": 3
   },
   "file_extension": ".py",
   "mimetype": "text/x-python",
   "name": "python",
   "nbconvert_exporter": "python",
   "pygments_lexer": "ipython3",
   "version": "3.9.12"
  },
  "orig_nbformat": 4,
  "vscode": {
   "interpreter": {
    "hash": "2f8f1d48e13c088e6e56ea43e4e7205e8329df80b1713cb4d658a3a978301f46"
   }
  }
 },
 "nbformat": 4,
 "nbformat_minor": 2
}
