{
 "cells": [
  {
   "cell_type": "code",
   "execution_count": 1,
   "metadata": {},
   "outputs": [
    {
     "name": "stdout",
     "output_type": "stream",
     "text": [
      "CanteraWarning: NasaPoly2::validate: \n",
      "For species Fe(c), discontinuity in cp/R detected at Tmid = 1000.0\n",
      "\tValue computed using low-temperature polynomial:  0.0\n",
      "\tValue computed using high-temperature polynomial: 4.2881898\n",
      "\n",
      "CanteraWarning: NasaPoly2::validate: \n",
      "For species Fe(c), discontinuity in h/RT detected at Tmid = 1000.0\n",
      "\tValue computed using low-temperature polynomial:  0.0\n",
      "\tValue computed using high-temperature polynomial: 3.425820683333331\n",
      "\n",
      "CanteraWarning: NasaPoly2::validate: \n",
      "For species Fe(c), discontinuity in s/R detected at Tmid = 1000.0\n",
      "\tValue computed using low-temperature polynomial:  0.0\n",
      "\tValue computed using high-temperature polynomial: 8.486560101557188\n",
      "\n",
      "CanteraWarning: NasaPoly2::validate: \n",
      "For species Cr(cr), discontinuity in cp/R detected at Tmid = 1000.0\n",
      "\tValue computed using low-temperature polynomial:  749.1520512400002\n",
      "\tValue computed using high-temperature polynomial: 0.0\n",
      "\n",
      "CanteraWarning: NasaPoly2::validate: \n",
      "For species Cr(cr), discontinuity in h/RT detected at Tmid = 1000.0\n",
      "\tValue computed using low-temperature polynomial:  113.24055562733336\n",
      "\tValue computed using high-temperature polynomial: 0.0\n",
      "\n",
      "CanteraWarning: NasaPoly2::validate: \n",
      "For species Cr(cr), discontinuity in s/R detected at Tmid = 1000.0\n",
      "\tValue computed using low-temperature polynomial:  135.51255437035232\n",
      "\tValue computed using high-temperature polynomial: 0.0\n",
      "\n"
     ]
    }
   ],
   "source": [
    "# Importing libraries\n",
    "import numpy as np\n",
    "import pandas as pd\n",
    "import cantera as ct\n",
    "import matplotlib.pyplot as plt\n",
    "import json\n",
    "\n",
    "# Importing packages\n",
    "import feedstock as fs\n",
    "import pp\n",
    "import gasifier as g\n",
    "import fuel as fu\n",
    "import energy as en\n",
    "import outputs as op"
   ]
  },
  {
   "cell_type": "code",
   "execution_count": 9,
   "metadata": {},
   "outputs": [
    {
     "name": "stdout",
     "output_type": "stream",
     "text": [
      "0.11402219878937755 0.11402219878937755\n"
     ]
    }
   ],
   "source": [
    "fuelID = 'Rubber'\n",
    "ER = 0.5\n",
    "T = 1000 # K\n",
    "P = ct.one_atm\n",
    "moist = 0.0\n",
    "species = ['C(gr)','N2','O2','H2','CO','CH4','CO2','H2O']\n",
    "\n",
    "results = g.gasifier(fuelID, moist=moist, T=T, P=P, air=ER, species=species)\n",
    "report = results[0]\n",
    "print(report['CO2'], report['CO2'])\n"
   ]
  },
  {
   "cell_type": "code",
   "execution_count": 3,
   "metadata": {},
   "outputs": [
    {
     "ename": "IndentationError",
     "evalue": "unexpected indent (3856230087.py, line 14)",
     "output_type": "error",
     "traceback": [
      "\u001b[1;36m  Input \u001b[1;32mIn [3]\u001b[1;36m\u001b[0m\n\u001b[1;33m    report['H/C'] = HC\u001b[0m\n\u001b[1;37m    ^\u001b[0m\n\u001b[1;31mIndentationError\u001b[0m\u001b[1;31m:\u001b[0m unexpected indent\n"
     ]
    }
   ],
   "source": [
    "report = {}\n",
    "\n",
    "report['FuelID'] = fuelID\n",
    "report['Fuel'] = fu.fuels.loc[fuelID]['Description']\n",
    "report['Fuel mass'] = fuelMass\n",
    "report['Moisture'] = moist\n",
    "report['T'] = T - 273.15\n",
    "report['P'] = P/ct.one_atm\n",
    "report['ER'] = ER\n",
    "report['SR'] = SR\n",
    "\n",
    "OC, HC = fs.OHCratio(fuelMix)\n",
    "report['O/C'] = OC\n",
    "    report['H/C'] = HC\n",
    "\n",
    "    gasFracs = op.getAmounts(outlet, species, norm=True, phase='gas')\n",
    "    for i, s in enumerate(species):\n",
    "        report[s] = gasFracs[i] # All species must be in gas phase\n",
    "\n",
    "    report['H2/CO'] = op.H2CO(outlet)\n",
    "    report['CC'] = op.carbonConv(outlet, feed)*100\n",
    "    report['Y'] = op.gasYield(outlet, basis='vol')/fuelMass\n",
    "    report['HHV'] = op.syngasHHV(outlet, basis='fuel mass', fuelMass=fuelMass)\n",
    "\n",
    "    fuelLHV = fu.HV(fuelID, type='LHV', moist=moist)\n",
    "    report['CGE'] = op.coldGasEff(outlet, fuelLHV, moist=moist)*100  \n"
   ]
  }
 ],
 "metadata": {
  "kernelspec": {
   "display_name": "Python 3.9.12 ('ct-env')",
   "language": "python",
   "name": "python3"
  },
  "language_info": {
   "codemirror_mode": {
    "name": "ipython",
    "version": 3
   },
   "file_extension": ".py",
   "mimetype": "text/x-python",
   "name": "python",
   "nbconvert_exporter": "python",
   "pygments_lexer": "ipython3",
   "version": "3.9.12"
  },
  "orig_nbformat": 4,
  "vscode": {
   "interpreter": {
    "hash": "2f8f1d48e13c088e6e56ea43e4e7205e8329df80b1713cb4d658a3a978301f46"
   }
  }
 },
 "nbformat": 4,
 "nbformat_minor": 2
}
