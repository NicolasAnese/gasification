{
 "cells": [
  {
   "cell_type": "code",
   "execution_count": 1,
   "metadata": {},
   "outputs": [
    {
     "name": "stdout",
     "output_type": "stream",
     "text": [
      "CanteraWarning: NasaPoly2::validate: \n",
      "For species Fe(c), discontinuity in cp/R detected at Tmid = 1000.0\n",
      "\tValue computed using low-temperature polynomial:  0.0\n",
      "\tValue computed using high-temperature polynomial: 4.2881898\n",
      "\n",
      "CanteraWarning: NasaPoly2::validate: \n",
      "For species Fe(c), discontinuity in h/RT detected at Tmid = 1000.0\n",
      "\tValue computed using low-temperature polynomial:  0.0\n",
      "\tValue computed using high-temperature polynomial: 3.425820683333331\n",
      "\n",
      "CanteraWarning: NasaPoly2::validate: \n",
      "For species Fe(c), discontinuity in s/R detected at Tmid = 1000.0\n",
      "\tValue computed using low-temperature polynomial:  0.0\n",
      "\tValue computed using high-temperature polynomial: 8.486560101557188\n",
      "\n",
      "CanteraWarning: NasaPoly2::validate: \n",
      "For species Cr(cr), discontinuity in cp/R detected at Tmid = 1000.0\n",
      "\tValue computed using low-temperature polynomial:  749.1520512400002\n",
      "\tValue computed using high-temperature polynomial: 0.0\n",
      "\n",
      "CanteraWarning: NasaPoly2::validate: \n",
      "For species Cr(cr), discontinuity in h/RT detected at Tmid = 1000.0\n",
      "\tValue computed using low-temperature polynomial:  113.24055562733336\n",
      "\tValue computed using high-temperature polynomial: 0.0\n",
      "\n",
      "CanteraWarning: NasaPoly2::validate: \n",
      "For species Cr(cr), discontinuity in s/R detected at Tmid = 1000.0\n",
      "\tValue computed using low-temperature polynomial:  135.51255437035232\n",
      "\tValue computed using high-temperature polynomial: 0.0\n",
      "\n",
      "CanteraWarning: NasaPoly2::validate: \n",
      "For species Fe(c), discontinuity in cp/R detected at Tmid = 1000.0\n",
      "\tValue computed using low-temperature polynomial:  0.0\n",
      "\tValue computed using high-temperature polynomial: 4.2881898\n",
      "\n",
      "CanteraWarning: NasaPoly2::validate: \n",
      "For species Fe(c), discontinuity in h/RT detected at Tmid = 1000.0\n",
      "\tValue computed using low-temperature polynomial:  0.0\n",
      "\tValue computed using high-temperature polynomial: 3.425820683333331\n",
      "\n",
      "CanteraWarning: NasaPoly2::validate: \n",
      "For species Fe(c), discontinuity in s/R detected at Tmid = 1000.0\n",
      "\tValue computed using low-temperature polynomial:  0.0\n",
      "\tValue computed using high-temperature polynomial: 8.486560101557188\n",
      "\n",
      "CanteraWarning: NasaPoly2::validate: \n",
      "For species Cr(cr), discontinuity in cp/R detected at Tmid = 1000.0\n",
      "\tValue computed using low-temperature polynomial:  749.1520512400002\n",
      "\tValue computed using high-temperature polynomial: 0.0\n",
      "\n",
      "CanteraWarning: NasaPoly2::validate: \n",
      "For species Cr(cr), discontinuity in h/RT detected at Tmid = 1000.0\n",
      "\tValue computed using low-temperature polynomial:  113.24055562733336\n",
      "\tValue computed using high-temperature polynomial: 0.0\n",
      "\n",
      "CanteraWarning: NasaPoly2::validate: \n",
      "For species Cr(cr), discontinuity in s/R detected at Tmid = 1000.0\n",
      "\tValue computed using low-temperature polynomial:  135.51255437035232\n",
      "\tValue computed using high-temperature polynomial: 0.0\n",
      "\n"
     ]
    }
   ],
   "source": [
    "# Importação de bibliotecas\n",
    "import numpy as np\n",
    "import pandas as pd\n",
    "import cantera as ct\n",
    "import feedstock2 as fs\n",
    "import pp2 as pp\n",
    "import gasifier2 as g\n",
    "import fuel as fu\n",
    "import energy as en\n",
    "import outputs as op"
   ]
  },
  {
   "cell_type": "code",
   "execution_count": 2,
   "metadata": {},
   "outputs": [],
   "source": [
    "# Bibliotecas antigas\n",
    "import feedstock as fs1\n",
    "import pp as pp1\n",
    "import gasifier as g1"
   ]
  },
  {
   "cell_type": "code",
   "execution_count": 3,
   "metadata": {},
   "outputs": [],
   "source": [
    "# Definição dos parâmetros\n",
    "fuel1 = 'SMC'\n",
    "fuel2 = 'RS'\n",
    "T = 940 + 273.15\n",
    "P = ct.one_atm\n",
    "ER = 0.32\n",
    "SR = 0.49/(pp.Mw['H2O']/pp.Mw['C'])\n",
    "m1 = 2.4\n",
    "m2 = 0.6\n",
    "mt = m1+m2\n",
    "moist = 0\n",
    "fm1 = fs.getFuelMix(fuel1, m1/mt)\n",
    "fm2 = fs.getFuelMix(fuel2, m2/mt)\n",
    "bld = fs.blend(fm1, fm2)\n",
    "air = fs.ERtoair(bld, ER)\n",
    "steam = fs.SRtosteam(bld, SR)\n",
    "f = g.getFeed(bld, 0, air, steam)\n",
    "#print(fs.getFuelMass(f)/(air+steam+m1+m2))\n",
    "\n",
    "# Gaseificação\n",
    "a, b = g.isotCogasification(fuel1, fuel2, m1/mt, m2/m1, moist, T, P, air, steam, 'air', 'steam')"
   ]
  },
  {
   "cell_type": "code",
   "execution_count": 4,
   "metadata": {},
   "outputs": [
    {
     "name": "stdout",
     "output_type": "stream",
     "text": [
      "2.7303258121106464\n",
      "2.730325812110646\n",
      "0.323174442670668\n",
      "0.323174442670668\n"
     ]
    }
   ],
   "source": [
    "fracs = fs1.fraction([fuel1, fuel2])['mass']\n",
    "fracmix = g1.blending(m2/mt, fracs[0], fracs[1])\n",
    "\n",
    "air1 = g1.mass_of_air(fracmix, 1, ER)\n",
    "print(air1)\n",
    "print(air)\n",
    "\n",
    "steam1 = g1.mass_of_steam(fracmix, 1, SR)\n",
    "print(steam1)\n",
    "print(steam)"
   ]
  },
  {
   "cell_type": "code",
   "execution_count": 5,
   "metadata": {},
   "outputs": [
    {
     "name": "stdout",
     "output_type": "stream",
     "text": [
      "2.303929616531697e-19\n"
     ]
    }
   ],
   "source": [
    "p1,r1 = g1.equilibrate_tp(fracmix, moist, 1, air, 0, steam, T, P)\n",
    "print(p1[0] - b.species_moles[0])"
   ]
  },
  {
   "cell_type": "code",
   "execution_count": 6,
   "metadata": {},
   "outputs": [
    {
     "name": "stdout",
     "output_type": "stream",
     "text": [
      "0 C(gr)\n",
      "1 AL2O3(a)\n",
      "10 CaO(s)\n",
      "15 Fe2O3(s)\n",
      "21 K2O(s)\n",
      "26 MgO(s)\n",
      "32 Na2O(c)\n",
      "40 SiO2(hqz)\n",
      "43 TiO2(ru)\n",
      "49 Cr2O3(s)\n",
      "52 C\n",
      "56 H\n",
      "59 H2O\n",
      "60 O\n",
      "61 O2\n",
      "62 N\n",
      "63 N2\n",
      "67 S\n",
      "73 SO3\n",
      "76 CL\n",
      "85 P2O5\n",
      "89 Ar\n"
     ]
    }
   ],
   "source": [
    "print(0, pp.i_inv[0])\n",
    "print(1, pp.i_inv[1])\n",
    "print(10,pp.i_inv[10])\n",
    "print(15,pp.i_inv[15])\n",
    "print(21,pp.i_inv[21])\n",
    "print(26,pp.i_inv[26])\n",
    "print(32,pp.i_inv[32])\n",
    "print(40,pp.i_inv[40])\n",
    "print(43,pp.i_inv[43])\n",
    "print(49,pp.i_inv[49])\n",
    "print(52,pp.i_inv[52])\n",
    "print(56,pp.i_inv[56])\n",
    "print(59,pp.i_inv[59])\n",
    "print(60,pp.i_inv[60])\n",
    "print(61,pp.i_inv[61])\n",
    "print(62,pp.i_inv[62])\n",
    "print(63,pp.i_inv[63])\n",
    "print(67,pp.i_inv[67])\n",
    "print(73,pp.i_inv[73])\n",
    "print(76,pp.i_inv[76])\n",
    "print(85,pp.i_inv[85])\n",
    "print(89,pp.i_inv[89])"
   ]
  },
  {
   "cell_type": "code",
   "execution_count": 7,
   "metadata": {},
   "outputs": [
    {
     "name": "stdout",
     "output_type": "stream",
     "text": [
      "3.889849356874009\n",
      "19.829758949171172\n",
      "42.935057931983394\n",
      "27.94730133663259\n",
      "0.0018129686654479351\n",
      "0.7095411005991782\n",
      "1.2934712118341203\n",
      "1.4924713890441967\n"
     ]
    }
   ],
   "source": [
    "# Printando os dados\n",
    "print(b.species_moles[pp.i['CO2']]/sum(b.species_moles)*100)\n",
    "print(b.species_moles[pp.i['H2']]/sum(b.species_moles)*100)\n",
    "print(b.species_moles[pp.i['N2']]/sum(b.species_moles)*100)\n",
    "print(b.species_moles[pp.i['CO']]/sum(b.species_moles)*100)\n",
    "print(b.species_moles[pp.i['CH4']]/sum(b.species_moles)*100)\n",
    "print(b.species_moles[pp.i['H2']]/b.species_moles[pp.i['CO']])\n",
    "\n",
    "# fracs = a.species_moles/sum(a.species_moles)\n",
    "# #print(a.species_moles)\n",
    "# print(fracs[1])\n",
    "\n",
    "OC = a.element_moles('O')/a.element_moles('C')\n",
    "HC = a.element_moles('H')/a.element_moles('C')\n",
    "\n",
    "print(OC)\n",
    "print(HC)"
   ]
  },
  {
   "cell_type": "code",
   "execution_count": 8,
   "metadata": {},
   "outputs": [
    {
     "name": "stdout",
     "output_type": "stream",
     "text": [
      "2.0161424817955003\n",
      "['AL2O3(a)', 'AL2SiO5(an)', 'AL6Si2O13(s)', 'CaS(s)', 'CaO(s)', 'FeS(a)', 'K(cr)', 'MgAL2O4(s)', 'MgO(s)', 'MgSiO3(II)', 'Mg2SiO4(s)', 'NaALO2(b)', 'SiO2(hqz)', 'TiO2(ru)', 'CH4', 'CO', 'CO2', 'H2', 'H2O', 'N2', 'NH3', 'H2S', 'COS', 'P2', 'PH3', 'PO', 'PO2', 'Ar']\n",
      "1.7981444699568256e-06\n"
     ]
    }
   ],
   "source": [
    "print(op.gasYield(b))\n",
    "print(op.getSpecies(b))\n",
    "print(b.species_moles[pp.i['AL6Si2O13(s)']]/sum(b.species_moles))"
   ]
  },
  {
   "cell_type": "code",
   "execution_count": 9,
   "metadata": {},
   "outputs": [
    {
     "name": "stdout",
     "output_type": "stream",
     "text": [
      "[5.61602209e-04 4.77194736e-04 1.87164565e-06 7.18076709e-04\n",
      " 3.29320084e-04 4.64212942e-04 1.11534056e-03 4.23231267e-05\n",
      " 2.33974169e-05 3.45943405e-04 1.34558328e-05 2.12140093e-04\n",
      " 5.01763959e-03 6.95034644e-05 1.88707581e-05 2.90896788e-01\n",
      " 4.04885134e-02 2.06403227e-01 4.08761287e-02 4.46900769e-01\n",
      " 1.09341924e-05 2.07100637e-04 9.30645517e-06 6.70039864e-05\n",
      " 2.01982570e-06 2.50901341e-06 2.61914105e-06 5.28737113e-03]\n",
      "[5.35896823e-04 4.55352807e-04 1.78597759e-06 6.85209246e-04\n",
      " 3.14246603e-04 4.42965210e-04 1.06428972e-03 4.03859328e-05\n",
      " 2.23264816e-05 3.30109049e-04 1.28399388e-05 2.02430119e-04\n",
      " 4.78797460e-03 6.63221852e-05 1.80070148e-05 2.77582000e-01\n",
      " 3.86352926e-02 1.96955838e-01 3.90051661e-02 4.26445441e-01\n",
      " 1.04337178e-05 1.97621326e-04 8.88048457e-06 6.39371121e-05\n",
      " 1.92737521e-06 2.39417205e-06 2.49925898e-06 5.04536011e-03]\n"
     ]
    }
   ],
   "source": [
    "print(op.getAmounts(b, op.getSpecies(b), norm=True, db=True))\n",
    "print(g1.get_fraction(p1, op.getSpecies(b), normalized='n', db='y'))"
   ]
  },
  {
   "cell_type": "code",
   "execution_count": 10,
   "metadata": {},
   "outputs": [
    {
     "name": "stdout",
     "output_type": "stream",
     "text": [
      "0.9990671303963669\n",
      "0.9990671303963669\n"
     ]
    }
   ],
   "source": [
    "print(g1.carbon_conversion(p1, r1))\n",
    "print(op.carbonConv(b, a))"
   ]
  }
 ],
 "metadata": {
  "interpreter": {
   "hash": "ab41b54e4c1455ad47a64297637293cdab919e934b3b21d6ec5db0dcb5c25070"
  },
  "kernelspec": {
   "display_name": "Python 3.9.12 ('ct-env')",
   "language": "python",
   "name": "python3"
  },
  "language_info": {
   "codemirror_mode": {
    "name": "ipython",
    "version": 3
   },
   "file_extension": ".py",
   "mimetype": "text/x-python",
   "name": "python",
   "nbconvert_exporter": "python",
   "pygments_lexer": "ipython3",
   "version": "3.9.12"
  },
  "orig_nbformat": 4
 },
 "nbformat": 4,
 "nbformat_minor": 2
}
