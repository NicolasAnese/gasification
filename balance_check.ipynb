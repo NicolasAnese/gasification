{
 "cells": [
  {
   "cell_type": "code",
   "execution_count": 13,
   "metadata": {},
   "outputs": [],
   "source": [
    "# Importing the necessary libraries and modules\n",
    "\n",
    "import cantera as ct\n",
    "import numpy as np\n",
    "\n",
    "import phases\n",
    "import feedstock as fs\n",
    "import fuel as fu\n",
    "import energy as en\n",
    "import gasifier as gs"
   ]
  },
  {
   "cell_type": "code",
   "execution_count": 14,
   "metadata": {},
   "outputs": [],
   "source": [
    "# Creating a fuel stream using the fuel information\n",
    "# Fuel information by Altafini et al. (2003)\n",
    "# https://doi.org/10.1016/S0196-8904(03)00025-6\n",
    "\n",
    "ultimate = [52.00, 6.07, 41.55, 0.28, 0, 0]\n",
    "ashDB = 0.10 / 100 # 0.1% ash, dry basis\n",
    "HHV = 20.407 # MJ/kg\n",
    "moistWB = 0.11 # 11% moisture, wet basis\n",
    "moistDB = moistWB / (1 - moistWB)\n",
    "fuelDryMass = 11.7 # kg\n",
    "# Using the create_fuel_stream function to create the fuel\n",
    "fuel = fs.create_fuel_stream(fuelDryMass, ultimate, ashDB, moistDB, HHV)\n",
    "fuelMass = fuel.get_mass() # Fuel mass, in kg, including moisture\n",
    "\n",
    "# Creating an air stream using an Air/Fuel ratio\n",
    "AFR = 1.829 # Air/Fuel ratio, in kg/kg\n",
    "airMass = AFR * fuelMass # Air mass, in kg\n",
    "# Using the create_sir_stream function to create the air given a mass in kg\n",
    "air = fs.create_air_stream(airMass)\n",
    "\n",
    "# Simulating the gasification and saving the outlet results\n",
    "# T = 832°C (isothermal)\n",
    "# P = 0.93 bar\n",
    "\n",
    "outlet = gs.gasify_isot(fuel, air, T=832+273.15, P=0.93*1E5, charFormation=0.1, directMethaneConv=0.2)"
   ]
  },
  {
   "cell_type": "code",
   "execution_count": 15,
   "metadata": {},
   "outputs": [
    {
     "name": "stdout",
     "output_type": "stream",
     "text": [
      "Global mass balance: True\n"
     ]
    }
   ],
   "source": [
    "# The global mass balance will be the following equation:\n",
    "# mass_in - mass_out = 0\n",
    "# fuel_mass + air_mass - outlet_mass = 0\n",
    "# Therefore, if the variable \"global_mass_balance\" is defined as follows, then it must be as close to zero as possible\n",
    "global_mass_balance = fuelMass + airMass - outlet.get_mass()\n",
    "# A simple test to check if the \"global_mass_balance\" is, in fact, zero (or as close as possible, up to 1e-8)\n",
    "print(f'Global mass balance: {np.isclose(global_mass_balance, 0, atol=1e-8)}')"
   ]
  },
  {
   "cell_type": "code",
   "execution_count": 16,
   "metadata": {},
   "outputs": [
    {
     "name": "stdout",
     "output_type": "stream",
     "text": [
      "C mole balance: True\n",
      "H mole balance: True\n",
      "O mole balance: True\n",
      "N mole balance: True\n",
      "S mole balance: True\n",
      "Cl mole balance: True\n",
      "Si mole balance: True\n",
      "Ca mole balance: True\n",
      "Al mole balance: True\n",
      "Fe mole balance: True\n",
      "Na mole balance: True\n",
      "K mole balance: True\n",
      "Mg mole balance: True\n",
      "P mole balance: True\n",
      "Ti mole balance: True\n",
      "Cr mole balance: True\n",
      "Ar mole balance: True\n"
     ]
    }
   ],
   "source": [
    "# The following elements are present in the phases (solid and gas):\n",
    "elements = ['C', 'H', 'O', 'N', 'S', 'Cl', 'Si', 'Ca', 'Al', 'Fe', 'Na', 'K', 'Mg', 'P', 'Ti', 'Cr', 'Ar']\n",
    "\n",
    "for i, e in enumerate(elements):\n",
    "    # For each element, the mole balance must be preserved.\n",
    "    # Therefore, the \"mole_balance\" variable must be as close to zero as possible.\n",
    "    mole_balance = fuel.element_moles(e) + air.element_moles(e) - outlet.element_moles(e)\n",
    "    # A simple test to check if the \"mole_balance\" is, in fact, zero (or as close as possible, up to 1e-8)\n",
    "    print(f'{e} mole balance: {np.isclose(mole_balance, 0, atol=1e-8)}')"
   ]
  }
 ],
 "metadata": {
  "kernelspec": {
   "display_name": "ct-env",
   "language": "python",
   "name": "python3"
  },
  "language_info": {
   "codemirror_mode": {
    "name": "ipython",
    "version": 3
   },
   "file_extension": ".py",
   "mimetype": "text/x-python",
   "name": "python",
   "nbconvert_exporter": "python",
   "pygments_lexer": "ipython3",
   "version": "3.9.12"
  },
  "orig_nbformat": 4
 },
 "nbformat": 4,
 "nbformat_minor": 2
}
