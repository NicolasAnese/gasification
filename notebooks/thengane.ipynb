{
 "cells": [
  {
   "cell_type": "code",
   "execution_count": null,
   "metadata": {},
   "outputs": [],
   "source": [
    "import os\n",
    "import path_file\n",
    "os.chdir(os.path.dirname(os.path.dirname(path_file.__file__)))\n",
    "os.getcwd()"
   ]
  },
  {
   "cell_type": "code",
   "execution_count": 187,
   "metadata": {},
   "outputs": [],
   "source": [
    "import sys\n",
    "import cantera as ct\n",
    "import numpy as np\n",
    "import scipy.optimize as opt\n",
    "import matplotlib.pyplot as plt\n",
    "\n",
    "import phases\n",
    "import feedstock as fs\n",
    "import fuel as fu\n",
    "import energy as en\n",
    "import gasifier as gs"
   ]
  },
  {
   "cell_type": "code",
   "execution_count": 188,
   "metadata": {},
   "outputs": [],
   "source": [
    "DHfo_liq = phases.Hfo['H2O(l)']*1E-6\n",
    "DHfo_vap = phases.Hfo['H2O']*1E-6\n",
    "\n",
    "def Mw(fuel):\n",
    "    formula = fuel.get_fuel_formula()\n",
    "    ashMW = fuel.fuelAshMW\n",
    "    totalMass = 0\n",
    "    for i, sp in enumerate(['C(gr)', 'H', 'O', 'N', 'S', 'CL']):\n",
    "        moles = formula[i]\n",
    "        mw = phases.Mw[sp]\n",
    "        mass = moles * mw\n",
    "        totalMass += mass\n",
    "    totalMass += ashMW * formula[-1]\n",
    "    return totalMass\n",
    "\n",
    "def findHHV(fuel, LHV):\n",
    "    a = fuel.get_fuel_formula()[1]\n",
    "    M = Mw(fuel)\n",
    "    return LHV - a / (2*M) * (DHfo_liq - DHfo_vap)\n",
    "\n",
    "def findLHV(fuel, HHV):\n",
    "    a = fuel.get_fuel_formula()[1]\n",
    "    M = Mw(fuel)\n",
    "    return HHV + a / (2*M) * (DHfo_liq - DHfo_vap)"
   ]
  },
  {
   "cell_type": "code",
   "execution_count": 189,
   "metadata": {},
   "outputs": [],
   "source": [
    "coalUltimate = [48.42, 3.8, 13.9, 0.89, 0.5, 0]\n",
    "coalAshWB = 0.335\n",
    "coalMoistWB = 0.078\n",
    "coalLHV_WB = 17.4\n",
    "coalAshDB = coalAshWB / (1 - coalMoistWB)\n",
    "coalMoistDB = coalMoistWB / (1 - coalMoistWB)\n",
    "coalLHV_DB = coalLHV_WB / (1 - coalMoistWB)\n",
    "\n",
    "coalAshComp = [21.2, 0.34, 5.3, 5.74, 0.05, 0.42, 0.12, 0.06, 0, 3.1, 0]\n",
    "\n",
    "coalMass = 12 # kg\n",
    "coalDryMass = coalMass * (1 - coalMoistWB)\n",
    "coal = fs.create_fuel_stream(coalDryMass, coalUltimate, coalAshDB, coalMoistDB, None, coalLHV_DB, coalAshComp)\n",
    "coal.fuelHHV = findHHV(coal, coal.fuelLHV)"
   ]
  },
  {
   "cell_type": "code",
   "execution_count": 190,
   "metadata": {},
   "outputs": [
    {
     "name": "stdout",
     "output_type": "stream",
     "text": [
      "15.079700160627608\n"
     ]
    }
   ],
   "source": [
    "runTime = 170 / 60 # h\n",
    "airRate = 10.6 # kg/h\n",
    "\n",
    "air = fs.create_air_from_ER(coal, 0.23)\n",
    "print(air.get_mass())\n",
    "# stoichAir = fs.create_air_from_ER(coal, 1.0)\n",
    "# print(stoichAir.get_mass())\n",
    "# print()"
   ]
  },
  {
   "cell_type": "code",
   "execution_count": 191,
   "metadata": {},
   "outputs": [
    {
     "name": "stdout",
     "output_type": "stream",
     "text": [
      "616.6835472167844\n",
      "H2: 20.232097616764808\n",
      "CO: 11.142418163196668\n",
      "CO2: 14.039191189609296\n",
      "CH4: 0.7679833942483559\n",
      "N2: 53.13059864172407\n",
      "99.31228900554319\n"
     ]
    }
   ],
   "source": [
    "outlet0 = gs.gasify_nonisot(coal, air, T0=298.15, P=101325, heatLossFraction=0.2, charFormation=0.353, directMethaneConv=0.0)\n",
    "outlet1 = gs.gasify_isot(coal, air, T=591+273.15, P=101325, charFormation=0, directMethaneConv=0)\n",
    "species = ['H2', 'CO', 'CO2', 'CH4', 'N2']\n",
    "print(outlet0.T - 273.15)\n",
    "soma = 0\n",
    "for i, sp in enumerate(species):\n",
    "    frac = 100*outlet0.get_syngas_fraction(sp, water=False, nitrogen=True)\n",
    "    print(f'{sp}: {frac}')\n",
    "    soma += frac\n",
    "print(soma)"
   ]
  }
 ],
 "metadata": {
  "kernelspec": {
   "display_name": "ct-env",
   "language": "python",
   "name": "python3"
  },
  "language_info": {
   "codemirror_mode": {
    "name": "ipython",
    "version": 3
   },
   "file_extension": ".py",
   "mimetype": "text/x-python",
   "name": "python",
   "nbconvert_exporter": "python",
   "pygments_lexer": "ipython3",
   "version": "3.9.12 (main, Apr  4 2022, 05:22:27) [MSC v.1916 64 bit (AMD64)]"
  },
  "orig_nbformat": 4,
  "vscode": {
   "interpreter": {
    "hash": "2f8f1d48e13c088e6e56ea43e4e7205e8329df80b1713cb4d658a3a978301f46"
   }
  }
 },
 "nbformat": 4,
 "nbformat_minor": 2
}
