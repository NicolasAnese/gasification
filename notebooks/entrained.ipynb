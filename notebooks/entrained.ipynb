{
 "cells": [
  {
   "cell_type": "code",
   "execution_count": null,
   "metadata": {},
   "outputs": [],
   "source": [
    "import os\n",
    "import path_file\n",
    "os.chdir(os.path.dirname(os.path.dirname(path_file.__file__)))\n",
    "os.getcwd()"
   ]
  },
  {
   "cell_type": "code",
   "execution_count": 273,
   "metadata": {},
   "outputs": [],
   "source": [
    "import sys\n",
    "import cantera as ct\n",
    "import numpy as np\n",
    "import scipy.optimize as opt\n",
    "import matplotlib.pyplot as plt\n",
    "\n",
    "import phases\n",
    "import feedstock as fs\n",
    "import fuel as fu\n",
    "import energy as en\n",
    "import gasifier as gs"
   ]
  },
  {
   "cell_type": "code",
   "execution_count": 274,
   "metadata": {},
   "outputs": [],
   "source": [
    "ultimate = [71.0, 6.0, 12.7, 1.3, 0.5, 0.0] # %m/m, dry basis\n",
    "moistWB = 0.024 # fraction, wet basis\n",
    "ashWB = 0.083 # fraction, wet basis\n",
    "\n",
    "moistDB = moistWB / (1 - moistWB)\n",
    "ashDB = ashWB / (1 - moistWB)\n",
    "HHV_DB = 29.8"
   ]
  },
  {
   "cell_type": "code",
   "execution_count": 275,
   "metadata": {},
   "outputs": [
    {
     "name": "stdout",
     "output_type": "stream",
     "text": [
      "0.006633900000000001\n",
      "0.00913\n"
     ]
    }
   ],
   "source": [
    "primaryMass = 0.00729 # kg/s\n",
    "steamMass = 0.00184 # kg/s\n",
    "coalPrimRatio = 0.910 # kg coal / kg primary\n",
    "\n",
    "coalMass = primaryMass * coalPrimRatio\n",
    "coalDryMass = coalMass * (1 - moistWB)\n",
    "\n",
    "primaryO2 = 0.850\n",
    "primaryAr = 0.126\n",
    "primaryH2O = 0.024\n",
    "primaryMW = primaryO2 * phases.Mw['O2'] + primaryAr * phases.Mw['Ar'] + primaryH2O * phases.Mw['H2O']\n",
    "primaryMoles = primaryMass / primaryMW\n",
    "\n",
    "secondaryMoles = steamMass / phases.Mw['H2O']\n",
    "\n",
    "agent = phases.stream()\n",
    "molesList = agent.species_moles\n",
    "molesList[phases.indices['O2']] = primaryMoles * primaryO2\n",
    "molesList[phases.indices['Ar']] = primaryMoles * primaryAr\n",
    "molesList[phases.indices['H2O']] = primaryMoles * primaryH2O + secondaryMoles\n",
    "agent.species_moles = molesList\n",
    "\n",
    "fuel = fs.create_fuel_stream(coalDryMass, ultimate, ashDB, moistDB, HHV_DB)\n",
    "print(fuel.get_mass())\n",
    "print(agent.get_mass())\n"
   ]
  },
  {
   "cell_type": "code",
   "execution_count": 276,
   "metadata": {},
   "outputs": [
    {
     "name": "stdout",
     "output_type": "stream",
     "text": [
      "1375.0\n",
      "0.9998871557946895\n",
      "0.9998591182995478\n",
      "[51.039671945130294, 13.428747174539147, 35.51731881041433, 0.00017389987100444555]\n"
     ]
    }
   ],
   "source": [
    "# outlet = gs.gasify_nonisot(fuel, agent, T0=298.15, P=101325, heatLossFraction=0.10, charFormation=0.10, directMethaneConv=0.005)\n",
    "outlet = gs.gasify_isot(fuel, agent, T=1375, P=101325, charFormation=0.05, directMethaneConv=0.00)\n",
    "print(outlet.T)\n",
    "\n",
    "species = ['N2', 'Ar', 'H2O', 'CO', 'CO2', 'H2', 'CH4']\n",
    "fracs = np.zeros(len(species))\n",
    "for i, sp in enumerate(species):\n",
    "    fracs[i] = outlet.get_syngas_fraction(sp, water=True, nitrogen=True)\n",
    "\n",
    "print(sum(fracs))\n",
    "impureFrac = fracs[0] + fracs[1] + fracs[2]\n",
    "pureFracs = fracs[3:] / (1 - impureFrac)\n",
    "print(sum(pureFracs))\n",
    "print(list(pureFracs*100))\n",
    "# for sp in phases.names_g:\n",
    "#     print(f'{sp}: {outlet.species_moles[phases.indices[sp]] / sum(outlet.species_moles) * 100}')"
   ]
  }
 ],
 "metadata": {
  "kernelspec": {
   "display_name": "ct-env",
   "language": "python",
   "name": "python3"
  },
  "language_info": {
   "codemirror_mode": {
    "name": "ipython",
    "version": 3
   },
   "file_extension": ".py",
   "mimetype": "text/x-python",
   "name": "python",
   "nbconvert_exporter": "python",
   "pygments_lexer": "ipython3",
   "version": "3.9.12 (main, Apr  4 2022, 05:22:27) [MSC v.1916 64 bit (AMD64)]"
  },
  "orig_nbformat": 4,
  "vscode": {
   "interpreter": {
    "hash": "2f8f1d48e13c088e6e56ea43e4e7205e8329df80b1713cb4d658a3a978301f46"
   }
  }
 },
 "nbformat": 4,
 "nbformat_minor": 2
}
