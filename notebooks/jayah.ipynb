{
 "cells": [
  {
   "cell_type": "code",
   "execution_count": null,
   "metadata": {},
   "outputs": [],
   "source": [
    "import os\n",
    "import path_file\n",
    "os.chdir(os.path.dirname(os.path.dirname(path_file.__file__)))\n",
    "os.getcwd()"
   ]
  },
  {
   "cell_type": "code",
   "execution_count": 72,
   "metadata": {},
   "outputs": [],
   "source": [
    "import sys\n",
    "import cantera as ct\n",
    "import numpy as np\n",
    "import scipy.optimize as opt\n",
    "import matplotlib.pyplot as plt\n",
    "\n",
    "import phases\n",
    "import feedstock as fs\n",
    "import fuel as fu\n",
    "import energy as en\n",
    "import gasifier as gs"
   ]
  },
  {
   "cell_type": "code",
   "execution_count": 73,
   "metadata": {},
   "outputs": [],
   "source": [
    "ultimate = [50.6, 6.5, 42, 0.2, 0, 0]\n",
    "ashFractionDB = 0.0070\n",
    "hhv = 19.6 # MJ/kg\n",
    "MC = [18.5, 16.0, 14.7, 16.0, 15.2, 14.0, 14.7, 13.8, 12.5]\n",
    "AFR = [2.03, 2.20, 2.37, 1.96, 2.12, 2.29, 1.86, 2.04, 2.36]"
   ]
  },
  {
   "cell_type": "code",
   "execution_count": 74,
   "metadata": {},
   "outputs": [],
   "source": [
    "outlets0 = []\n",
    "for i, mc in enumerate(MC):\n",
    "    dryMass = 1 / (1 + mc/100)\n",
    "    fuel = fs.create_fuel_stream(dryMass, ultimate, ashFractionDB, mc/100, hhv)\n",
    "    air = fs.create_air_stream(AFR[i])\n",
    "    outlet0 = gs.gasify_nonisot(fuel, air, charFormation=0.10, directMethaneConv=0.035, heatLossFraction=0.128)\n",
    "    outlets0.append(outlet0)"
   ]
  },
  {
   "cell_type": "code",
   "execution_count": 75,
   "metadata": {},
   "outputs": [
    {
     "name": "stdout",
     "output_type": "stream",
     "text": [
      "[16.924186730253425, 16.255076919215984, 12.533802672941574, 1.1923253398207327, 52.42238466559207] 1182.2267313492873\n",
      "[16.817721509575577, 14.216115840302153, 12.237707850216816, 1.1758463826766847, 54.849583410373626] 1250.912724570176\n",
      "[16.209415043290665, 12.33557689211965, 12.281393896978374, 1.1529616929872812, 57.28653204616372] 1312.65235398429\n",
      "[18.026099547147336, 17.43873180270639, 12.060074326493142, 1.2181016232640394, 50.60781701723912] 1155.0402745466067\n",
      "[17.50274631927408, 15.302899473942869, 12.005448017689407, 1.1942277834222748, 53.31125222289286] 1221.0825725285106\n",
      "[16.91540611727395, 13.312148770528923, 12.016514405175611, 1.1708242886329157, 55.869103340416245] 1285.3975987292467\n",
      "[18.87910287815115, 19.001188480798252, 11.808767234860223, 1.2440778180276584, 48.44497806307473] 1112.1462261956228\n",
      "[18.371760651085882, 16.473780755975056, 11.673947977549284, 1.2161356744394163, 51.6026818245789] 1190.433290761789\n",
      "[16.958194523921485, 12.655184465494568, 11.873276066914809, 1.1667499035954951, 56.62099961513029] 1311.1166117393475\n"
     ]
    }
   ],
   "source": [
    "# fig = plt.figure(figsize=(8,5))\n",
    "species = ['CO', 'H2', 'CO2', 'CH4', 'N2']\n",
    "for i, out in enumerate(outlets0):\n",
    "    print([100*out.get_syngas_fraction(sp, water=False, nitrogen=True) for sp in species], out.T)"
   ]
  }
 ],
 "metadata": {
  "kernelspec": {
   "display_name": "ct-env",
   "language": "python",
   "name": "python3"
  },
  "language_info": {
   "codemirror_mode": {
    "name": "ipython",
    "version": 3
   },
   "file_extension": ".py",
   "mimetype": "text/x-python",
   "name": "python",
   "nbconvert_exporter": "python",
   "pygments_lexer": "ipython3",
   "version": "3.9.12"
  },
  "orig_nbformat": 4,
  "vscode": {
   "interpreter": {
    "hash": "2f8f1d48e13c088e6e56ea43e4e7205e8329df80b1713cb4d658a3a978301f46"
   }
  }
 },
 "nbformat": 4,
 "nbformat_minor": 2
}
