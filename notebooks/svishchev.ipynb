{
 "cells": [
  {
   "cell_type": "code",
   "execution_count": null,
   "metadata": {},
   "outputs": [],
   "source": [
    "import os\n",
    "import path_file\n",
    "os.chdir(os.path.dirname(os.path.dirname(path_file.__file__)))\n",
    "os.getcwd()"
   ]
  },
  {
   "cell_type": "code",
   "execution_count": 88,
   "metadata": {},
   "outputs": [],
   "source": [
    "import sys\n",
    "import cantera as ct\n",
    "import numpy as np\n",
    "import scipy.optimize as opt\n",
    "import matplotlib.pyplot as plt\n",
    "\n",
    "import phases\n",
    "import feedstock as fs\n",
    "import fuel as fu\n",
    "import energy as en\n",
    "import gasifier as gs"
   ]
  },
  {
   "cell_type": "code",
   "execution_count": 89,
   "metadata": {},
   "outputs": [
    {
     "name": "stdout",
     "output_type": "stream",
     "text": [
      "HHV = 31.53152 MJ/kg\n",
      "0.7299999999999999\n"
     ]
    }
   ],
   "source": [
    "birchUltimate = [82.5, 3.6, 13.9, 0, 0, 0]\n",
    "birchAsh = 0.035\n",
    "birchMoist1 = 0.036 / (1 - 0.036)\n",
    "birchMoist2 = 0.044 / (1 - 0.044)\n",
    "birchMoist3 = 0.026 / (1 - 0.026)\n",
    "birchHHV = 0.3491*birchUltimate[0] + 1.1783*birchUltimate[1] + 0.1005*birchUltimate[4] - 0.1034*birchUltimate[2] - 0.0151*birchUltimate[3] - 0.0211*birchAsh*100\n",
    "print('HHV =', birchHHV, 'MJ/kg')\n",
    "\n",
    "birch1 = fs.create_fuel_stream(0.73*(1-0.036), birchUltimate, birchAsh, birchMoist1, 20)\n",
    "birch2 = fs.create_fuel_stream(1, birchUltimate, birchAsh, birchMoist2, birchHHV)\n",
    "birch3 = fs.create_fuel_stream(1, birchUltimate, birchAsh, birchMoist3, birchHHV)\n",
    "print(birch1.get_mass())"
   ]
  },
  {
   "cell_type": "code",
   "execution_count": 90,
   "metadata": {},
   "outputs": [],
   "source": [
    "def kmoles(Nm3):\n",
    "    return 101325 * Nm3 / (8.31446262 * 273.15) / 1000"
   ]
  },
  {
   "cell_type": "code",
   "execution_count": 91,
   "metadata": {},
   "outputs": [
    {
     "name": "stdout",
     "output_type": "stream",
     "text": [
      "0.10841453115121244\n"
     ]
    }
   ],
   "source": [
    "stoichAir = fs.create_air_from_ER(birch1, 1.0)\n",
    "stoichAirMass = stoichAir.get_mass()\n",
    "air = fs.create_air_from_ER(birch1, 0.567)\n",
    "airKmol = kmoles(2.43)\n",
    "airMoist = 0.01\n",
    "airMoles = air.species_moles\n",
    "airMoles[phases.indices['N2']] = (1-airMoist) * airKmol * 0.78\n",
    "airMoles[phases.indices['O2']] = (1-airMoist) * airKmol * 0.21\n",
    "airMoles[phases.indices['Ar']] = (1-airMoist) * airKmol * 0.01\n",
    "airMoles[phases.indices['H2O']] = airMoist * airKmol\n",
    "air.species_moles = airMoles\n",
    "print(sum(air.species_moles))"
   ]
  },
  {
   "cell_type": "code",
   "execution_count": 92,
   "metadata": {},
   "outputs": [
    {
     "name": "stdout",
     "output_type": "stream",
     "text": [
      "510.35946349477865\n",
      "H2: 5.087213962327083\n",
      "O2: 7.440376537804492e-26\n",
      "N2: 67.5397412618868\n",
      "Ar: 0.8659155457028334\n",
      "CO: 3.1371241978690496\n",
      "CH4: 0.44930497589573837\n",
      "CO2: 17.077914475333557\n",
      "H2O: 5.839443918794927\n",
      "99.99665833781\n",
      "2.7782155100507366\n",
      "CC: 0.4501458482285209\n",
      "C: 252.19379958657774\n"
     ]
    }
   ],
   "source": [
    "# outlet = gs.gasify_isot(birch1, air, T=812+273.15, P=101325, charFormation=0.014, directMethaneConv=0.0)\n",
    "outlet = gs.gasify_nonisot(birch1, air, T0=23+273.18, P=101325, heatLossFraction=0.0, charFormation=0.0, directMethaneConv=0.0)\n",
    "print(outlet.T - 273.15)\n",
    "species = ['H2', 'O2', 'N2', 'Ar', 'CO', 'CH4', 'CO2', 'H2O']\n",
    "soma = 0\n",
    "for i, sp in enumerate(species):\n",
    "    frac = 100*outlet.get_syngas_fraction(sp, water=True, nitrogen=True)\n",
    "    print(f'{sp}: {frac}')\n",
    "    soma += frac\n",
    "print(soma)\n",
    "print(outlet.get_syngas_amount(basis='vol', water=True, nitrogen=True))\n",
    "print('CC:', outlet.species_moles[phases.indices['C(gr)']] / birch1.species_moles[phases.indices['C(gr)']])\n",
    "print('C:', outlet.species_moles[phases.indices['C(gr)']] * phases.Mw['C(gr)'] * 1000)"
   ]
  }
 ],
 "metadata": {
  "kernelspec": {
   "display_name": "ct-env",
   "language": "python",
   "name": "python3"
  },
  "language_info": {
   "codemirror_mode": {
    "name": "ipython",
    "version": 3
   },
   "file_extension": ".py",
   "mimetype": "text/x-python",
   "name": "python",
   "nbconvert_exporter": "python",
   "pygments_lexer": "ipython3",
   "version": "3.9.12 (main, Apr  4 2022, 05:22:27) [MSC v.1916 64 bit (AMD64)]"
  },
  "orig_nbformat": 4,
  "vscode": {
   "interpreter": {
    "hash": "2f8f1d48e13c088e6e56ea43e4e7205e8329df80b1713cb4d658a3a978301f46"
   }
  }
 },
 "nbformat": 4,
 "nbformat_minor": 2
}
