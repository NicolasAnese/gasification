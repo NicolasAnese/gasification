{
 "cells": [
  {
   "cell_type": "code",
   "execution_count": null,
   "metadata": {},
   "outputs": [],
   "source": [
    "import os\n",
    "import path_file\n",
    "os.chdir(os.path.dirname(os.path.dirname(path_file.__file__)))\n",
    "os.getcwd()"
   ]
  },
  {
   "cell_type": "code",
   "execution_count": 18,
   "metadata": {},
   "outputs": [],
   "source": [
    "import sys\n",
    "import cantera as ct\n",
    "import numpy as np\n",
    "import scipy.optimize as opt\n",
    "import matplotlib.pyplot as plt\n",
    "import pandas as pd\n",
    "from matplotlib.legend_handler import HandlerTuple\n",
    "\n",
    "import phases\n",
    "import feedstock as fs\n",
    "import fuel as fu\n",
    "import energy as en\n",
    "import gasifier as gs"
   ]
  },
  {
   "cell_type": "code",
   "execution_count": 19,
   "metadata": {},
   "outputs": [
    {
     "name": "stdout",
     "output_type": "stream",
     "text": [
      "1.0\n"
     ]
    }
   ],
   "source": [
    "charcoalUltimate = [77.53, 4.30, 17.88, 0.22, 0.05, 0]\n",
    "charcoalAsh = 0\n",
    "charcoalMoist = 0\n",
    "u = lambda i: charcoalUltimate[i]\n",
    "charcoalHHV = 0.3941*u(0) + 1.1783*u(1) + 0.1005*u(4) - 0.1034*u(2) - 0.0151*u(3) - 0.0211*0 # MJ/kg\n",
    "\n",
    "charcoal = fs.create_fuel_stream(1, charcoalUltimate, charcoalAsh, charcoalMoist, HHV=charcoalHHV)\n",
    "print(charcoal.get_mass())"
   ]
  },
  {
   "cell_type": "code",
   "execution_count": 20,
   "metadata": {},
   "outputs": [],
   "source": [
    "ER = 0.35\n",
    "T = 1148.7 # K\n",
    "P = 101325 # Pa\n",
    "conv = 0.6\n",
    "\n",
    "air = fs.create_air_from_ER(charcoal, ER)\n",
    "\n",
    "outlet0 = gs.gasify_isot(charcoal, air, T, P, charFormation=0, directMethaneConv=0)\n",
    "outlet1 = gs.gasify_nonisot(charcoal, air, P=P, heatLossFraction=0, charFormation=0, directMethaneConv=0)\n",
    "outlet2 = gs.gasify_isot(charcoal, air, T, P, charFormation=1-conv, directMethaneConv=0)\n",
    "outlet3 = gs.gasify_nonisot(charcoal, air, P=P, heatLossFraction=0, charFormation=1-conv, directMethaneConv=0)"
   ]
  },
  {
   "cell_type": "code",
   "execution_count": 21,
   "metadata": {},
   "outputs": [
    {
     "name": "stdout",
     "output_type": "stream",
     "text": [
      "4.363200856440207\n",
      "4.605069421470856\n"
     ]
    }
   ],
   "source": [
    "print(outlet0.get_mass())\n",
    "print(outlet2.get_mass())"
   ]
  }
 ],
 "metadata": {
  "kernelspec": {
   "display_name": "ct-env",
   "language": "python",
   "name": "python3"
  },
  "language_info": {
   "codemirror_mode": {
    "name": "ipython",
    "version": 3
   },
   "file_extension": ".py",
   "mimetype": "text/x-python",
   "name": "python",
   "nbconvert_exporter": "python",
   "pygments_lexer": "ipython3",
   "version": "3.9.12"
  },
  "orig_nbformat": 4,
  "vscode": {
   "interpreter": {
    "hash": "2f8f1d48e13c088e6e56ea43e4e7205e8329df80b1713cb4d658a3a978301f46"
   }
  }
 },
 "nbformat": 4,
 "nbformat_minor": 2
}
