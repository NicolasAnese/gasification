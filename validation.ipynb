{
 "cells": [
  {
   "cell_type": "code",
   "execution_count": 10,
   "metadata": {},
   "outputs": [],
   "source": [
    "# Importing libraries\n",
    "import numpy as np\n",
    "import pandas as pd\n",
    "import cantera as ct\n",
    "import matplotlib.pyplot as plt\n",
    "import json\n",
    "\n",
    "# Importing packages\n",
    "import feedstock as fs\n",
    "import pp\n",
    "import gasifier as g\n",
    "import fuel as fu\n",
    "import energy as en\n",
    "import outputs as op"
   ]
  },
  {
   "cell_type": "code",
   "execution_count": 11,
   "metadata": {},
   "outputs": [],
   "source": [
    "# Grabbing data from JSON file\n",
    "with open('data/data.json','r') as dataFile:\n",
    "    data = json.load(dataFile)\n",
    "    dataFile.close()"
   ]
  },
  {
   "cell_type": "code",
   "execution_count": 12,
   "metadata": {},
   "outputs": [],
   "source": [
    "# Table2 = data['Thamavithya2010']['Table2']\n",
    "# df = pd.DataFrame(Table2)\n",
    "# df.head()"
   ]
  },
  {
   "cell_type": "code",
   "execution_count": 13,
   "metadata": {},
   "outputs": [],
   "source": [
    "# fuelID = \"ThamaSawdust\"\n",
    "# species=['CO','H2','CH4','CO2','N2']\n",
    "# moist = fu.moisture(fuelID)\n",
    "# n = len(Table2)\n",
    "# ER = np.array([run['ER'] for run in Table2])\n",
    "# T = np.array([run['Tgas'] for run in Table2]) + 273.15 # K\n",
    "# experimental = np.zeros((n, len(species)))\n",
    "# for i in range(n):\n",
    "#     for j, sp in enumerate(species):\n",
    "#         experimental[i,j] = Table2[i][sp]/100\n",
    "# CC = np.array([run['CarbonConv'] for run in Table2])"
   ]
  },
  {
   "cell_type": "code",
   "execution_count": 14,
   "metadata": {},
   "outputs": [],
   "source": [
    "# predicted = np.zeros_like(experimental)\n",
    "# for i in range(n):\n",
    "#     report0 = g.gasifier(fuelID, moist=moist, T=T[i], air=ER[i], airType='ER', species=species)\n",
    "#     CC_pred = report0['CC']\n",
    "#     C_avail0 = CC[i]/CC_pred\n",
    "#     DT, sqerr = g.findTquasi(fuelID, experimental[i], moist=moist, T0=T[i], air=ER[i], airType='ER', C_avail=1.0, species=species)\n",
    "#     report1 = g.gasifier(fuelID, moist=moist, T=T[i]-DT, air=ER[i], airType='ER', species=species+['C(gr)'], C_avail=1.0)\n",
    "#     for j, sp in enumerate(species):\n",
    "#         predicted[i,j] = report1[sp]\n",
    "#     print(i)\n",
    "# print(predicted)"
   ]
  },
  {
   "cell_type": "code",
   "execution_count": 15,
   "metadata": {},
   "outputs": [],
   "source": [
    "# plt.scatter(ER, experimental[:,4], label='CO')\n",
    "# plt.plot(ER, predicted[:,4], label='CO pred')\n",
    "# plt.grid()\n",
    "# plt.show()"
   ]
  },
  {
   "cell_type": "code",
   "execution_count": 16,
   "metadata": {},
   "outputs": [],
   "source": [
    "# This uses data from 10.1007/s11708-020-0710-3 (Guo et al., 2020)\n",
    "\n",
    "# Fuel is already in database (Compressed Corn Straw)\n",
    "fuelID = 'GuoCorn'\n",
    "\n",
    "GuoDict = data[\"Guo2021\"][\"Table3\"]\n",
    "\n",
    "# Experimental data information\n",
    "T = np.array([700, 800, 900]) # °C\n",
    "T = T + 273.15 # K\n",
    "ER = 0.21 # constant\n",
    "moist = 0\n",
    "species = ['CO2', 'CO', 'CH4', 'H2']\n",
    "experimental = np.array([[17.1, 14.7, 6.36, 7.58],\n",
    "                         [16.5, 16.4, 6.07, 7.97],\n",
    "                         [15.7, 17.8, 5.60, 8.35]]) # %\n",
    "experimental = experimental/100 # fraction"
   ]
  },
  {
   "cell_type": "code",
   "execution_count": 17,
   "metadata": {},
   "outputs": [],
   "source": [
    "# Creating a range of values for smooth, continuos model response\n",
    "Tl = np.linspace(T[0], T[-1], 100) # K\n",
    "CO2l = np.zeros_like(Tl)\n",
    "COl = np.zeros_like(Tl)\n",
    "CH4l = np.zeros_like(Tl)\n",
    "H2l = np.zeros_like(Tl)"
   ]
  },
  {
   "cell_type": "code",
   "execution_count": 18,
   "metadata": {},
   "outputs": [
    {
     "data": {
      "image/png": "[encoded data removed]",
      "text/plain": [
       "<Figure size 432x288 with 1 Axes>"
      ]
     },
     "metadata": {
      "needs_background": "light"
     },
     "output_type": "display_data"
    }
   ],
   "source": [
    "# First test: raw model, no modifications\n",
    "\n",
    "for i, t in enumerate(Tl):\n",
    "    report = g.gasifier(fuelID, T=t, air=ER, species=species)[0]\n",
    "    CO2l[i] = report['CO2']\n",
    "    COl[i] = report['CO']\n",
    "    CH4l[i] = report['CH4']\n",
    "    H2l[i] = report['H2']\n",
    "\n",
    "plt.plot(Tl, CO2l, label='CO2')\n",
    "plt.plot(Tl, COl, label='CO')\n",
    "plt.plot(Tl, CH4l, label='CH4') \n",
    "plt.plot(Tl, H2l, label='H2')\n",
    "plt.scatter(T, experimental[:,0], label='CO2 exp')\n",
    "plt.scatter(T, experimental[:,1], label='CO exp')\n",
    "plt.scatter(T, experimental[:,2], label='CH4 exp')\n",
    "plt.scatter(T, experimental[:,3], label='H2 exp')\n",
    "plt.legend()\n",
    "plt.grid()\n",
    "plt.savefig(\"results.png\")\n",
    "plt.show()"
   ]
  },
  {
   "cell_type": "code",
   "execution_count": 19,
   "metadata": {},
   "outputs": [
    {
     "ename": "TypeError",
     "evalue": "gasifier() got an unexpected keyword argument 'mass'",
     "output_type": "error",
     "traceback": [
      "\u001b[1;31m---------------------------------------------------------------------------\u001b[0m",
      "\u001b[1;31mKeyError\u001b[0m                                  Traceback (most recent call last)",
      "File \u001b[1;32mc:\\Users\\User\\.conda\\envs\\ct-env\\lib\\site-packages\\scipy\\optimize\\_shgo_lib\\triangulation.py:630\u001b[0m, in \u001b[0;36mVertexCache.__getitem__\u001b[1;34m(self, x, indexed)\u001b[0m\n\u001b[0;32m    629\u001b[0m \u001b[39mtry\u001b[39;00m:\n\u001b[1;32m--> 630\u001b[0m     \u001b[39mreturn\u001b[39;00m \u001b[39mself\u001b[39;49m\u001b[39m.\u001b[39;49mcache[x]\n\u001b[0;32m    631\u001b[0m \u001b[39mexcept\u001b[39;00m \u001b[39mKeyError\u001b[39;00m:\n",
      "\u001b[1;31mKeyError\u001b[0m: (0,)",
      "\nDuring handling of the above exception, another exception occurred:\n",
      "\u001b[1;31mTypeError\u001b[0m                                 Traceback (most recent call last)",
      "\u001b[1;32md:\\user\\Desktop\\Faculdade\\IC Rodolfo\\gasification\\validation.ipynb Célula: 10\u001b[0m in \u001b[0;36m<cell line: 5>\u001b[1;34m()\u001b[0m\n\u001b[0;32m      <a href='vscode-notebook-cell:/d%3A/user/Desktop/Faculdade/IC%20Rodolfo/gasification/validation.ipynb#X12sZmlsZQ%3D%3D?line=3'>4</a>\u001b[0m DTsum \u001b[39m=\u001b[39m \u001b[39m0\u001b[39m\n\u001b[0;32m      <a href='vscode-notebook-cell:/d%3A/user/Desktop/Faculdade/IC%20Rodolfo/gasification/validation.ipynb#X12sZmlsZQ%3D%3D?line=4'>5</a>\u001b[0m \u001b[39mfor\u001b[39;00m i, t \u001b[39min\u001b[39;00m \u001b[39menumerate\u001b[39m(T):\n\u001b[1;32m----> <a href='vscode-notebook-cell:/d%3A/user/Desktop/Faculdade/IC%20Rodolfo/gasification/validation.ipynb#X12sZmlsZQ%3D%3D?line=5'>6</a>\u001b[0m     Tquasi, sqerr \u001b[39m=\u001b[39m g\u001b[39m.\u001b[39;49mfindTquasi(fuelID, experimental[i], T0\u001b[39m=\u001b[39;49mt, air\u001b[39m=\u001b[39;49mER, species\u001b[39m=\u001b[39;49mspecies, C_avail\u001b[39m=\u001b[39;49m\u001b[39m1.0\u001b[39;49m)\n\u001b[0;32m      <a href='vscode-notebook-cell:/d%3A/user/Desktop/Faculdade/IC%20Rodolfo/gasification/validation.ipynb#X12sZmlsZQ%3D%3D?line=6'>7</a>\u001b[0m     report \u001b[39m=\u001b[39m g\u001b[39m.\u001b[39mgasifier(fuelID, T\u001b[39m=\u001b[39mTquasi, air\u001b[39m=\u001b[39mER, species\u001b[39m=\u001b[39mspecies, C_avail\u001b[39m=\u001b[39m\u001b[39m1.0\u001b[39m)[\u001b[39m0\u001b[39m]\n\u001b[0;32m      <a href='vscode-notebook-cell:/d%3A/user/Desktop/Faculdade/IC%20Rodolfo/gasification/validation.ipynb#X12sZmlsZQ%3D%3D?line=7'>8</a>\u001b[0m     \u001b[39mfor\u001b[39;00m j, sp \u001b[39min\u001b[39;00m \u001b[39menumerate\u001b[39m(species):\n",
      "File \u001b[1;32md:\\user\\Desktop\\Faculdade\\IC Rodolfo\\gasification\\gasifier.py:734\u001b[0m, in \u001b[0;36mfindTquasi\u001b[1;34m(fuelID, experimental, mass, moist, T0, P, air, stm, airType, stmType, C_avail, species)\u001b[0m\n\u001b[0;32m    731\u001b[0m     \u001b[39mreturn\u001b[39;00m err\n\u001b[0;32m    733\u001b[0m \u001b[39m# Applying minimize\u001b[39;00m\n\u001b[1;32m--> 734\u001b[0m sol \u001b[39m=\u001b[39m opt\u001b[39m.\u001b[39;49mshgo(error, bounds\u001b[39m=\u001b[39;49m[(\u001b[39m0.01\u001b[39;49m, T0)])\n\u001b[0;32m    735\u001b[0m Tquasi \u001b[39m=\u001b[39m sol\u001b[39m.\u001b[39mx[\u001b[39m0\u001b[39m]\n\u001b[0;32m    736\u001b[0m sqerr \u001b[39m=\u001b[39m error(Tquasi)\n",
      "File \u001b[1;32mc:\\Users\\User\\.conda\\envs\\ct-env\\lib\\site-packages\\scipy\\optimize\\_shgo.py:425\u001b[0m, in \u001b[0;36mshgo\u001b[1;34m(func, bounds, args, constraints, n, iters, callback, minimizer_kwargs, options, sampling_method)\u001b[0m\n\u001b[0;32m    419\u001b[0m shc \u001b[39m=\u001b[39m SHGO(func, bounds, args\u001b[39m=\u001b[39margs, constraints\u001b[39m=\u001b[39mconstraints, n\u001b[39m=\u001b[39mn,\n\u001b[0;32m    420\u001b[0m            iters\u001b[39m=\u001b[39miters, callback\u001b[39m=\u001b[39mcallback,\n\u001b[0;32m    421\u001b[0m            minimizer_kwargs\u001b[39m=\u001b[39mminimizer_kwargs,\n\u001b[0;32m    422\u001b[0m            options\u001b[39m=\u001b[39moptions, sampling_method\u001b[39m=\u001b[39msampling_method)\n\u001b[0;32m    424\u001b[0m \u001b[39m# Run the algorithm, process results and test success\u001b[39;00m\n\u001b[1;32m--> 425\u001b[0m shc\u001b[39m.\u001b[39;49mconstruct_complex()\n\u001b[0;32m    427\u001b[0m \u001b[39mif\u001b[39;00m \u001b[39mnot\u001b[39;00m shc\u001b[39m.\u001b[39mbreak_routine:\n\u001b[0;32m    428\u001b[0m     \u001b[39mif\u001b[39;00m shc\u001b[39m.\u001b[39mdisp:\n",
      "File \u001b[1;32mc:\\Users\\User\\.conda\\envs\\ct-env\\lib\\site-packages\\scipy\\optimize\\_shgo.py:738\u001b[0m, in \u001b[0;36mSHGO.construct_complex\u001b[1;34m(self)\u001b[0m\n\u001b[0;32m    736\u001b[0m         \u001b[39mbreak\u001b[39;00m\n\u001b[0;32m    737\u001b[0m     \u001b[39m# Iterate complex, process minimisers\u001b[39;00m\n\u001b[1;32m--> 738\u001b[0m     \u001b[39mself\u001b[39;49m\u001b[39m.\u001b[39;49miterate()\n\u001b[0;32m    739\u001b[0m     \u001b[39mself\u001b[39m\u001b[39m.\u001b[39mstopping_criteria()\n\u001b[0;32m    741\u001b[0m \u001b[39m# Build minimiser pool\u001b[39;00m\n\u001b[0;32m    742\u001b[0m \u001b[39m# Final iteration only needed if pools weren't minimised every iteration\u001b[39;00m\n",
      "File \u001b[1;32mc:\\Users\\User\\.conda\\envs\\ct-env\\lib\\site-packages\\scipy\\optimize\\_shgo.py:881\u001b[0m, in \u001b[0;36mSHGO.iterate\u001b[1;34m(self)\u001b[0m\n\u001b[0;32m    880\u001b[0m \u001b[39mdef\u001b[39;00m \u001b[39miterate\u001b[39m(\u001b[39mself\u001b[39m):\n\u001b[1;32m--> 881\u001b[0m     \u001b[39mself\u001b[39;49m\u001b[39m.\u001b[39;49miterate_complex()\n\u001b[0;32m    883\u001b[0m     \u001b[39m# Build minimizer pool\u001b[39;00m\n\u001b[0;32m    884\u001b[0m     \u001b[39mif\u001b[39;00m \u001b[39mself\u001b[39m\u001b[39m.\u001b[39mminimize_every_iter:\n",
      "File \u001b[1;32mc:\\Users\\User\\.conda\\envs\\ct-env\\lib\\site-packages\\scipy\\optimize\\_shgo.py:900\u001b[0m, in \u001b[0;36mSHGO.iterate_hypercube\u001b[1;34m(self)\u001b[0m\n\u001b[0;32m    897\u001b[0m \u001b[39m# Iterate the complex\u001b[39;00m\n\u001b[0;32m    898\u001b[0m \u001b[39mif\u001b[39;00m \u001b[39mself\u001b[39m\u001b[39m.\u001b[39mn_sampled \u001b[39m==\u001b[39m \u001b[39m0\u001b[39m:\n\u001b[0;32m    899\u001b[0m     \u001b[39m# Initial triangulation of the hyper-rectangle\u001b[39;00m\n\u001b[1;32m--> 900\u001b[0m     \u001b[39mself\u001b[39m\u001b[39m.\u001b[39mHC \u001b[39m=\u001b[39m Complex(\u001b[39mself\u001b[39;49m\u001b[39m.\u001b[39;49mdim, \u001b[39mself\u001b[39;49m\u001b[39m.\u001b[39;49mfunc, \u001b[39mself\u001b[39;49m\u001b[39m.\u001b[39;49margs,\n\u001b[0;32m    901\u001b[0m                       \u001b[39mself\u001b[39;49m\u001b[39m.\u001b[39;49msymmetry, \u001b[39mself\u001b[39;49m\u001b[39m.\u001b[39;49mbounds, \u001b[39mself\u001b[39;49m\u001b[39m.\u001b[39;49mg_cons,\n\u001b[0;32m    902\u001b[0m                       \u001b[39mself\u001b[39;49m\u001b[39m.\u001b[39;49mg_args)\n\u001b[0;32m    903\u001b[0m \u001b[39melse\u001b[39;00m:\n\u001b[0;32m    904\u001b[0m     \u001b[39mself\u001b[39m\u001b[39m.\u001b[39mHC\u001b[39m.\u001b[39msplit_generation()\n",
      "File \u001b[1;32mc:\\Users\\User\\.conda\\envs\\ct-env\\lib\\site-packages\\scipy\\optimize\\_shgo_lib\\triangulation.py:25\u001b[0m, in \u001b[0;36mComplex.__init__\u001b[1;34m(self, dim, func, func_args, symmetry, bounds, g_cons, g_args)\u001b[0m\n\u001b[0;32m     22\u001b[0m \u001b[39mself\u001b[39m\u001b[39m.\u001b[39mV \u001b[39m=\u001b[39m VertexCache(func, func_args, bounds, g_cons, g_args)\n\u001b[0;32m     24\u001b[0m \u001b[39m# Generate n-cube here:\u001b[39;00m\n\u001b[1;32m---> 25\u001b[0m \u001b[39mself\u001b[39;49m\u001b[39m.\u001b[39;49mn_cube(dim, symmetry\u001b[39m=\u001b[39;49msymmetry)\n\u001b[0;32m     27\u001b[0m \u001b[39m# TODO: Assign functions to a the complex instead\u001b[39;00m\n\u001b[0;32m     28\u001b[0m \u001b[39mif\u001b[39;00m symmetry:\n",
      "File \u001b[1;32mc:\\Users\\User\\.conda\\envs\\ct-env\\lib\\site-packages\\scipy\\optimize\\_shgo_lib\\triangulation.py:76\u001b[0m, in \u001b[0;36mComplex.n_cube\u001b[1;34m(self, dim, symmetry, printout)\u001b[0m\n\u001b[0;32m     74\u001b[0m \u001b[39melse\u001b[39;00m:\n\u001b[0;32m     75\u001b[0m     \u001b[39mself\u001b[39m\u001b[39m.\u001b[39mC0 \u001b[39m=\u001b[39m Cell(\u001b[39m0\u001b[39m, \u001b[39m0\u001b[39m, origin, supremum)  \u001b[39m# Initial cell object\u001b[39;00m\n\u001b[1;32m---> 76\u001b[0m     \u001b[39mself\u001b[39m\u001b[39m.\u001b[39mC0\u001b[39m.\u001b[39madd_vertex(\u001b[39mself\u001b[39;49m\u001b[39m.\u001b[39;49mV[origintuple])\n\u001b[0;32m     77\u001b[0m     \u001b[39mself\u001b[39m\u001b[39m.\u001b[39mC0\u001b[39m.\u001b[39madd_vertex(\u001b[39mself\u001b[39m\u001b[39m.\u001b[39mV[supremumtuple])\n\u001b[0;32m     79\u001b[0m     i_parents \u001b[39m=\u001b[39m []\n",
      "File \u001b[1;32mc:\\Users\\User\\.conda\\envs\\ct-env\\lib\\site-packages\\scipy\\optimize\\_shgo_lib\\triangulation.py:634\u001b[0m, in \u001b[0;36mVertexCache.__getitem__\u001b[1;34m(self, x, indexed)\u001b[0m\n\u001b[0;32m    632\u001b[0m \u001b[39mif\u001b[39;00m indexed:\n\u001b[0;32m    633\u001b[0m     \u001b[39mself\u001b[39m\u001b[39m.\u001b[39mindex \u001b[39m+\u001b[39m\u001b[39m=\u001b[39m \u001b[39m1\u001b[39m\n\u001b[1;32m--> 634\u001b[0m     xval \u001b[39m=\u001b[39m Vertex(x, bounds\u001b[39m=\u001b[39;49m\u001b[39mself\u001b[39;49m\u001b[39m.\u001b[39;49mbounds,\n\u001b[0;32m    635\u001b[0m                   func\u001b[39m=\u001b[39;49m\u001b[39mself\u001b[39;49m\u001b[39m.\u001b[39;49mfunc, func_args\u001b[39m=\u001b[39;49m\u001b[39mself\u001b[39;49m\u001b[39m.\u001b[39;49mfunc_args,\n\u001b[0;32m    636\u001b[0m                   g_cons\u001b[39m=\u001b[39;49m\u001b[39mself\u001b[39;49m\u001b[39m.\u001b[39;49mg_cons,\n\u001b[0;32m    637\u001b[0m                   g_cons_args\u001b[39m=\u001b[39;49m\u001b[39mself\u001b[39;49m\u001b[39m.\u001b[39;49mg_cons_args,\n\u001b[0;32m    638\u001b[0m                   index\u001b[39m=\u001b[39;49m\u001b[39mself\u001b[39;49m\u001b[39m.\u001b[39;49mindex)\n\u001b[0;32m    639\u001b[0m \u001b[39melse\u001b[39;00m:\n\u001b[0;32m    640\u001b[0m     xval \u001b[39m=\u001b[39m Vertex(x, bounds\u001b[39m=\u001b[39m\u001b[39mself\u001b[39m\u001b[39m.\u001b[39mbounds,\n\u001b[0;32m    641\u001b[0m                   func\u001b[39m=\u001b[39m\u001b[39mself\u001b[39m\u001b[39m.\u001b[39mfunc, func_args\u001b[39m=\u001b[39m\u001b[39mself\u001b[39m\u001b[39m.\u001b[39mfunc_args,\n\u001b[0;32m    642\u001b[0m                   g_cons\u001b[39m=\u001b[39m\u001b[39mself\u001b[39m\u001b[39m.\u001b[39mg_cons,\n\u001b[0;32m    643\u001b[0m                   g_cons_args\u001b[39m=\u001b[39m\u001b[39mself\u001b[39m\u001b[39m.\u001b[39mg_cons_args)\n",
      "File \u001b[1;32mc:\\Users\\User\\.conda\\envs\\ct-env\\lib\\site-packages\\scipy\\optimize\\_shgo_lib\\triangulation.py:557\u001b[0m, in \u001b[0;36mVertex.__init__\u001b[1;34m(self, x, bounds, func, func_args, g_cons, g_cons_args, nn, index)\u001b[0m\n\u001b[0;32m    555\u001b[0m                 \u001b[39mbreak\u001b[39;00m\n\u001b[0;32m    556\u001b[0m     \u001b[39mif\u001b[39;00m \u001b[39mself\u001b[39m\u001b[39m.\u001b[39mfeasible:\n\u001b[1;32m--> 557\u001b[0m         \u001b[39mself\u001b[39m\u001b[39m.\u001b[39mf \u001b[39m=\u001b[39m func(x_a, \u001b[39m*\u001b[39;49mfunc_args)\n\u001b[0;32m    559\u001b[0m \u001b[39mif\u001b[39;00m nn \u001b[39mis\u001b[39;00m \u001b[39mnot\u001b[39;00m \u001b[39mNone\u001b[39;00m:\n\u001b[0;32m    560\u001b[0m     \u001b[39mself\u001b[39m\u001b[39m.\u001b[39mnn \u001b[39m=\u001b[39m nn\n",
      "File \u001b[1;32mc:\\Users\\User\\.conda\\envs\\ct-env\\lib\\site-packages\\scipy\\optimize\\_optimize.py:466\u001b[0m, in \u001b[0;36m_wrap_scalar_function.<locals>.function_wrapper\u001b[1;34m(x, *wrapper_args)\u001b[0m\n\u001b[0;32m    464\u001b[0m ncalls[\u001b[39m0\u001b[39m] \u001b[39m+\u001b[39m\u001b[39m=\u001b[39m \u001b[39m1\u001b[39m\n\u001b[0;32m    465\u001b[0m \u001b[39m# A copy of x is sent to the user function (gh13740)\u001b[39;00m\n\u001b[1;32m--> 466\u001b[0m fx \u001b[39m=\u001b[39m function(np\u001b[39m.\u001b[39;49mcopy(x), \u001b[39m*\u001b[39;49m(wrapper_args \u001b[39m+\u001b[39;49m args))\n\u001b[0;32m    467\u001b[0m \u001b[39m# Ideally, we'd like to a have a true scalar returned from f(x). For\u001b[39;00m\n\u001b[0;32m    468\u001b[0m \u001b[39m# backwards-compatibility, also allow np.array([1.3]), np.array([[1.3]]) etc.\u001b[39;00m\n\u001b[0;32m    469\u001b[0m \u001b[39mif\u001b[39;00m \u001b[39mnot\u001b[39;00m np\u001b[39m.\u001b[39misscalar(fx):\n",
      "File \u001b[1;32md:\\user\\Desktop\\Faculdade\\IC Rodolfo\\gasification\\gasifier.py:726\u001b[0m, in \u001b[0;36mfindTquasi.<locals>.error\u001b[1;34m(t)\u001b[0m\n\u001b[0;32m    724\u001b[0m err \u001b[39m=\u001b[39m \u001b[39m0\u001b[39m\n\u001b[0;32m    725\u001b[0m predicted \u001b[39m=\u001b[39m np\u001b[39m.\u001b[39mzeros(\u001b[39mlen\u001b[39m(species))\n\u001b[1;32m--> 726\u001b[0m report \u001b[39m=\u001b[39m gasifier(fuelID, mass\u001b[39m=\u001b[39;49mmass, moist\u001b[39m=\u001b[39;49mmoist, T\u001b[39m=\u001b[39;49mt, P\u001b[39m=\u001b[39;49mP, air\u001b[39m=\u001b[39;49mair, \n\u001b[0;32m    727\u001b[0m          stm\u001b[39m=\u001b[39;49mstm, airType\u001b[39m=\u001b[39;49mairType, stmType\u001b[39m=\u001b[39;49mstmType, C_avail\u001b[39m=\u001b[39;49mC_avail, isot\u001b[39m=\u001b[39;49m\u001b[39mTrue\u001b[39;49;00m, species\u001b[39m=\u001b[39;49mspecies)\n\u001b[0;32m    728\u001b[0m \u001b[39mfor\u001b[39;00m i, sp \u001b[39min\u001b[39;00m \u001b[39menumerate\u001b[39m(species):\n\u001b[0;32m    729\u001b[0m     predicted[i] \u001b[39m=\u001b[39m report[sp]\n",
      "\u001b[1;31mTypeError\u001b[0m: gasifier() got an unexpected keyword argument 'mass'"
     ]
    }
   ],
   "source": [
    "# Second test: modified model finds DT but not C_avail, uses average DT value\n",
    "\n",
    "predicted = np.zeros_like(experimental)\n",
    "DTsum = 0\n",
    "for i, t in enumerate(T):\n",
    "    Tquasi, sqerr = g.findTquasi(fuelID, experimental[i], T0=t, air=ER, species=species, C_avail=1.0)\n",
    "    report = g.gasifier(fuelID, T=Tquasi, air=ER, species=species, C_avail=1.0)[0]\n",
    "    for j, sp in enumerate(species):\n",
    "        predicted[i,j] = report[sp]\n",
    "    DT = t - Tquasi\n",
    "    DTsum += DT\n",
    "    print(DT, sqerr)\n",
    "\n",
    "DTav = DTsum/len(T)\n",
    "print(DTav)\n",
    "\n",
    "for i, t in enumerate(Tl):\n",
    "    report = g.gasifier(fuelID, T=t-DTav, air=ER, species=species)\n",
    "    CO2l[i] = report['CO2']\n",
    "    COl[i] = report['CO']\n",
    "    CH4l[i] = report['CH4']\n",
    "    H2l[i] = report['H2']\n",
    "\n",
    "plt.plot(Tl, CO2l, label='CO2')\n",
    "plt.plot(Tl, COl, label='CO')\n",
    "plt.plot(Tl, CH4l, label='CH4') \n",
    "plt.plot(Tl, H2l, label='H2')\n",
    "plt.scatter(T, experimental[:,0], label='CO2 exp')\n",
    "plt.scatter(T, experimental[:,1], label='CO exp')\n",
    "plt.scatter(T, experimental[:,2], label='CH4 exp')\n",
    "plt.scatter(T, experimental[:,3], label='H2 exp')\n",
    "plt.grid()\n",
    "plt.legend()\n",
    "plt.savefig(\"results2.png\")\n",
    "plt.show()"
   ]
  },
  {
   "cell_type": "code",
   "execution_count": null,
   "metadata": {},
   "outputs": [],
   "source": [
    "# # Third test: modified model finds DT and C_avail, uses average values\n",
    "\n",
    "# predicted = np.zeros_like(experimental)\n",
    "# sums = [0, 0]\n",
    "# for i, t in enumerate(T):\n",
    "#     X = g.findParams(fuelID, experimental[i], T0=t, air=ER, species=species)\n",
    "#     DT, C_avail, sqerr = X\n",
    "#     report = g.gasifier(fuelID, T=t-DT, air=ER, species=species, C_avail=C_avail)\n",
    "#     for j, sp in enumerate(species):\n",
    "#         predicted[i,j] = report[sp]\n",
    "#     sums[0] += DT\n",
    "#     sums[1] += C_avail\n",
    "#     print(DT, C_avail, sqerr)\n",
    "# DTav = sums[0]/len(T)\n",
    "# C_avail_av = sums[1]/len(T)\n",
    "# print(DTav, C_avail_av)\n",
    "\n",
    "# for i, t in enumerate(Tl):\n",
    "#     report = g.gasifier(fuelID, T=t-DTav, air=ER, species=species, C_avail=C_avail_av)\n",
    "#     CO2l[i] = report['CO2']\n",
    "#     COl[i] = report['CO']\n",
    "#     CH4l[i] = report['CH4']\n",
    "#     H2l[i] = report['H2']\n",
    "\n",
    "# plt.plot(Tl, CO2l, label='CO2')\n",
    "# plt.plot(Tl, COl, label='CO')\n",
    "# plt.plot(Tl, CH4l, label='CH4') \n",
    "# plt.plot(Tl, H2l, label='H2')\n",
    "# plt.scatter(T, experimental[:,0], label='CO2 exp')\n",
    "# plt.scatter(T, experimental[:,1], label='CO exp')\n",
    "# plt.scatter(T, experimental[:,2], label='CH4 exp')\n",
    "# plt.scatter(T, experimental[:,3], label='H2 exp')\n",
    "# plt.grid()\n",
    "# plt.legend()\n",
    "# plt.savefig(\"results3.png\")\n",
    "# plt.show()"
   ]
  },
  {
   "cell_type": "code",
   "execution_count": null,
   "metadata": {},
   "outputs": [
    {
     "data": {
      "text/html": [
       "<div>\n",
       "<style scoped>\n",
       "    .dataframe tbody tr th:only-of-type {\n",
       "        vertical-align: middle;\n",
       "    }\n",
       "\n",
       "    .dataframe tbody tr th {\n",
       "        vertical-align: top;\n",
       "    }\n",
       "\n",
       "    .dataframe thead th {\n",
       "        text-align: right;\n",
       "    }\n",
       "</style>\n",
       "<table border=\"1\" class=\"dataframe\">\n",
       "  <thead>\n",
       "    <tr style=\"text-align: right;\">\n",
       "      <th></th>\n",
       "      <th>Run</th>\n",
       "      <th>T</th>\n",
       "      <th>ER</th>\n",
       "      <th>S/B</th>\n",
       "      <th>DMP</th>\n",
       "      <th>CO2</th>\n",
       "      <th>CO</th>\n",
       "      <th>CH4</th>\n",
       "      <th>H2</th>\n",
       "      <th>Tar</th>\n",
       "    </tr>\n",
       "  </thead>\n",
       "  <tbody>\n",
       "    <tr>\n",
       "      <th>0</th>\n",
       "      <td>1</td>\n",
       "      <td>700</td>\n",
       "      <td>0.21</td>\n",
       "      <td>0.0</td>\n",
       "      <td>0</td>\n",
       "      <td>17.1</td>\n",
       "      <td>14.7</td>\n",
       "      <td>6.36</td>\n",
       "      <td>7.58</td>\n",
       "      <td>6.20</td>\n",
       "    </tr>\n",
       "    <tr>\n",
       "      <th>1</th>\n",
       "      <td>2</td>\n",
       "      <td>740</td>\n",
       "      <td>0.26</td>\n",
       "      <td>0.0</td>\n",
       "      <td>0</td>\n",
       "      <td>17.8</td>\n",
       "      <td>15.5</td>\n",
       "      <td>7.24</td>\n",
       "      <td>7.93</td>\n",
       "      <td>5.56</td>\n",
       "    </tr>\n",
       "    <tr>\n",
       "      <th>2</th>\n",
       "      <td>3</td>\n",
       "      <td>770</td>\n",
       "      <td>0.31</td>\n",
       "      <td>0.0</td>\n",
       "      <td>0</td>\n",
       "      <td>18.8</td>\n",
       "      <td>16.4</td>\n",
       "      <td>7.89</td>\n",
       "      <td>8.91</td>\n",
       "      <td>4.69</td>\n",
       "    </tr>\n",
       "    <tr>\n",
       "      <th>3</th>\n",
       "      <td>4</td>\n",
       "      <td>820</td>\n",
       "      <td>0.34</td>\n",
       "      <td>0.0</td>\n",
       "      <td>0</td>\n",
       "      <td>20.2</td>\n",
       "      <td>15.2</td>\n",
       "      <td>6.41</td>\n",
       "      <td>8.07</td>\n",
       "      <td>3.97</td>\n",
       "    </tr>\n",
       "    <tr>\n",
       "      <th>4</th>\n",
       "      <td>5</td>\n",
       "      <td>700</td>\n",
       "      <td>0.21</td>\n",
       "      <td>0.2</td>\n",
       "      <td>0</td>\n",
       "      <td>17.8</td>\n",
       "      <td>12.9</td>\n",
       "      <td>4.21</td>\n",
       "      <td>9.51</td>\n",
       "      <td>5.34</td>\n",
       "    </tr>\n",
       "  </tbody>\n",
       "</table>\n",
       "</div>"
      ],
      "text/plain": [
       "   Run    T    ER  S/B  DMP   CO2    CO   CH4    H2   Tar\n",
       "0    1  700  0.21  0.0    0  17.1  14.7  6.36  7.58  6.20\n",
       "1    2  740  0.26  0.0    0  17.8  15.5  7.24  7.93  5.56\n",
       "2    3  770  0.31  0.0    0  18.8  16.4  7.89  8.91  4.69\n",
       "3    4  820  0.34  0.0    0  20.2  15.2  6.41  8.07  3.97\n",
       "4    5  700  0.21  0.2    0  17.8  12.9  4.21  9.51  5.34"
      ]
     },
     "execution_count": 14,
     "metadata": {},
     "output_type": "execute_result"
    }
   ],
   "source": [
    "GuoDF = pd.DataFrame.from_dict(GuoDict)\n",
    "\n",
    "n = len(GuoDict)\n",
    "T = np.zeros(n)\n",
    "ER = np.zeros(n)\n",
    "SB = np.zeros(n)\n",
    "DMP = np.zeros(n)\n",
    "species = ['CO2', 'CO', 'CH4', 'H2']\n",
    "experimental = np.zeros((n, len(species)))\n",
    "for i, run in enumerate(GuoDict):\n",
    "    T[i] = run['T']+273.15\n",
    "    ER[i] = run['ER']\n",
    "    SB[i] = run['S/B']\n",
    "    DMP[i] = run['DMP']\n",
    "    for j, sp in enumerate(species):\n",
    "        experimental[i,j] = run[sp]/100\n",
    "GuoDF.head()"
   ]
  },
  {
   "cell_type": "code",
   "execution_count": null,
   "metadata": {},
   "outputs": [
    {
     "name": "stdout",
     "output_type": "stream",
     "text": [
      "0 11.692868007481986\n",
      "1 12.085214392708087\n",
      "2 10.450420263796453\n",
      "3 10.184262747647635\n",
      "4 11.847974150009902\n",
      "5 9.975477012115704\n",
      "6 9.058444380432995\n",
      "7 11.092207529827371\n",
      "8 10.219409995836983\n",
      "9 9.845857333501474\n",
      "10 14.783148561297805\n",
      "11 14.596321372633264\n"
     ]
    }
   ],
   "source": [
    "predicted = np.zeros_like(experimental)\n",
    "for i, run in enumerate(GuoDict):\n",
    "    report0 = g.gasifier(fuelID, T=T[i], air=ER[i], airType='ER', stm=SB[i], stmType='steam', species=species, C_avail=1.0)\n",
    "    sqErr = 0\n",
    "    for j, sp in enumerate(species):\n",
    "        predicted[i,j] = report0[sp]\n",
    "        sqErr += (predicted[i,j]*100 - experimental[i,j]*100)**2\n",
    "    RMSE = np.sqrt(sqErr/len(species)) # as a percentage\n",
    "    print(i, RMSE)"
   ]
  },
  {
   "cell_type": "code",
   "execution_count": null,
   "metadata": {},
   "outputs": [
    {
     "name": "stdout",
     "output_type": "stream",
     "text": [
      "0 -162.0765862991649 6.815220167272649\n",
      "1 -157.56781279144457 6.497014246255699\n",
      "2 -169.89243030705723 6.124447513985919\n",
      "3 -231.68732723667176 5.744900663415262\n",
      "4 -212.4677529205162 5.907703903505015\n",
      "5 -182.12776667126445 4.992208542342307\n",
      "6 -184.99852269518647 4.505880568725619\n",
      "7 -127.9574563927581 6.743037819810104\n",
      "8 -103.7769871200901 6.485726250082079\n",
      "9 -97.2396264144976 6.212227960635342\n",
      "10 -219.15923424444384 7.1528484519706765\n",
      "11 -298.35883086071556 7.2610264810515375\n",
      "178.94252782948422\n"
     ]
    }
   ],
   "source": [
    "predicted = np.zeros_like(experimental)\n",
    "DTav = 0\n",
    "for i, run in enumerate(GuoDict):\n",
    "    Tquasi, sqerr = g.findTquasi(fuelID, experimental[i], T0=T[i], air=ER[i], airType='ER', stm=SB[i], stmType='steam', species=species, C_avail=1.0)\n",
    "    report1 = g.gasifier(fuelID, T=Tquasi, air=ER[i], airType='ER', stm=SB[i], stmType='steam', species=species, C_avail=1.0)[0]\n",
    "    sqErr = 0\n",
    "    for j, sp in enumerate(species):\n",
    "        predicted[i,j] = report1[sp]\n",
    "        sqErr += (predicted[i,j]*100 - experimental[i,j]*100)**2\n",
    "    RMSE = np.sqrt(sqErr/len(species)) # as a percentage\n",
    "    DTav += T[i] - Tquasi\n",
    "    print(i, Tquasi - T[i], RMSE)\n",
    "DTav /= len(T)\n",
    "print(DTav)"
   ]
  },
  {
   "cell_type": "code",
   "execution_count": null,
   "metadata": {},
   "outputs": [
    {
     "name": "stdout",
     "output_type": "stream",
     "text": [
      "0 6.82498651052924\n",
      "1 6.574538482256658\n",
      "2 6.1504116305526955\n",
      "3 6.7587231338343745\n",
      "4 6.018210079744731\n",
      "5 4.994426677159007\n",
      "6 4.518475685863215\n",
      "7 6.9523627481933294\n",
      "8 7.2911723269267\n",
      "9 7.381549649336775\n",
      "10 7.528468253404719\n",
      "11 11.416062357519607\n"
     ]
    }
   ],
   "source": [
    "predicted = np.zeros_like(experimental)\n",
    "for i, run in enumerate(GuoDict):\n",
    "    report0 = g.gasifier(fuelID, T=T[i]-DTav, air=ER[i], airType='ER', stm=SB[i], stmType='steam', species=species, C_avail=1.0)\n",
    "    sqErr = 0\n",
    "    for j, sp in enumerate(species):\n",
    "        predicted[i,j] = report0[sp]\n",
    "        sqErr += (predicted[i,j]*100 - experimental[i,j]*100)**2\n",
    "    RMSE = np.sqrt(sqErr/len(species)) # as a percentage\n",
    "    print(i, RMSE)"
   ]
  }
 ],
 "metadata": {
  "kernelspec": {
   "display_name": "Python 3.9.12 ('ct-env')",
   "language": "python",
   "name": "python3"
  },
  "language_info": {
   "codemirror_mode": {
    "name": "ipython",
    "version": 3
   },
   "file_extension": ".py",
   "mimetype": "text/x-python",
   "name": "python",
   "nbconvert_exporter": "python",
   "pygments_lexer": "ipython3",
   "version": "3.9.12"
  },
  "orig_nbformat": 4,
  "vscode": {
   "interpreter": {
    "hash": "2f8f1d48e13c088e6e56ea43e4e7205e8329df80b1713cb4d658a3a978301f46"
   }
  }
 },
 "nbformat": 4,
 "nbformat_minor": 2
}
