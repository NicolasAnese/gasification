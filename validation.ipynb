{
 "cells": [
  {
   "cell_type": "code",
   "execution_count": 17,
   "metadata": {},
   "outputs": [],
   "source": [
    "# Importing libraries\n",
    "import numpy as np\n",
    "import pandas as pd\n",
    "import cantera as ct\n",
    "import matplotlib.pyplot as plt\n",
    "import matplotlib_inline as line\n",
    "import json\n",
    "from scipy.optimize import minimize\n",
    "\n",
    "# Importing packages\n",
    "import feedstock2 as fs\n",
    "import pp2 as pp\n",
    "import gasifier2 as g\n",
    "import fuel as fu\n",
    "import energy as en\n",
    "import outputs as op"
   ]
  },
  {
   "cell_type": "code",
   "execution_count": 18,
   "metadata": {},
   "outputs": [],
   "source": [
    "# Grabbing data from JSON file\n",
    "with open('data.json','r') as dataFile:\n",
    "    data = json.load(dataFile)\n",
    "    dataFile.close()"
   ]
  },
  {
   "cell_type": "code",
   "execution_count": 19,
   "metadata": {},
   "outputs": [
    {
     "data": {
      "text/html": [
       "<div>\n",
       "<style scoped>\n",
       "    .dataframe tbody tr th:only-of-type {\n",
       "        vertical-align: middle;\n",
       "    }\n",
       "\n",
       "    .dataframe tbody tr th {\n",
       "        vertical-align: top;\n",
       "    }\n",
       "\n",
       "    .dataframe thead th {\n",
       "        text-align: right;\n",
       "    }\n",
       "</style>\n",
       "<table border=\"1\" class=\"dataframe\">\n",
       "  <thead>\n",
       "    <tr style=\"text-align: right;\">\n",
       "      <th></th>\n",
       "      <th>Qf</th>\n",
       "      <th>Qs</th>\n",
       "      <th>ER</th>\n",
       "      <th>Tbed</th>\n",
       "      <th>Toxi</th>\n",
       "      <th>Tenl</th>\n",
       "      <th>Tgas</th>\n",
       "      <th>CO</th>\n",
       "      <th>H2</th>\n",
       "      <th>CH4</th>\n",
       "      <th>CO2</th>\n",
       "      <th>N2</th>\n",
       "      <th>HHVgas(MJ/Nm3)</th>\n",
       "      <th>CarbonConv</th>\n",
       "      <th>GasYield(Nm3/kg)</th>\n",
       "      <th>Eff</th>\n",
       "    </tr>\n",
       "  </thead>\n",
       "  <tbody>\n",
       "    <tr>\n",
       "      <th>0</th>\n",
       "      <td>50</td>\n",
       "      <td>5</td>\n",
       "      <td>0.35</td>\n",
       "      <td>732</td>\n",
       "      <td>635</td>\n",
       "      <td>701</td>\n",
       "      <td>531</td>\n",
       "      <td>12.04</td>\n",
       "      <td>6.06</td>\n",
       "      <td>1.56</td>\n",
       "      <td>14.26</td>\n",
       "      <td>66.08</td>\n",
       "      <td>3.02</td>\n",
       "      <td>50.51</td>\n",
       "      <td>1.41</td>\n",
       "      <td>23.44</td>\n",
       "    </tr>\n",
       "    <tr>\n",
       "      <th>1</th>\n",
       "      <td>50</td>\n",
       "      <td>5</td>\n",
       "      <td>0.30</td>\n",
       "      <td>728</td>\n",
       "      <td>630</td>\n",
       "      <td>692</td>\n",
       "      <td>532</td>\n",
       "      <td>13.76</td>\n",
       "      <td>6.84</td>\n",
       "      <td>2.28</td>\n",
       "      <td>13.92</td>\n",
       "      <td>63.20</td>\n",
       "      <td>3.64</td>\n",
       "      <td>48.73</td>\n",
       "      <td>1.26</td>\n",
       "      <td>25.38</td>\n",
       "    </tr>\n",
       "    <tr>\n",
       "      <th>2</th>\n",
       "      <td>50</td>\n",
       "      <td>5</td>\n",
       "      <td>0.25</td>\n",
       "      <td>710</td>\n",
       "      <td>603</td>\n",
       "      <td>638</td>\n",
       "      <td>502</td>\n",
       "      <td>15.84</td>\n",
       "      <td>7.09</td>\n",
       "      <td>2.59</td>\n",
       "      <td>13.04</td>\n",
       "      <td>61.44</td>\n",
       "      <td>4.08</td>\n",
       "      <td>43.93</td>\n",
       "      <td>1.08</td>\n",
       "      <td>24.37</td>\n",
       "    </tr>\n",
       "    <tr>\n",
       "      <th>3</th>\n",
       "      <td>50</td>\n",
       "      <td>5</td>\n",
       "      <td>0.20</td>\n",
       "      <td>701</td>\n",
       "      <td>576</td>\n",
       "      <td>601</td>\n",
       "      <td>487</td>\n",
       "      <td>17.32</td>\n",
       "      <td>8.57</td>\n",
       "      <td>3.45</td>\n",
       "      <td>12.93</td>\n",
       "      <td>57.73</td>\n",
       "      <td>4.82</td>\n",
       "      <td>40.15</td>\n",
       "      <td>0.92</td>\n",
       "      <td>24.59</td>\n",
       "    </tr>\n",
       "    <tr>\n",
       "      <th>4</th>\n",
       "      <td>50</td>\n",
       "      <td>5</td>\n",
       "      <td>0.15</td>\n",
       "      <td>694</td>\n",
       "      <td>556</td>\n",
       "      <td>590</td>\n",
       "      <td>452</td>\n",
       "      <td>18.04</td>\n",
       "      <td>10.21</td>\n",
       "      <td>3.46</td>\n",
       "      <td>12.36</td>\n",
       "      <td>55.93</td>\n",
       "      <td>5.14</td>\n",
       "      <td>31.33</td>\n",
       "      <td>0.72</td>\n",
       "      <td>20.35</td>\n",
       "    </tr>\n",
       "  </tbody>\n",
       "</table>\n",
       "</div>"
      ],
      "text/plain": [
       "   Qf  Qs    ER  Tbed  Toxi  Tenl  Tgas     CO     H2   CH4    CO2     N2  \\\n",
       "0  50   5  0.35   732   635   701   531  12.04   6.06  1.56  14.26  66.08   \n",
       "1  50   5  0.30   728   630   692   532  13.76   6.84  2.28  13.92  63.20   \n",
       "2  50   5  0.25   710   603   638   502  15.84   7.09  2.59  13.04  61.44   \n",
       "3  50   5  0.20   701   576   601   487  17.32   8.57  3.45  12.93  57.73   \n",
       "4  50   5  0.15   694   556   590   452  18.04  10.21  3.46  12.36  55.93   \n",
       "\n",
       "   HHVgas(MJ/Nm3)  CarbonConv  GasYield(Nm3/kg)    Eff  \n",
       "0            3.02       50.51              1.41  23.44  \n",
       "1            3.64       48.73              1.26  25.38  \n",
       "2            4.08       43.93              1.08  24.37  \n",
       "3            4.82       40.15              0.92  24.59  \n",
       "4            5.14       31.33              0.72  20.35  "
      ]
     },
     "execution_count": 19,
     "metadata": {},
     "output_type": "execute_result"
    }
   ],
   "source": [
    "Table2 = data['Thamavithya2010']['Table2']\n",
    "df = pd.DataFrame(Table2)\n",
    "df.head()"
   ]
  },
  {
   "cell_type": "code",
   "execution_count": 20,
   "metadata": {},
   "outputs": [],
   "source": [
    "fuelID = \"ThamaSawdust\"\n",
    "species=['CO','H2','CH4','CO2','N2']\n",
    "moist = fu.moisture(fuelID)\n",
    "ER = 0.35\n",
    "experimental = np.array([0.1204, 0.0606, 0.0156, 0.1426, 0.6608])"
   ]
  },
  {
   "cell_type": "code",
   "execution_count": 21,
   "metadata": {},
   "outputs": [
    {
     "name": "stdout",
     "output_type": "stream",
     "text": [
      "682.9238847455201\n"
     ]
    }
   ],
   "source": [
    "Tquasi, err = g.findTquasi(fuelID, experimental, moist=moist, T0=531+273.15, air=ER, species=species)\n",
    "print(Tquasi)"
   ]
  },
  {
   "cell_type": "code",
   "execution_count": 22,
   "metadata": {},
   "outputs": [
    {
     "name": "stdout",
     "output_type": "stream",
     "text": [
      "CO 4.316859799451124\n",
      "H2 13.29781436679788\n",
      "CH4 2.3528162249201445\n",
      "CO2 17.645921819318612\n",
      "N2 41.45704345564427\n"
     ]
    }
   ],
   "source": [
    "report = g.gasifier(fuelID, T=531+273.15, moist=moist, air=ER, species=species)\n",
    "for sp in species:\n",
    "    print(sp, report[sp]*100)"
   ]
  },
  {
   "cell_type": "code",
   "execution_count": 23,
   "metadata": {},
   "outputs": [
    {
     "data": {
      "image/png": "[encoded data removed]",
      "text/plain": [
       "<Figure size 432x288 with 1 Axes>"
      ]
     },
     "metadata": {
      "needs_background": "light"
     },
     "output_type": "display_data"
    }
   ],
   "source": [
    "fuelID = 'GuoCorn'\n",
    "T = np.array([700, 800, 900]) # °C\n",
    "T = T + 273.15 # K\n",
    "ER = 0.21 # constant\n",
    "moist = 0\n",
    "species = ['CO2', 'CO', 'CH4', 'H2']\n",
    "experimental = np.array([[17.1, 14.7, 6.36, 7.58],\n",
    "                         [16.5, 16.4, 6.07, 7.97],\n",
    "                         [15.7, 17.8, 5.60, 8.35]]) # %\n",
    "experimental = experimental/100 # fraction\n",
    "Tl = np.linspace(T[0], T[-1], 100) # K\n",
    "CO2l = np.zeros_like(Tl)\n",
    "COl = np.zeros_like(Tl)\n",
    "CH4l = np.zeros_like(Tl)\n",
    "H2l = np.zeros_like(Tl)\n",
    "for i, t in enumerate(Tl):\n",
    "    report = g.gasifier(fuelID, T=t, air=ER, species=species)\n",
    "    CO2l[i] = report['CO2']\n",
    "    COl[i] = report['CO']\n",
    "    CH4l[i] = report['CH4']\n",
    "    H2l[i] = report['H2']\n",
    "\n",
    "plt.plot(Tl, CO2l, label='CO2')\n",
    "plt.plot(Tl, COl, label='CO')\n",
    "plt.plot(Tl, CH4l, label='CH4') \n",
    "plt.plot(Tl, H2l, label='H2')\n",
    "plt.scatter(T, experimental[:,0], label='CO2 exp')\n",
    "plt.scatter(T, experimental[:,1], label='CO exp')\n",
    "plt.scatter(T, experimental[:,2], label='CH4 exp')\n",
    "plt.scatter(T, experimental[:,3], label='H2 exp')\n",
    "plt.grid()\n",
    "plt.savefig(\"results.png\")\n",
    "plt.show()\n"
   ]
  },
  {
   "cell_type": "code",
   "execution_count": 24,
   "metadata": {},
   "outputs": [
    {
     "name": "stdout",
     "output_type": "stream",
     "text": [
      "1500.7229991896468 0.31982180274729805 0.16073262111431946\n",
      "1639.4534316480276 0.35041644571266695 0.1579206266686656\n",
      "1768.5854214534345 0.37715266701277106 0.15221577165569206\n"
     ]
    },
    {
     "data": {
      "image/png": "[encoded data removed]",
      "text/plain": [
       "<Figure size 432x288 with 1 Axes>"
      ]
     },
     "metadata": {
      "needs_background": "light"
     },
     "output_type": "display_data"
    }
   ],
   "source": [
    "predicted = np.zeros_like(experimental)\n",
    "for i, t in enumerate(T):\n",
    "    X = g.findParams(fuelID, experimental[i], T0=t, air=ER, species=species)\n",
    "    Tq, C_avail, sqerr = X\n",
    "    report = g.gasifier(fuelID, T=Tq, air=ER, species=species, C_avail=C_avail)\n",
    "    for j, sp in enumerate(species):\n",
    "        predicted[i,j] = report[sp]\n",
    "    print(Tq, C_avail, np.sqrt(sqerr))\n",
    "\n",
    "plt.plot(T, predicted[:,0], label='CO2')\n",
    "plt.plot(T, predicted[:,1], label='CO')\n",
    "plt.plot(T, predicted[:,2], label='CH4') \n",
    "plt.plot(T, predicted[:,3], label='H2')\n",
    "plt.scatter(T, experimental[:,0], label='CO2 exp')\n",
    "plt.scatter(T, experimental[:,1], label='CO exp')\n",
    "plt.scatter(T, experimental[:,2], label='CH4 exp')\n",
    "plt.scatter(T, experimental[:,3], label='H2 exp')\n",
    "plt.grid()\n",
    "plt.savefig(\"results2.png\")\n",
    "plt.show()"
   ]
  }
 ],
 "metadata": {
  "interpreter": {
   "hash": "ab41b54e4c1455ad47a64297637293cdab919e934b3b21d6ec5db0dcb5c25070"
  },
  "kernelspec": {
   "display_name": "Python 3.9.12 ('ct-env')",
   "language": "python",
   "name": "python3"
  },
  "language_info": {
   "codemirror_mode": {
    "name": "ipython",
    "version": 3
   },
   "file_extension": ".py",
   "mimetype": "text/x-python",
   "name": "python",
   "nbconvert_exporter": "python",
   "pygments_lexer": "ipython3",
   "version": "3.9.12"
  },
  "orig_nbformat": 4
 },
 "nbformat": 4,
 "nbformat_minor": 2
}
