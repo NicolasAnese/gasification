{
 "cells": [
  {
   "cell_type": "code",
   "execution_count": 1,
   "metadata": {},
   "outputs": [
    {
     "name": "stdout",
     "output_type": "stream",
     "text": [
      "CanteraWarning: NasaPoly2::validate: \n",
      "For species Fe(c), discontinuity in cp/R detected at Tmid = 1000.0\n",
      "\tValue computed using low-temperature polynomial:  0.0\n",
      "\tValue computed using high-temperature polynomial: 4.2881898\n",
      "\n",
      "CanteraWarning: NasaPoly2::validate: \n",
      "For species Fe(c), discontinuity in h/RT detected at Tmid = 1000.0\n",
      "\tValue computed using low-temperature polynomial:  0.0\n",
      "\tValue computed using high-temperature polynomial: 3.425820683333331\n",
      "\n",
      "CanteraWarning: NasaPoly2::validate: \n",
      "For species Fe(c), discontinuity in s/R detected at Tmid = 1000.0\n",
      "\tValue computed using low-temperature polynomial:  0.0\n",
      "\tValue computed using high-temperature polynomial: 8.486560101557188\n",
      "\n",
      "CanteraWarning: NasaPoly2::validate: \n",
      "For species Cr(cr), discontinuity in cp/R detected at Tmid = 1000.0\n",
      "\tValue computed using low-temperature polynomial:  749.1520512400002\n",
      "\tValue computed using high-temperature polynomial: 0.0\n",
      "\n",
      "CanteraWarning: NasaPoly2::validate: \n",
      "For species Cr(cr), discontinuity in h/RT detected at Tmid = 1000.0\n",
      "\tValue computed using low-temperature polynomial:  113.24055562733336\n",
      "\tValue computed using high-temperature polynomial: 0.0\n",
      "\n",
      "CanteraWarning: NasaPoly2::validate: \n",
      "For species Cr(cr), discontinuity in s/R detected at Tmid = 1000.0\n",
      "\tValue computed using low-temperature polynomial:  135.51255437035232\n",
      "\tValue computed using high-temperature polynomial: 0.0\n",
      "\n",
      "0.055509297807382736\n"
     ]
    }
   ],
   "source": [
    "# Importing libraries\n",
    "import numpy as np\n",
    "import pandas as pd\n",
    "import cantera as ct\n",
    "import matplotlib.pyplot as plt\n",
    "import json\n",
    "\n",
    "# Importing packages\n",
    "import feedstock as fs\n",
    "import pp\n",
    "import gasifier as g\n",
    "import fuel as fu\n",
    "import energy as en\n",
    "import outputs as op"
   ]
  },
  {
   "cell_type": "code",
   "execution_count": 2,
   "metadata": {},
   "outputs": [],
   "source": [
    "# Grabbing data from JSON file\n",
    "with open('data/data.json','r') as dataFile:\n",
    "    data = json.load(dataFile)\n",
    "    dataFile.close()"
   ]
  },
  {
   "cell_type": "code",
   "execution_count": 3,
   "metadata": {},
   "outputs": [],
   "source": [
    "# Table2 = data['Thamavithya2010']['Table2']\n",
    "# df = pd.DataFrame(Table2)\n",
    "# df.head()"
   ]
  },
  {
   "cell_type": "code",
   "execution_count": 4,
   "metadata": {},
   "outputs": [],
   "source": [
    "# fuelID = \"ThamaSawdust\"\n",
    "# species=['CO','H2','CH4','CO2','N2']\n",
    "# moist = fu.moisture(fuelID)\n",
    "# n = len(Table2)\n",
    "# ER = np.array([run['ER'] for run in Table2])\n",
    "# T = np.array([run['Tgas'] for run in Table2]) + 273.15 # K\n",
    "# experimental = np.zeros((n, len(species)))\n",
    "# for i in range(n):\n",
    "#     for j, sp in enumerate(species):\n",
    "#         experimental[i,j] = Table2[i][sp]/100\n",
    "# CC = np.array([run['CarbonConv'] for run in Table2])"
   ]
  },
  {
   "cell_type": "code",
   "execution_count": 5,
   "metadata": {},
   "outputs": [],
   "source": [
    "# predicted = np.zeros_like(experimental)\n",
    "# for i in range(n):\n",
    "#     report0 = g.gasifier(fuelID, moist=moist, T=T[i], air=ER[i], airType='ER', species=species)\n",
    "#     CC_pred = report0['CC']\n",
    "#     C_avail0 = CC[i]/CC_pred\n",
    "#     DT, sqerr = g.findTquasi(fuelID, experimental[i], moist=moist, T0=T[i], air=ER[i], airType='ER', C_avail=1.0, species=species)\n",
    "#     report1 = g.gasifier(fuelID, moist=moist, T=T[i]-DT, air=ER[i], airType='ER', species=species+['C(gr)'], C_avail=1.0)\n",
    "#     for j, sp in enumerate(species):\n",
    "#         predicted[i,j] = report1[sp]\n",
    "#     print(i)\n",
    "# print(predicted)"
   ]
  },
  {
   "cell_type": "code",
   "execution_count": 6,
   "metadata": {},
   "outputs": [],
   "source": [
    "# plt.scatter(ER, experimental[:,4], label='CO')\n",
    "# plt.plot(ER, predicted[:,4], label='CO pred')\n",
    "# plt.grid()\n",
    "# plt.show()"
   ]
  },
  {
   "cell_type": "code",
   "execution_count": 7,
   "metadata": {},
   "outputs": [],
   "source": [
    "# This uses data from 10.1007/s11708-020-0710-3 (Guo et al., 2020)\n",
    "\n",
    "# Fuel is already in database (Compressed Corn Straw)\n",
    "fuelID = 'GuoCorn'\n",
    "\n",
    "GuoDict = data[\"Guo2021\"][\"Table3\"]\n",
    "\n",
    "# Experimental data information\n",
    "T = np.array([700, 800, 900]) # °C\n",
    "T = T + 273.15 # K\n",
    "ER = 0.21 # constant\n",
    "moist = 0\n",
    "species = ['CO2', 'CO', 'CH4', 'H2']\n",
    "experimental = np.array([[17.1, 14.7, 6.36, 7.58],\n",
    "                         [16.5, 16.4, 6.07, 7.97],\n",
    "                         [15.7, 17.8, 5.60, 8.35]]) # %\n",
    "experimental = experimental/100 # fraction"
   ]
  },
  {
   "cell_type": "code",
   "execution_count": 8,
   "metadata": {},
   "outputs": [],
   "source": [
    "# Creating a range of values for smooth, continuos model response\n",
    "Tl = np.linspace(T[0], T[-1], 100) # K\n",
    "CO2l = np.zeros_like(Tl)\n",
    "COl = np.zeros_like(Tl)\n",
    "CH4l = np.zeros_like(Tl)\n",
    "H2l = np.zeros_like(Tl)"
   ]
  },
  {
   "cell_type": "code",
   "execution_count": 9,
   "metadata": {},
   "outputs": [
    {
     "data": {
      "image/png": "[encoded data removed]",
      "text/plain": [
       "<Figure size 432x288 with 1 Axes>"
      ]
     },
     "metadata": {
      "needs_background": "light"
     },
     "output_type": "display_data"
    }
   ],
   "source": [
    "# First test: raw model, no modifications\n",
    "\n",
    "for i, t in enumerate(Tl):\n",
    "    report = g.gasifier2(fuelID, T=t, air=ER, species=species)[0]\n",
    "    CO2l[i] = report['CO2']\n",
    "    COl[i] = report['CO']\n",
    "    CH4l[i] = report['CH4']\n",
    "    H2l[i] = report['H2']\n",
    "\n",
    "plt.plot(Tl, CO2l, label='CO2')\n",
    "plt.plot(Tl, COl, label='CO')\n",
    "plt.plot(Tl, CH4l, label='CH4') \n",
    "plt.plot(Tl, H2l, label='H2')\n",
    "plt.scatter(T, experimental[:,0], label='CO2 exp')\n",
    "plt.scatter(T, experimental[:,1], label='CO exp')\n",
    "plt.scatter(T, experimental[:,2], label='CH4 exp')\n",
    "plt.scatter(T, experimental[:,3], label='H2 exp')\n",
    "plt.legend()\n",
    "plt.grid()\n",
    "plt.savefig(\"results.png\")\n",
    "plt.show()"
   ]
  },
  {
   "cell_type": "code",
   "execution_count": 10,
   "metadata": {},
   "outputs": [
    {
     "name": "stdout",
     "output_type": "stream",
     "text": [
      "162.26182796577393 0.018583116160797067\n",
      "219.20230736032113 0.020473357213055786\n",
      "298.3845680031221 0.021098602694569275\n",
      "226.6162344430724\n"
     ]
    },
    {
     "data": {
      "image/png": "[encoded data removed]",
      "text/plain": [
       "<Figure size 432x288 with 1 Axes>"
      ]
     },
     "metadata": {
      "needs_background": "light"
     },
     "output_type": "display_data"
    }
   ],
   "source": [
    "# Second test: modified model finds DT but not C_avail, uses average DT value\n",
    "\n",
    "predicted = np.zeros_like(experimental)\n",
    "DTsum = 0\n",
    "for i, t in enumerate(T):\n",
    "    Tquasi, sqerr = g.findTquasi(fuelID, experimental[i], T0=t, air=ER, species=species, C_avail=1.0)\n",
    "    report = g.gasifier2(fuelID, T=Tquasi, air=ER, species=species, C_avail=1.0)[0]\n",
    "    for j, sp in enumerate(species):\n",
    "        predicted[i,j] = report[sp]\n",
    "    DT = t - Tquasi\n",
    "    DTsum += DT\n",
    "    print(DT, sqerr)\n",
    "\n",
    "DTav = DTsum/len(T)\n",
    "print(DTav)\n",
    "\n",
    "for i, t in enumerate(Tl):\n",
    "    report = g.gasifier2(fuelID, T=t-DTav, air=ER, species=species)[0]\n",
    "    CO2l[i] = report['CO2']\n",
    "    COl[i] = report['CO']\n",
    "    CH4l[i] = report['CH4']\n",
    "    H2l[i] = report['H2']\n",
    "\n",
    "plt.plot(Tl, CO2l, label='CO2')\n",
    "plt.plot(Tl, COl, label='CO')\n",
    "plt.plot(Tl, CH4l, label='CH4') \n",
    "plt.plot(Tl, H2l, label='H2')\n",
    "plt.scatter(T, experimental[:,0], label='CO2 exp')\n",
    "plt.scatter(T, experimental[:,1], label='CO exp')\n",
    "plt.scatter(T, experimental[:,2], label='CH4 exp')\n",
    "plt.scatter(T, experimental[:,3], label='H2 exp')\n",
    "plt.grid()\n",
    "plt.legend()\n",
    "plt.savefig(\"results2.png\")\n",
    "plt.show()"
   ]
  },
  {
   "cell_type": "code",
   "execution_count": 11,
   "metadata": {},
   "outputs": [],
   "source": [
    "# # Third test: modified model finds DT and C_avail, uses average values\n",
    "\n",
    "# predicted = np.zeros_like(experimental)\n",
    "# sums = [0, 0]\n",
    "# for i, t in enumerate(T):\n",
    "#     X = g.findParams(fuelID, experimental[i], T0=t, air=ER, species=species)\n",
    "#     DT, C_avail, sqerr = X\n",
    "#     report = g.gasifier(fuelID, T=t-DT, air=ER, species=species, C_avail=C_avail)\n",
    "#     for j, sp in enumerate(species):\n",
    "#         predicted[i,j] = report[sp]\n",
    "#     sums[0] += DT\n",
    "#     sums[1] += C_avail\n",
    "#     print(DT, C_avail, sqerr)\n",
    "# DTav = sums[0]/len(T)\n",
    "# C_avail_av = sums[1]/len(T)\n",
    "# print(DTav, C_avail_av)\n",
    "\n",
    "# for i, t in enumerate(Tl):\n",
    "#     report = g.gasifier(fuelID, T=t-DTav, air=ER, species=species, C_avail=C_avail_av)\n",
    "#     CO2l[i] = report['CO2']\n",
    "#     COl[i] = report['CO']\n",
    "#     CH4l[i] = report['CH4']\n",
    "#     H2l[i] = report['H2']\n",
    "\n",
    "# plt.plot(Tl, CO2l, label='CO2')\n",
    "# plt.plot(Tl, COl, label='CO')\n",
    "# plt.plot(Tl, CH4l, label='CH4') \n",
    "# plt.plot(Tl, H2l, label='H2')\n",
    "# plt.scatter(T, experimental[:,0], label='CO2 exp')\n",
    "# plt.scatter(T, experimental[:,1], label='CO exp')\n",
    "# plt.scatter(T, experimental[:,2], label='CH4 exp')\n",
    "# plt.scatter(T, experimental[:,3], label='H2 exp')\n",
    "# plt.grid()\n",
    "# plt.legend()\n",
    "# plt.savefig(\"results3.png\")\n",
    "# plt.show()"
   ]
  },
  {
   "cell_type": "code",
   "execution_count": 12,
   "metadata": {},
   "outputs": [
    {
     "data": {
      "text/html": [
       "<div>\n",
       "<style scoped>\n",
       "    .dataframe tbody tr th:only-of-type {\n",
       "        vertical-align: middle;\n",
       "    }\n",
       "\n",
       "    .dataframe tbody tr th {\n",
       "        vertical-align: top;\n",
       "    }\n",
       "\n",
       "    .dataframe thead th {\n",
       "        text-align: right;\n",
       "    }\n",
       "</style>\n",
       "<table border=\"1\" class=\"dataframe\">\n",
       "  <thead>\n",
       "    <tr style=\"text-align: right;\">\n",
       "      <th></th>\n",
       "      <th>Run</th>\n",
       "      <th>T</th>\n",
       "      <th>ER</th>\n",
       "      <th>S/B</th>\n",
       "      <th>DMP</th>\n",
       "      <th>CO2</th>\n",
       "      <th>CO</th>\n",
       "      <th>CH4</th>\n",
       "      <th>H2</th>\n",
       "      <th>Tar</th>\n",
       "    </tr>\n",
       "  </thead>\n",
       "  <tbody>\n",
       "    <tr>\n",
       "      <th>0</th>\n",
       "      <td>1</td>\n",
       "      <td>700</td>\n",
       "      <td>0.21</td>\n",
       "      <td>0.0</td>\n",
       "      <td>0</td>\n",
       "      <td>17.1</td>\n",
       "      <td>14.7</td>\n",
       "      <td>6.36</td>\n",
       "      <td>7.58</td>\n",
       "      <td>6.20</td>\n",
       "    </tr>\n",
       "    <tr>\n",
       "      <th>1</th>\n",
       "      <td>2</td>\n",
       "      <td>740</td>\n",
       "      <td>0.26</td>\n",
       "      <td>0.0</td>\n",
       "      <td>0</td>\n",
       "      <td>17.8</td>\n",
       "      <td>15.5</td>\n",
       "      <td>7.24</td>\n",
       "      <td>7.93</td>\n",
       "      <td>5.56</td>\n",
       "    </tr>\n",
       "    <tr>\n",
       "      <th>2</th>\n",
       "      <td>3</td>\n",
       "      <td>770</td>\n",
       "      <td>0.31</td>\n",
       "      <td>0.0</td>\n",
       "      <td>0</td>\n",
       "      <td>18.8</td>\n",
       "      <td>16.4</td>\n",
       "      <td>7.89</td>\n",
       "      <td>8.91</td>\n",
       "      <td>4.69</td>\n",
       "    </tr>\n",
       "    <tr>\n",
       "      <th>3</th>\n",
       "      <td>4</td>\n",
       "      <td>820</td>\n",
       "      <td>0.34</td>\n",
       "      <td>0.0</td>\n",
       "      <td>0</td>\n",
       "      <td>20.2</td>\n",
       "      <td>15.2</td>\n",
       "      <td>6.41</td>\n",
       "      <td>8.07</td>\n",
       "      <td>3.97</td>\n",
       "    </tr>\n",
       "    <tr>\n",
       "      <th>4</th>\n",
       "      <td>5</td>\n",
       "      <td>700</td>\n",
       "      <td>0.21</td>\n",
       "      <td>0.2</td>\n",
       "      <td>0</td>\n",
       "      <td>17.8</td>\n",
       "      <td>12.9</td>\n",
       "      <td>4.21</td>\n",
       "      <td>9.51</td>\n",
       "      <td>5.34</td>\n",
       "    </tr>\n",
       "  </tbody>\n",
       "</table>\n",
       "</div>"
      ],
      "text/plain": [
       "   Run    T    ER  S/B  DMP   CO2    CO   CH4    H2   Tar\n",
       "0    1  700  0.21  0.0    0  17.1  14.7  6.36  7.58  6.20\n",
       "1    2  740  0.26  0.0    0  17.8  15.5  7.24  7.93  5.56\n",
       "2    3  770  0.31  0.0    0  18.8  16.4  7.89  8.91  4.69\n",
       "3    4  820  0.34  0.0    0  20.2  15.2  6.41  8.07  3.97\n",
       "4    5  700  0.21  0.2    0  17.8  12.9  4.21  9.51  5.34"
      ]
     },
     "execution_count": 12,
     "metadata": {},
     "output_type": "execute_result"
    }
   ],
   "source": [
    "GuoDF = pd.DataFrame.from_dict(GuoDict)\n",
    "\n",
    "n = len(GuoDict)\n",
    "T = np.zeros(n)\n",
    "ER = np.zeros(n)\n",
    "SB = np.zeros(n)\n",
    "DMP = np.zeros(n)\n",
    "species = ['CO2', 'CO', 'CH4', 'H2']\n",
    "experimental = np.zeros((n, len(species)))\n",
    "for i, run in enumerate(GuoDict):\n",
    "    T[i] = run['T']+273.15\n",
    "    ER[i] = run['ER']\n",
    "    SB[i] = run['S/B']\n",
    "    DMP[i] = run['DMP']\n",
    "    for j, sp in enumerate(species):\n",
    "        experimental[i,j] = run[sp]/100\n",
    "GuoDF.head()"
   ]
  },
  {
   "cell_type": "code",
   "execution_count": 13,
   "metadata": {},
   "outputs": [
    {
     "name": "stdout",
     "output_type": "stream",
     "text": [
      "0 11.694500676553327\n",
      "1 12.089277279053348\n",
      "2 10.456973758211397\n",
      "3 10.191720047176723\n",
      "4 11.851285196752736\n",
      "5 9.979375070579605\n",
      "6 9.062206970762466\n",
      "7 11.093901730400665\n",
      "8 10.221214458891376\n",
      "9 9.84769376454269\n",
      "10 14.787174416319171\n",
      "11 14.602087644717438\n"
     ]
    }
   ],
   "source": [
    "predicted = np.zeros_like(experimental)\n",
    "for i, run in enumerate(GuoDict):\n",
    "    report0 = g.gasifier2(fuelID, T=T[i], air=ER[i], airType='ER', stm=SB[i], stmType='steam', species=species, C_avail=1.0)[0]\n",
    "    sqErr = 0\n",
    "    for j, sp in enumerate(species):\n",
    "        predicted[i,j] = report0[sp]\n",
    "        sqErr += (predicted[i,j]*100 - experimental[i,j]*100)**2\n",
    "    RMSE = np.sqrt(sqErr/len(species)) # as a percentage\n",
    "    print(i, RMSE)"
   ]
  },
  {
   "cell_type": "code",
   "execution_count": 14,
   "metadata": {},
   "outputs": [
    {
     "name": "stdout",
     "output_type": "stream",
     "text": [
      "0 -162.26182796577393 6.815995187937904\n",
      "1 -157.60991070477905 6.498524379754103\n",
      "2 -169.91611501409238 6.126204937041203\n",
      "3 -231.7145866260587 5.746844500183266\n",
      "4 -212.52466217233382 5.907993489776155\n",
      "5 -182.1716360037974 4.993011224137987\n",
      "6 -185.0140910643953 4.5069262249690905\n",
      "7 -128.0184736976571 6.744418062677388\n",
      "8 -103.80679731541545 6.487612270417712\n",
      "9 -97.26467380599036 6.214314774467556\n",
      "10 -219.20230736032113 7.154256986762446\n",
      "11 -298.3845680031221 7.262679033003123\n",
      "178.99080414447806\n"
     ]
    }
   ],
   "source": [
    "predicted = np.zeros_like(experimental)\n",
    "DTav = 0\n",
    "for i, run in enumerate(GuoDict):\n",
    "    Tquasi, sqerr = g.findTquasi(fuelID, experimental[i], T0=T[i], air=ER[i], airType='ER', stm=SB[i], stmType='steam', species=species, C_avail=1.0)\n",
    "    report1 = g.gasifier2(fuelID, T=Tquasi, air=ER[i], airType='ER', stm=SB[i], stmType='steam', species=species, C_avail=1.0)[0]\n",
    "    sqErr = 0\n",
    "    for j, sp in enumerate(species):\n",
    "        predicted[i,j] = report1[sp]\n",
    "        sqErr += (predicted[i,j]*100 - experimental[i,j]*100)**2\n",
    "    RMSE = np.sqrt(sqErr/len(species)) # as a percentage\n",
    "    DTav += T[i] - Tquasi\n",
    "    print(i, Tquasi - T[i], RMSE)\n",
    "DTav /= len(T)\n",
    "print(DTav)"
   ]
  },
  {
   "cell_type": "code",
   "execution_count": 15,
   "metadata": {},
   "outputs": [
    {
     "name": "stdout",
     "output_type": "stream",
     "text": [
      "0 6.825538972576542\n",
      "1 6.575959338909809\n",
      "2 6.152284886998412\n",
      "3 6.759392032242108\n",
      "4 6.018598570867953\n",
      "5 4.995205592440259\n",
      "6 4.519388268912508\n",
      "7 6.953136543609221\n",
      "8 7.292363024720137\n",
      "9 7.383008654664308\n",
      "10 7.5293675713631885\n",
      "11 11.415554944867926\n"
     ]
    }
   ],
   "source": [
    "predicted = np.zeros_like(experimental)\n",
    "for i, run in enumerate(GuoDict):\n",
    "    report0 = g.gasifier2(fuelID, T=T[i]-DTav, air=ER[i], airType='ER', stm=SB[i], stmType='steam', species=species, C_avail=1.0)[0]\n",
    "    sqErr = 0\n",
    "    for j, sp in enumerate(species):\n",
    "        predicted[i,j] = report0[sp]\n",
    "        sqErr += (predicted[i,j]*100 - experimental[i,j]*100)**2\n",
    "    RMSE = np.sqrt(sqErr/len(species)) # as a percentage\n",
    "    print(i, RMSE)"
   ]
  }
 ],
 "metadata": {
  "kernelspec": {
   "display_name": "Python 3.9.12 ('ct-env')",
   "language": "python",
   "name": "python3"
  },
  "language_info": {
   "codemirror_mode": {
    "name": "ipython",
    "version": 3
   },
   "file_extension": ".py",
   "mimetype": "text/x-python",
   "name": "python",
   "nbconvert_exporter": "python",
   "pygments_lexer": "ipython3",
   "version": "3.9.12"
  },
  "orig_nbformat": 4,
  "vscode": {
   "interpreter": {
    "hash": "2f8f1d48e13c088e6e56ea43e4e7205e8329df80b1713cb4d658a3a978301f46"
   }
  }
 },
 "nbformat": 4,
 "nbformat_minor": 2
}
