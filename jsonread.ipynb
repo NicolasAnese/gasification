{
 "cells": [
  {
   "cell_type": "code",
   "execution_count": 36,
   "metadata": {},
   "outputs": [],
   "source": [
    "# Importing libraries\n",
    "import numpy as np\n",
    "import pandas as pd\n",
    "import cantera as ct\n",
    "import matplotlib.pyplot as plt\n",
    "import matplotlib_inline as line\n",
    "import json\n",
    "\n",
    "# Importing packages\n",
    "import feedstock2 as fs\n",
    "import pp2 as pp\n",
    "import gasifier2 as g\n",
    "import fuel as fu\n",
    "import energy as en\n",
    "import outputs as op"
   ]
  },
  {
   "cell_type": "code",
   "execution_count": 37,
   "metadata": {},
   "outputs": [
    {
     "name": "stdout",
     "output_type": "stream",
     "text": [
      "{'Coal': {'Subbituminous': {'SiO2': 54.74, 'CaO': 7.05, 'Al2O3': 22.86, 'Fe2O3': 5.3, 'Na2O': 1.09, 'K2O': 1.67, 'MgO': 2.14, 'P2O5': 0.08, 'TiO2': 1, 'SO3': 4.07, 'Cr2O3': 0}, 'Other': {'SiO2': 54.06, 'CaO': 6.57, 'Al2O3': 23.18, 'Fe2O3': 6.85, 'Na2O': 0.82, 'K2O': 1.6, 'MgO': 1.83, 'P2O5': 0.5, 'TiO2': 1.05, 'SO3': 3.54, 'Cr2O3': 0}}, 'Biomass': {'Wood': {'SiO2': 22.22, 'CaO': 43.03, 'Al2O3': 5.09, 'Fe2O3': 3.44, 'Na2O': 2.85, 'K2O': 10.75, 'MgO': 6.07, 'P2O5': 3.48, 'TiO2': 0.29, 'SO3': 2.78, 'Cr2O3': 0}, 'Charcoal': {'SiO2': 22.22, 'CaO': 43.03, 'Al2O3': 5.09, 'Fe2O3': 3.44, 'Na2O': 2.85, 'K2O': 10.75, 'MgO': 6.07, 'P2O5': 3.48, 'TiO2': 0.29, 'SO3': 2.78, 'Cr2O3': 0}, 'Straw': {'SiO2': 43.94, 'CaO': 14.13, 'Al2O3': 2.71, 'Fe2O3': 1.42, 'Na2O': 1.35, 'K2O': 24.49, 'MgO': 4.66, 'P2O5': 4.13, 'TiO2': 0.16, 'SO3': 3.01, 'Cr2O3': 0}, 'Grass': {'SiO2': 46.18, 'CaO': 11.23, 'Al2O3': 1.39, 'Fe2O3': 0.98, 'Na2O': 1.25, 'K2O': 24.59, 'MgO': 4.02, 'P2O5': 6.62, 'TiO2': 0.08, 'SO3': 3.66, 'Cr2O3': 0}, 'Agricultural': {'SiO2': 33.39, 'CaO': 14.86, 'Al2O3': 3.66, 'Fe2O3': 3.26, 'Na2O': 2.29, 'K2O': 26.65, 'MgO': 5.62, 'P2O5': 6.48, 'TiO2': 0.18, 'SO3': 3.61, 'Cr2O3': 0}, 'Other': {'SiO2': 29.76, 'CaO': 25.27, 'Al2O3': 5.51, 'Fe2O3': 4, 'Na2O': 2.48, 'K2O': 17.91, 'MgO': 5.42, 'P2O5': 5.71, 'TiO2': 0.66, 'SO3': 3.28, 'Cr2O3': 0}}, 'Other': {'Other': {'SiO2': 50, 'CaO': 20, 'Al2O3': 10, 'Fe2O3': 10, 'Na2O': 10, 'K2O': 0, 'MgO': 0, 'P2O5': 0, 'TiO2': 0, 'SO3': 0, 'Cr2O3': 0}}}\n"
     ]
    }
   ],
   "source": [
    "# Load current data\n",
    "with open('ashes.json', 'r') as d:\n",
    "    data = json.load(d)\n",
    "print(data)"
   ]
  },
  {
   "cell_type": "code",
   "execution_count": 38,
   "metadata": {},
   "outputs": [],
   "source": [
    "#data = [{'Info': {'Title':'Experimental study on sawdust gasification in a spout-fluid bed reactor', 'Year':2012, 'DOI':'10.1002/er.1796'},\n",
    "        #'Fuels':[{'Name':'Sawdust', 'Moisture':18, 'VM':82.94,'FC':15.88, 'Ash':1.08, 'C':46.15, 'H':5.74, 'O':44.31, 'N':0.81, 'S':0}]}]"
   ]
  },
  {
   "cell_type": "code",
   "execution_count": 39,
   "metadata": {},
   "outputs": [],
   "source": [
    "# Code for appending new data through terminal\n"
   ]
  },
  {
   "cell_type": "code",
   "execution_count": 40,
   "metadata": {},
   "outputs": [],
   "source": [
    "# Write new data\n",
    "with open('ashes.json', 'w') as d:\n",
    "    json.dump(data, d, indent=4)"
   ]
  }
 ],
 "metadata": {
  "interpreter": {
   "hash": "ab41b54e4c1455ad47a64297637293cdab919e934b3b21d6ec5db0dcb5c25070"
  },
  "kernelspec": {
   "display_name": "Python 3.9.12 ('ct-env')",
   "language": "python",
   "name": "python3"
  },
  "language_info": {
   "codemirror_mode": {
    "name": "ipython",
    "version": 3
   },
   "file_extension": ".py",
   "mimetype": "text/x-python",
   "name": "python",
   "nbconvert_exporter": "python",
   "pygments_lexer": "ipython3",
   "version": "3.9.12"
  },
  "orig_nbformat": 4
 },
 "nbformat": 4,
 "nbformat_minor": 2
}
