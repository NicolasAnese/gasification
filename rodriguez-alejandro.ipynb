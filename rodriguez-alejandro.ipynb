{
 "cells": [
  {
   "cell_type": "code",
   "execution_count": 71,
   "metadata": {},
   "outputs": [],
   "source": [
    "import sys\n",
    "import cantera as ct\n",
    "import numpy as np\n",
    "import scipy.optimize as opt\n",
    "import matplotlib.pyplot as plt\n",
    "\n",
    "import phases\n",
    "import feedstock as fs\n",
    "import fuel as fu\n",
    "import energy as en\n",
    "import gasifier as gs"
   ]
  },
  {
   "cell_type": "code",
   "execution_count": 72,
   "metadata": {},
   "outputs": [],
   "source": [
    "sorghum = fs.create_fuel_stream(1, [42.29, 5.74, 37.32, 0.42, 0.07, 0], 0.1416, 0, 19.58)\n",
    "woodChips = fs.create_fuel_stream(1, [48.32, 6.62, 44.58, 0.14, 0.32, 0], 0.0093, 0, 17.52)\n",
    "dairyManure = fs.create_fuel_stream(1, [32.8, 2.48, 24.46, 4.16, 0.21, 0], 0.359, 0, 12.3)\n",
    "\n",
    "air1 = fs.create_air_from_ER(sorghum, 0.35)\n",
    "air2 = fs.create_air_from_ER(woodChips, 0.35)\n",
    "air3 = fs.create_air_from_ER(dairyManure, 0.35)"
   ]
  },
  {
   "cell_type": "code",
   "execution_count": 73,
   "metadata": {},
   "outputs": [
    {
     "data": {
      "image/png": "[encoded data removed]",
      "text/plain": [
       "<Figure size 432x288 with 1 Axes>"
      ]
     },
     "metadata": {
      "needs_background": "light"
     },
     "output_type": "display_data"
    }
   ],
   "source": [
    "TT = np.arange(740, 800+1E-6, 1) # °C\n",
    "CO = np.zeros_like(TT)\n",
    "H2 = np.zeros_like(TT)\n",
    "CH4 = np.zeros_like(TT)\n",
    "HV = np.zeros_like(TT)\n",
    "\n",
    "for i, t in enumerate(TT):\n",
    "    outlet = gs.gasify_isot(sorghum, air1, t+273.15)\n",
    "    CO[i] = outlet.get_syngas_fraction('CO')\n",
    "    H2[i] = outlet.get_syngas_fraction('H2')\n",
    "    CH4[i] = outlet.get_syngas_fraction('CH4')\n",
    "    HV[i] = outlet.get_syngas_hhv('vol', water=True, nitrogen=True)\n",
    "\n",
    "plt.plot(TT, CO)\n",
    "plt.plot(TT, H2)\n",
    "plt.plot(TT, CH4)\n",
    "plt.show()"
   ]
  },
  {
   "cell_type": "code",
   "execution_count": 74,
   "metadata": {},
   "outputs": [],
   "source": [
    "char_params = np.array([-111.1574, 3.9705, 0.0362, -7.1958, 3.0419, 1.2430, 0.1276, 1.1034, 1.4281])\n",
    "methane_params = np.array([16.5264, 0.4982, -0.0304, 0.1739, 0.2148, -0.1864, -0.1186, -0.2192, -0.2552])\n",
    "\n",
    "def char(ER, MC, T, C, H, O, ash):\n",
    "    a = lambda i: char_params[i]\n",
    "    return np.exp(a(0) + a(1)*ER + a(2)*MC + a(3)*((10**(-3))*T) + a(4)*((10**(-3))*T)**2 + a(5)*C + a(6)*H + a(7)*O +a(8)*ash)\n",
    "\n",
    "def met(ER, MC, T, C, H, O, ash):\n",
    "    b = lambda i: methane_params[i]\n",
    "    return np.exp(b(0) + b(1)*ER + b(2)*MC + b(3)*((10**(-3))*T) + b(4)*((10**(-3))*T)**2 + b(5)*C + b(6)*H + b(7)*O +b(8)*ash)"
   ]
  },
  {
   "cell_type": "code",
   "execution_count": 75,
   "metadata": {},
   "outputs": [
    {
     "name": "stdout",
     "output_type": "stream",
     "text": [
      "0.012879472665705582\n",
      "0.01287625376597835\n",
      "0.01287317580352923\n",
      "0.012870236063134045\n",
      "0.012867431880560047\n",
      "0.012864760641346024\n",
      "0.012862219781434744\n",
      "0.012859806786089471\n",
      "0.012857519188476694\n",
      "0.012855354569990233\n",
      "0.012853310559345155\n",
      "0.012851384830174737\n",
      "0.012849575102160622\n",
      "0.01284787914032154\n",
      "0.012846294755514225\n",
      "0.012844819800537286\n",
      "0.012843452171297556\n",
      "0.01284218980591514\n",
      "0.012841030684218152\n",
      "0.012839972826579919\n",
      "0.012839014293747304\n",
      "0.012838153185669212\n",
      "0.012837387641814349\n",
      "0.012836715840502213\n",
      "0.012836135993419387\n",
      "0.01283564635318461\n",
      "0.012835245207207198\n",
      "0.012834930878348678\n",
      "0.012834701724303232\n",
      "0.012834556137074382\n",
      "0.012834492541823487\n",
      "0.01283450939703013\n",
      "0.012834605193339012\n",
      "0.01283477845264144\n",
      "0.01283502772926135\n",
      "0.012835351607234232\n",
      "0.012835748699398467\n",
      "0.012836217649873638\n",
      "0.012836757129670147\n",
      "0.012837365839298218\n",
      "0.012838042507421304\n",
      "0.012838785887162025\n",
      "0.012839594760628925\n",
      "0.012840467935378129\n",
      "0.012841404244336078\n",
      "0.01284240254511342\n",
      "0.012843461720170049\n",
      "0.012844580675791228\n",
      "0.01284575834400708\n",
      "0.012846993673479561\n",
      "0.012848285641497488\n",
      "0.012849633244824875\n",
      "0.012851035502966743\n",
      "0.012852491457081639\n",
      "0.012854000166803417\n",
      "0.012855560714515544\n",
      "0.012857172199821739\n",
      "0.012858833742449413\n",
      "0.012860544484378985\n",
      "0.012862303581860503\n",
      "0.01286411021178139\n"
     ]
    },
    {
     "data": {
      "image/png": "[encoded data removed]",
      "text/plain": [
       "<Figure size 432x288 with 1 Axes>"
      ]
     },
     "metadata": {
      "needs_background": "light"
     },
     "output_type": "display_data"
    }
   ],
   "source": [
    "TT = np.arange(740, 800+1E-6, 1) # °C\n",
    "CO = np.zeros_like(TT)\n",
    "H2 = np.zeros_like(TT)\n",
    "CH4 = np.zeros_like(TT)\n",
    "HV = np.zeros_like(TT)\n",
    "\n",
    "for i, t in enumerate(TT):\n",
    "    ch = 1 - (0.1007 + 0.0011*t)\n",
    "    mt = met(0.35, 0, t+273.15, 42.29, 5.74, 37.32, 14.16)\n",
    "    outlet = gs.gasify_isot(sorghum, air1, t+273.15, charFormation=ch,  directMethaneConv=mt)\n",
    "    CO[i] = outlet.get_syngas_fraction('CO')\n",
    "    H2[i] = outlet.get_syngas_fraction('H2')\n",
    "    CH4[i] = outlet.get_syngas_fraction('CH4')\n",
    "    print(CH4[i])\n",
    "    HV[i] = outlet.get_syngas_hhv('vol', water=True, nitrogen=True)\n",
    "\n",
    "plt.plot(TT, CO*100, label='CO')\n",
    "plt.plot(TT, H2*100, label='H2')\n",
    "plt.plot(TT, CH4*100, label='CH4')\n",
    "plt.xlim(TT[0], TT[-1])\n",
    "plt.ylim(0, 30)\n",
    "plt.legend()\n",
    "plt.show()"
   ]
  }
 ],
 "metadata": {
  "kernelspec": {
   "display_name": "ct-env",
   "language": "python",
   "name": "python3"
  },
  "language_info": {
   "codemirror_mode": {
    "name": "ipython",
    "version": 3
   },
   "file_extension": ".py",
   "mimetype": "text/x-python",
   "name": "python",
   "nbconvert_exporter": "python",
   "pygments_lexer": "ipython3",
   "version": "3.9.12"
  },
  "orig_nbformat": 4,
  "vscode": {
   "interpreter": {
    "hash": "2f8f1d48e13c088e6e56ea43e4e7205e8329df80b1713cb4d658a3a978301f46"
   }
  }
 },
 "nbformat": 4,
 "nbformat_minor": 2
}
