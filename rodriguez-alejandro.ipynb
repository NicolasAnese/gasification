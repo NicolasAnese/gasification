{
 "cells": [
  {
   "cell_type": "code",
   "execution_count": 24,
   "metadata": {},
   "outputs": [],
   "source": [
    "import sys\n",
    "import cantera as ct\n",
    "import numpy as np\n",
    "import scipy.optimize as opt\n",
    "import matplotlib.pyplot as plt\n",
    "\n",
    "import phases\n",
    "import feedstock as fs\n",
    "import fuel as fu\n",
    "import energy as en\n",
    "import gasifier as gs"
   ]
  },
  {
   "cell_type": "code",
   "execution_count": 25,
   "metadata": {},
   "outputs": [],
   "source": [
    "sorghum = fs.create_fuel_stream(1, [42.29, 5.74, 37.32, 0.42, 0.07, 0], 0.1416, 0, 19.58)\n",
    "woodChips = fs.create_fuel_stream(1, [48.32, 6.62, 44.58, 0.14, 0.32, 0], 0.0093, 0, 17.52)\n",
    "dairyManure = fs.create_fuel_stream(1, [32.8, 2.48, 24.46, 4.16, 0.21, 0], 0.359, 0, 12.3)"
   ]
  },
  {
   "cell_type": "code",
   "execution_count": 26,
   "metadata": {},
   "outputs": [],
   "source": [
    "TT = np.arange(540, 800+1E-6, 1) # °C\n",
    "Patm = 101325 # Pa\n",
    "\n",
    "airWC = fs.create_air_from_ER(woodChips, 0.33)\n",
    "outletList = []\n",
    "\n",
    "for i, t in enumerate(TT):\n",
    "    outlet = gs.gasify_isot(woodChips, airWC, T=t+273.15, P=Patm)\n",
    "    outletList.append(outlet)"
   ]
  },
  {
   "cell_type": "code",
   "execution_count": 27,
   "metadata": {},
   "outputs": [
    {
     "data": {
      "image/png": "[encoded data removed]",
      "text/plain": [
       "<Figure size 576x360 with 1 Axes>"
      ]
     },
     "metadata": {
      "needs_background": "light"
     },
     "output_type": "display_data"
    }
   ],
   "source": [
    "species = ['H2', 'CO', 'CH4', 'CO2']\n",
    "\n",
    "fig = plt.figure(figsize=(8,5))\n",
    "for i, sp in enumerate(species):\n",
    "    plt.plot(TT, [100*out.get_syngas_fraction(sp, water=False, nitrogen=True) for out in outletList], label=sp)\n",
    "plt.legend()\n",
    "plt.grid()\n",
    "plt.show()"
   ]
  },
  {
   "cell_type": "code",
   "execution_count": 28,
   "metadata": {},
   "outputs": [],
   "source": [
    "char_params = np.array([-111.1574, 3.9705, 0.0362, -7.1958, 3.0419, 1.2430, 0.1276, 1.1034, 1.4281])\n",
    "methane_params = np.array([16.5264, 0.4982, -0.0304, 0.1739, 0.2148, -0.1864, -0.1186, -0.2192, -0.2552])\n",
    "\n",
    "def char(ER, MC, T, C, H, O, ash):\n",
    "    a = lambda i: char_params[i]\n",
    "    return np.exp(a(0) + a(1)*ER + a(2)*MC + a(3)*((10**(-3))*T) + a(4)*((10**(-3))*T)**2 + a(5)*C + a(6)*H + a(7)*O +a(8)*ash)\n",
    "\n",
    "def met(ER, MC, T, C, H, O, ash):\n",
    "    b = lambda i: methane_params[i]\n",
    "    return np.exp(b(0) + b(1)*ER + b(2)*MC + b(3)*((10**(-3))*T) + b(4)*((10**(-3))*T)**2 + b(5)*C + b(6)*H + b(7)*O +b(8)*ash)"
   ]
  },
  {
   "cell_type": "code",
   "execution_count": 29,
   "metadata": {},
   "outputs": [
    {
     "ename": "NameError",
     "evalue": "name 'air1' is not defined",
     "output_type": "error",
     "traceback": [
      "\u001b[1;31m---------------------------------------------------------------------------\u001b[0m",
      "\u001b[1;31mNameError\u001b[0m                                 Traceback (most recent call last)",
      "\u001b[1;32md:\\user\\Desktop\\Faculdade\\gasification\\rodriguez-alejandro.ipynb Cell 6\u001b[0m in \u001b[0;36m<cell line: 7>\u001b[1;34m()\u001b[0m\n\u001b[0;32m      <a href='vscode-notebook-cell:/d%3A/user/Desktop/Faculdade/gasification/rodriguez-alejandro.ipynb#W4sZmlsZQ%3D%3D?line=7'>8</a>\u001b[0m ch \u001b[39m=\u001b[39m \u001b[39m1\u001b[39m \u001b[39m-\u001b[39m (\u001b[39m0.1007\u001b[39m \u001b[39m+\u001b[39m \u001b[39m0.0011\u001b[39m\u001b[39m*\u001b[39mt)\n\u001b[0;32m      <a href='vscode-notebook-cell:/d%3A/user/Desktop/Faculdade/gasification/rodriguez-alejandro.ipynb#W4sZmlsZQ%3D%3D?line=8'>9</a>\u001b[0m mt \u001b[39m=\u001b[39m met(\u001b[39m0.35\u001b[39m, \u001b[39m0\u001b[39m, t\u001b[39m+\u001b[39m\u001b[39m273.15\u001b[39m, \u001b[39m42.29\u001b[39m, \u001b[39m5.74\u001b[39m, \u001b[39m37.32\u001b[39m, \u001b[39m14.16\u001b[39m)\n\u001b[1;32m---> <a href='vscode-notebook-cell:/d%3A/user/Desktop/Faculdade/gasification/rodriguez-alejandro.ipynb#W4sZmlsZQ%3D%3D?line=9'>10</a>\u001b[0m outlet \u001b[39m=\u001b[39m gs\u001b[39m.\u001b[39mgasify_isot(sorghum, air1, t\u001b[39m+\u001b[39m\u001b[39m273.15\u001b[39m, charFormation\u001b[39m=\u001b[39mch,  directMethaneConv\u001b[39m=\u001b[39mmt)\n\u001b[0;32m     <a href='vscode-notebook-cell:/d%3A/user/Desktop/Faculdade/gasification/rodriguez-alejandro.ipynb#W4sZmlsZQ%3D%3D?line=10'>11</a>\u001b[0m CO[i] \u001b[39m=\u001b[39m outlet\u001b[39m.\u001b[39mget_syngas_fraction(\u001b[39m'\u001b[39m\u001b[39mCO\u001b[39m\u001b[39m'\u001b[39m)\n\u001b[0;32m     <a href='vscode-notebook-cell:/d%3A/user/Desktop/Faculdade/gasification/rodriguez-alejandro.ipynb#W4sZmlsZQ%3D%3D?line=11'>12</a>\u001b[0m H2[i] \u001b[39m=\u001b[39m outlet\u001b[39m.\u001b[39mget_syngas_fraction(\u001b[39m'\u001b[39m\u001b[39mH2\u001b[39m\u001b[39m'\u001b[39m)\n",
      "\u001b[1;31mNameError\u001b[0m: name 'air1' is not defined"
     ]
    }
   ],
   "source": [
    "TT = np.arange(740, 800+1E-6, 1) # °C\n",
    "CO = np.zeros_like(TT)\n",
    "H2 = np.zeros_like(TT)\n",
    "CH4 = np.zeros_like(TT)\n",
    "HV = np.zeros_like(TT)\n",
    "\n",
    "for i, t in enumerate(TT):\n",
    "    ch = 1 - (0.1007 + 0.0011*t)\n",
    "    mt = met(0.35, 0, t+273.15, 42.29, 5.74, 37.32, 14.16)\n",
    "    outlet = gs.gasify_isot(sorghum, air1, t+273.15, charFormation=ch,  directMethaneConv=mt)\n",
    "    CO[i] = outlet.get_syngas_fraction('CO')\n",
    "    H2[i] = outlet.get_syngas_fraction('H2')\n",
    "    CH4[i] = outlet.get_syngas_fraction('CH4')\n",
    "    print(CH4[i])\n",
    "    HV[i] = outlet.get_syngas_hhv('vol', water=True, nitrogen=True)\n",
    "\n",
    "plt.plot(TT, CO*100, label='CO')\n",
    "plt.plot(TT, H2*100, label='H2')\n",
    "plt.plot(TT, CH4*100, label='CH4')\n",
    "plt.xlim(TT[0], TT[-1])\n",
    "plt.ylim(0, 30)\n",
    "plt.legend()\n",
    "plt.show()"
   ]
  }
 ],
 "metadata": {
  "kernelspec": {
   "display_name": "ct-env",
   "language": "python",
   "name": "python3"
  },
  "language_info": {
   "codemirror_mode": {
    "name": "ipython",
    "version": 3
   },
   "file_extension": ".py",
   "mimetype": "text/x-python",
   "name": "python",
   "nbconvert_exporter": "python",
   "pygments_lexer": "ipython3",
   "version": "3.9.12 (main, Apr  4 2022, 05:22:27) [MSC v.1916 64 bit (AMD64)]"
  },
  "orig_nbformat": 4,
  "vscode": {
   "interpreter": {
    "hash": "2f8f1d48e13c088e6e56ea43e4e7205e8329df80b1713cb4d658a3a978301f46"
   }
  }
 },
 "nbformat": 4,
 "nbformat_minor": 2
}
