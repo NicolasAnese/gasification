{
 "cells": [
  {
   "cell_type": "code",
   "execution_count": 1,
   "metadata": {},
   "outputs": [
    {
     "name": "stdout",
     "output_type": "stream",
     "text": [
      "CanteraWarning: NasaPoly2::validate: \n",
      "For species Fe(c), discontinuity in cp/R detected at Tmid = 1000.0\n",
      "\tValue computed using low-temperature polynomial:  0.0\n",
      "\tValue computed using high-temperature polynomial: 4.2881898\n",
      "\n",
      "CanteraWarning: NasaPoly2::validate: \n",
      "For species Fe(c), discontinuity in h/RT detected at Tmid = 1000.0\n",
      "\tValue computed using low-temperature polynomial:  0.0\n",
      "\tValue computed using high-temperature polynomial: 3.425820683333331\n",
      "\n",
      "CanteraWarning: NasaPoly2::validate: \n",
      "For species Fe(c), discontinuity in s/R detected at Tmid = 1000.0\n",
      "\tValue computed using low-temperature polynomial:  0.0\n",
      "\tValue computed using high-temperature polynomial: 8.486560101557188\n",
      "\n",
      "CanteraWarning: NasaPoly2::validate: \n",
      "For species Cr(cr), discontinuity in cp/R detected at Tmid = 1000.0\n",
      "\tValue computed using low-temperature polynomial:  749.1520512400002\n",
      "\tValue computed using high-temperature polynomial: 0.0\n",
      "\n",
      "CanteraWarning: NasaPoly2::validate: \n",
      "For species Cr(cr), discontinuity in h/RT detected at Tmid = 1000.0\n",
      "\tValue computed using low-temperature polynomial:  113.24055562733336\n",
      "\tValue computed using high-temperature polynomial: 0.0\n",
      "\n",
      "CanteraWarning: NasaPoly2::validate: \n",
      "For species Cr(cr), discontinuity in s/R detected at Tmid = 1000.0\n",
      "\tValue computed using low-temperature polynomial:  135.51255437035232\n",
      "\tValue computed using high-temperature polynomial: 0.0\n",
      "\n"
     ]
    }
   ],
   "source": [
    "# Importing libraries\n",
    "import numpy as np\n",
    "import pandas as pd\n",
    "import cantera as ct\n",
    "import matplotlib.pyplot as plt\n",
    "import json\n",
    "\n",
    "# Importing packages\n",
    "import feedstock as fs\n",
    "import pp\n",
    "import gasifier as g\n",
    "import fuel as fu\n",
    "import energy as en\n",
    "import outputs as op"
   ]
  },
  {
   "cell_type": "code",
   "execution_count": 2,
   "metadata": {},
   "outputs": [],
   "source": [
    "# T = 800 + 273.15 # K\n",
    "# ER = 0 # pyrolisis test\n",
    "# P = ct.one_atm"
   ]
  },
  {
   "cell_type": "code",
   "execution_count": 3,
   "metadata": {},
   "outputs": [],
   "source": [
    "# fuelID = 'Bagasse0'\n",
    "# moist = fu.moisture(fuelID)\n",
    "# results = g.gasifier(fuelID, moist=moist, T=T, P=P, air=ER)\n",
    "# report = results[0]\n",
    "# print(report['H2']*100, report['CO']*100, report['CO2']*100, report['CH4']*100, report['N2']*100, report['O2']*100)"
   ]
  },
  {
   "cell_type": "code",
   "execution_count": 4,
   "metadata": {},
   "outputs": [],
   "source": [
    "# fuelID = 'Pine2'\n",
    "# moist = fu.moisture(fuelID)\n",
    "# T_list = np.arange(400, 1200+1, 1)\n",
    "# ER = 0 # pyrolisis test\n",
    "# P = ct.one_atm\n",
    "\n",
    "# species = ['H2', 'CO', 'CO2', 'CH4', 'H2O']\n",
    "\n",
    "# y1 = np.zeros((len(T_list), len(species)))\n",
    "\n",
    "# for i, t in enumerate(T_list):\n",
    "#     results = g.gasifier(fuelID, moist=moist, T=t+273.15, P=P, air=ER)\n",
    "#     report = results[0]\n",
    "#     for j, sp in enumerate(species):\n",
    "#         y1[i,j] = report[sp]"
   ]
  },
  {
   "cell_type": "code",
   "execution_count": 5,
   "metadata": {},
   "outputs": [],
   "source": [
    "# fig1 = plt.figure()\n",
    "# plt.plot(T_list, y1[:,0]*100, label='$\\mathregular{H_2}$')\n",
    "# plt.plot(T_list, y1[:,1]*100, label='$\\mathregular{CO}$')\n",
    "# plt.plot(T_list, y1[:,2]*100, label='$\\mathregular{CO_2}$')\n",
    "# plt.plot(T_list, y1[:,3]*100, label='$\\mathregular{CH_4}$')\n",
    "# plt.plot(T_list, y1[:,4]*100, label='$\\mathregular{H_2O}$')\n",
    "# plt.legend()\n",
    "# plt.grid()\n",
    "# plt.xlim(T_list[0], T_list[-1])\n",
    "# plt.ylim(0, 60)\n",
    "# plt.xlabel('Temperature [°C]')\n",
    "# plt.ylabel('Molar fraction [%]')\n",
    "# plt.title('Syngas equilibrium composition vs. process temperature')\n",
    "# plt.show()"
   ]
  },
  {
   "cell_type": "code",
   "execution_count": 6,
   "metadata": {},
   "outputs": [],
   "source": [
    "# fuelID = 'Pine2'\n",
    "# moist = fu.moisture(fuelID)\n",
    "# P_list = np.arange(0.1, 80+0.1, 0.1)\n",
    "# ER = 0 # pyrolisis test\n",
    "# T = 800\n",
    "\n",
    "# species = ['H2', 'CO', 'CO2', 'CH4', 'H2O']\n",
    "\n",
    "# y2 = np.zeros((len(P_list), len(species)))\n",
    "\n",
    "# for i, p in enumerate(P_list):\n",
    "#     results = g.gasifier(fuelID, moist=moist, T=T+273.15, P=p*10**5, air=ER)\n",
    "#     report = results[0]\n",
    "#     for j, sp in enumerate(species):\n",
    "#         y2[i,j] = report[sp]"
   ]
  },
  {
   "cell_type": "code",
   "execution_count": 7,
   "metadata": {},
   "outputs": [],
   "source": [
    "# fig2 = plt.figure()\n",
    "# plt.plot(P_list, y2[:,0]*100, label='$\\mathregular{H_2}$')\n",
    "# plt.plot(P_list, y2[:,1]*100, label='$\\mathregular{CO}$')\n",
    "# plt.plot(P_list, y2[:,2]*100, label='$\\mathregular{CO_2}$')\n",
    "# plt.plot(P_list, y2[:,3]*100, label='$\\mathregular{CH_4}$')\n",
    "# plt.plot(P_list, y2[:,4]*100, label='$\\mathregular{H_2O}$')\n",
    "# plt.legend()\n",
    "# plt.grid()\n",
    "# plt.xlim(P_list[0], P_list[-1])\n",
    "# plt.ylim(0, 60)\n",
    "# plt.xlabel('Pressure [bar]')\n",
    "# plt.ylabel('Molar fraction [%]')\n",
    "# plt.title('Syngas equilibrium composition vs. process pressure')\n",
    "# plt.show()"
   ]
  },
  {
   "cell_type": "code",
   "execution_count": 8,
   "metadata": {},
   "outputs": [],
   "source": [
    "# fuelID = 'Pine2'\n",
    "# moist = fu.moisture(fuelID)\n",
    "# ER_list = np.arange(0, 1+0.01, 0.01)\n",
    "# T = 800 # °C\n",
    "# P = 1 # bar\n",
    "\n",
    "# species = ['H2', 'CO', 'CO2', 'CH4', 'H2O', 'N2']\n",
    "\n",
    "# y3 = np.zeros((len(ER_list), len(species)))\n",
    "\n",
    "# for i, er in enumerate(ER_list):\n",
    "#     results = g.gasifier(fuelID, moist=moist, T=T+273.15, P=P*10**5, air=er)\n",
    "#     report = results[0]\n",
    "#     for j, sp in enumerate(species):\n",
    "#         y3[i,j] = report[sp]"
   ]
  },
  {
   "cell_type": "code",
   "execution_count": 9,
   "metadata": {},
   "outputs": [],
   "source": [
    "# fig3 = plt.figure()\n",
    "# plt.plot(ER_list, y3[:,0]*100, label='$\\mathregular{H_2}$')\n",
    "# plt.plot(ER_list, y3[:,1]*100, label='$\\mathregular{CO}$')\n",
    "# plt.plot(ER_list, y3[:,2]*100, label='$\\mathregular{CO_2}$')\n",
    "# plt.plot(ER_list, y3[:,3]*100, label='$\\mathregular{CH_4}$')\n",
    "# plt.plot(ER_list, y3[:,4]*100, label='$\\mathregular{H_2O}$')\n",
    "# plt.plot(ER_list, y3[:,5]*100, label='$\\mathregular{N_2}$')\n",
    "# plt.legend()\n",
    "# plt.grid()\n",
    "# plt.xlim(ER_list[0], ER_list[-1])\n",
    "# plt.ylim(0, 70)\n",
    "# plt.xlabel('Equivalence ratio')\n",
    "# plt.ylabel('Molar fraction [%]')\n",
    "# plt.title('Syngas equilibrium composition vs. process pressure')\n",
    "# plt.show()"
   ]
  },
  {
   "cell_type": "code",
   "execution_count": 23,
   "metadata": {},
   "outputs": [],
   "source": [
    "cyp = \"Cypress\"\n",
    "hem = \"Hemlock\"\n",
    "spf = \"SPF\"\n",
    "ced = \"Cedar\"\n",
    "ps = \"PS\"\n",
    "mix = \"Mixed\"\n",
    "avg = \"Average\"\n",
    "\n",
    "fuels = [cyp, cyp, spf, hem, hem, hem, hem, spf, hem, cyp, hem, ps, mix, mix, mix]\n",
    "moist = [22.0, 9.7, 10.5, 10.0, 8.8, 9.2, 11.7, 11.3, 15.0, 12.6, 14.7, 10.1, 6.6, 6.7, 4.2]\n",
    "T = [740, 718, 766, 815, 772, 787, 718, 730, 752, 815, 789, 701, 728, 739, 805] # °C\n",
    "P = [1.65, 1.19, 1.19, 1.19, 1.19, 1.19, 1.19, 1.19, 1.19, 1.19, 1.19, 1.19, 1.19, 1.19, 1.19] # bar\n",
    "ER = [0.536, 0.445, 0.402, 0.522, 0.376, 0.427, 0.340, 0.350, 0.411, 0.399, 0.337, 0.218, 0.258, 0.294, 0.460]\n",
    "\n",
    "species = ['H2', 'N2', 'CO', 'CH4', 'CO2']\n",
    "H2 = [5.6, 3.1, 3.2, 3.0, 4.0, 3.8, 5.5, 3.9, 3.5, 4.1, 4.2, 5.4, 5.1, 7.3, 5.9]\n",
    "N2 = [68.0, 68.1, 67.1, 68.4, 61.8, 65.2, 59.5, 62.5, 64.8, 64.6, 62.6, 53.9, 56.3, 55.4, 64.6]\n",
    "CO = [6.9, 11.0, 10.7, 9.6, 14.7, 12.6, 16.6, 15.1, 13.4, 12.3, 14.6, 21.4, 19.9, 17.9, 10.0]\n",
    "CH4 = [1.4, 1.9, 1.9, 1.9, 2.9, 2.7, 3.4, 2.8, 2.8, 2.5, 3.0, 4.6, 4.1, 3.2, 1.2]\n",
    "CO2 = [18.1, 15.9, 17.1, 17.1, 16.5, 15.7, 15.0, 15.6, 15.6, 16.5, 15.7, 14.7, 14.5, 16.3, 18.3]\n",
    "HV = [2.43, 2.96, 2.92, 2.75, 4.14, 3.73, 4.82, 4.13, 3.85, 3.59, 4.17, 6.13, 5.62, 4.60, 2.54] # MJ/Nm³\n",
    "Y = [3.30, 2.92, 2.48, 3.10, 2.59, 2.75, 2.34, 2.27, 2.46, 2.51, 2.13, 1.72, 2.06, 2.35, 3.24] # Nm³/kg"
   ]
  },
  {
   "cell_type": "code",
   "execution_count": 26,
   "metadata": {},
   "outputs": [
    {
     "name": "stdout",
     "output_type": "stream",
     "text": [
      "7.517670027774686e-08\n",
      "8.498836900093053e-08\n",
      "9.287952940383452e-08\n",
      "7.631341385308674e-08\n",
      "9.967791237594614e-08\n",
      "8.790720380752855e-08\n",
      "1.1384428725642324e-07\n",
      "1.091266911648281e-07\n",
      "9.09449538505923e-08\n",
      "9.35661083676058e-08\n",
      "1.1541833506744817e-07\n",
      "2.38933210776922\n",
      "2.929761935771727e-07\n",
      "1.5312894818295826e-07\n",
      "8.287861926840743e-08\n"
     ]
    }
   ],
   "source": [
    "for i, fuel in enumerate(fuels):\n",
    "    results = g.gasifier(avg, moist=fu.moisture(avg), T=1100, P=1.013*10**5, air=ER[i], airType='ER', C=0.25+0.75*np.exp(-ER[i]/0.23), CH4=0.11*(1-ER[i]))\n",
    "    report = results[0]\n",
    "    print(report['H2']*100)"
   ]
  },
  {
   "cell_type": "code",
   "execution_count": 32,
   "metadata": {},
   "outputs": [],
   "source": [
    "species = ['H2', 'N2', 'CO', 'CH4', 'CO2']\n",
    "ER_list = np.arange(0, 1+0.01, 0.01)\n",
    "y4 = np.zeros((len(ER_list), len(species)))\n",
    "\n",
    "for i, er in enumerate(ER_list):\n",
    "    results = g.gasifier(avg, moist=fu.moisture(avg), T=1100, P=1.013*10**5, air=er, C=0.25+0.75*np.exp(-er/0.23), CH4=0.11*(1-er))\n",
    "    report = results[0]\n",
    "    for j, sp in enumerate(species):\n",
    "        y4[i,j] = report[sp]*100"
   ]
  },
  {
   "cell_type": "code",
   "execution_count": 33,
   "metadata": {},
   "outputs": [
    {
     "data": {
      "image/png": "[encoded data removed]",
      "text/plain": [
       "<Figure size 432x288 with 1 Axes>"
      ]
     },
     "metadata": {
      "needs_background": "light"
     },
     "output_type": "display_data"
    }
   ],
   "source": [
    "fig4 = plt.figure()\n",
    "plt.scatter(ER, H2, label=\"H2\")\n",
    "plt.scatter(ER, N2, label=\"N2\")\n",
    "plt.scatter(ER, CO, label=\"CO\")\n",
    "plt.scatter(ER, CH4, label=\"CH4\")\n",
    "plt.scatter(ER, CO2, label=\"CO2\")\n",
    "plt.plot(ER_list, y4[:,0], label=\"H2 mod\")\n",
    "plt.plot(ER_list, y4[:,1], label=\"N2 mod\")\n",
    "plt.plot(ER_list, y4[:,2], label=\"CO mod\")\n",
    "plt.plot(ER_list, y4[:,3], label=\"CH4 mod\")\n",
    "plt.plot(ER_list, y4[:,4], label=\"CO2 mod\")\n",
    "plt.legend()\n",
    "plt.grid()\n",
    "plt.xlim(0, 1)\n",
    "plt.ylim(0, 70)\n",
    "plt.xlabel('Equivalence ratio')\n",
    "plt.ylabel('Molar fraction [%]')\n",
    "plt.title('Syngas equilibrium composition vs. process pressure')\n",
    "plt.show()"
   ]
  }
 ],
 "metadata": {
  "kernelspec": {
   "display_name": "Python 3.9.12 ('ct-env')",
   "language": "python",
   "name": "python3"
  },
  "language_info": {
   "codemirror_mode": {
    "name": "ipython",
    "version": 3
   },
   "file_extension": ".py",
   "mimetype": "text/x-python",
   "name": "python",
   "nbconvert_exporter": "python",
   "pygments_lexer": "ipython3",
   "version": "3.9.12"
  },
  "orig_nbformat": 4,
  "vscode": {
   "interpreter": {
    "hash": "2f8f1d48e13c088e6e56ea43e4e7205e8329df80b1713cb4d658a3a978301f46"
   }
  }
 },
 "nbformat": 4,
 "nbformat_minor": 2
}
