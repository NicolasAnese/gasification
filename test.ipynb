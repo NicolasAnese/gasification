{
 "cells": [
  {
   "cell_type": "code",
   "execution_count": 1,
   "metadata": {},
   "outputs": [
    {
     "name": "stdout",
     "output_type": "stream",
     "text": [
      "CanteraWarning: NasaPoly2::validate: \n",
      "For species Fe(c), discontinuity in cp/R detected at Tmid = 1000.0\n",
      "\tValue computed using low-temperature polynomial:  0.0\n",
      "\tValue computed using high-temperature polynomial: 4.2881898\n",
      "\n",
      "CanteraWarning: NasaPoly2::validate: \n",
      "For species Fe(c), discontinuity in h/RT detected at Tmid = 1000.0\n",
      "\tValue computed using low-temperature polynomial:  0.0\n",
      "\tValue computed using high-temperature polynomial: 3.425820683333331\n",
      "\n",
      "CanteraWarning: NasaPoly2::validate: \n",
      "For species Fe(c), discontinuity in s/R detected at Tmid = 1000.0\n",
      "\tValue computed using low-temperature polynomial:  0.0\n",
      "\tValue computed using high-temperature polynomial: 8.486560101557188\n",
      "\n",
      "CanteraWarning: NasaPoly2::validate: \n",
      "For species Cr(cr), discontinuity in cp/R detected at Tmid = 1000.0\n",
      "\tValue computed using low-temperature polynomial:  749.1520512400002\n",
      "\tValue computed using high-temperature polynomial: 0.0\n",
      "\n",
      "CanteraWarning: NasaPoly2::validate: \n",
      "For species Cr(cr), discontinuity in h/RT detected at Tmid = 1000.0\n",
      "\tValue computed using low-temperature polynomial:  113.24055562733336\n",
      "\tValue computed using high-temperature polynomial: 0.0\n",
      "\n",
      "CanteraWarning: NasaPoly2::validate: \n",
      "For species Cr(cr), discontinuity in s/R detected at Tmid = 1000.0\n",
      "\tValue computed using low-temperature polynomial:  135.51255437035232\n",
      "\tValue computed using high-temperature polynomial: 0.0\n",
      "\n"
     ]
    }
   ],
   "source": [
    "# Importing libraries\n",
    "import sys\n",
    "import numpy as np\n",
    "import pandas as pd\n",
    "import cantera as ct\n",
    "import scipy.optimize as opt\n",
    "\n",
    "# Importing packages\n",
    "import gasifier as g\n",
    "import fuel as fu\n",
    "import energy as en\n",
    "import outputs as op\n",
    "import feedstock as fs\n",
    "import pp"
   ]
  },
  {
   "cell_type": "code",
   "execution_count": 2,
   "metadata": {},
   "outputs": [],
   "source": [
    "# # Old packages\n",
    "# import feedstock as fs1\n",
    "# import pp as pp1\n",
    "# import gasifier as g1"
   ]
  },
  {
   "cell_type": "code",
   "execution_count": 3,
   "metadata": {},
   "outputs": [],
   "source": [
    "fuelID = \"AltafiniSawdust\"\n",
    "Info = {\"Description\":\"Pinus Elliotis sawdust\", \"Type\":\"Biomass\", \"Category\":\"Wood\", \"Reference\":\"Altafini et al.\", \"Year\":2003, \"DOI\":\"10.1016/S0196-8904(03)00025-6\"}\n",
    "moist = [None, None]\n",
    "prox = [\"db\", 0.0, 99.9, 0.1]\n",
    "HV = [20.407, 19.087]\n",
    "biochem = [None, None, None]\n",
    "ult = [\"db\", 52.00, 41.55, 0.28, 6.07, 0.00, 0.00]\n",
    "ashC = [None, None, None, None, None, None, None, None, None, None, None]\n",
    "\n",
    "#fu.addToDatabase(fuelID, Info, moist, prox, HV, biochem, ult, ashC)"
   ]
  },
  {
   "cell_type": "code",
   "execution_count": 4,
   "metadata": {},
   "outputs": [
    {
     "name": "stdout",
     "output_type": "stream",
     "text": [
      "90\n"
     ]
    }
   ],
   "source": [
    "print(pp.nsp)"
   ]
  },
  {
   "cell_type": "code",
   "execution_count": 5,
   "metadata": {},
   "outputs": [],
   "source": [
    "fuelID = \"AltafiniSawdust\"\n",
    "species = ['H2', 'CO', 'CH4', 'CO2', 'N2']\n",
    "experimental = np.array([20.59, 26.73, 0.02, 7.28, 44.85])/100 # fraction\n",
    "T0 = 800+273.15 # K\n",
    "P = ct.one_atm # Pa\n",
    "air = 2.0841 # kg/kg fuel\n",
    "airType = 'air'\n",
    "moist = 0"
   ]
  },
  {
   "cell_type": "code",
   "execution_count": 6,
   "metadata": {},
   "outputs": [],
   "source": [
    "fuelID = \"HighAshCoal\"\n",
    "species = ['H2', 'CO', 'CH4', 'CO2', 'H2O', 'H2S', 'NH3', 'N2']\n",
    "#experimental = np.array([10.2, 15.7, 8.0, 1.0, 65.1])/100 # fraction\n",
    "T0 = 1000+273.15 # K\n",
    "P = ct.one_atm # Pa\n",
    "air = 0.4\n",
    "airType = 'ER'\n",
    "moist = 0"
   ]
  },
  {
   "cell_type": "code",
   "execution_count": 7,
   "metadata": {},
   "outputs": [],
   "source": [
    "fuelID = \"Highvale\"\n",
    "species = ['CO', 'CO2', 'H2', 'CH4', 'N2']\n",
    "experimental = np.array([9.1, 15.0, 5.6, 0.5, 69.8])/100 # fraction\n",
    "CCexp = 73.8 # %\n",
    "T0 = 880+273.15 # K\n",
    "P = 1.55E5 # Pa\n",
    "air = 0.52\n",
    "airType = 'ER'\n",
    "moist = 0.11607"
   ]
  },
  {
   "cell_type": "code",
   "execution_count": 8,
   "metadata": {},
   "outputs": [],
   "source": [
    "fuelID = \"Highvale\"\n",
    "species = ['CO', 'CO2', 'H2', 'CH4', 'N2']\n",
    "experimental = np.array([10.2, 15.7, 8.0, 1.0, 65.1])/100 # fraction\n",
    "CCexp = 61.4 # %\n",
    "T0 = 810+273.15 # K\n",
    "P = 1.6E5 # Pa\n",
    "air = 0.37\n",
    "airType = 'ER'\n",
    "moist = 0.11607"
   ]
  },
  {
   "cell_type": "code",
   "execution_count": 9,
   "metadata": {},
   "outputs": [
    {
     "name": "stdout",
     "output_type": "stream",
     "text": [
      "0.6227745197925871\n"
     ]
    }
   ],
   "source": [
    "report0 = g.gasifier(fuelID, moist=moist, T=T0, P=P, air=air, airType=airType, species=species+['C'], C_avail=1.0)\n",
    "CC0 = report0['CC']\n",
    "C_avail0 = CCexp / CC0\n",
    "print(C_avail0)"
   ]
  },
  {
   "cell_type": "code",
   "execution_count": 10,
   "metadata": {},
   "outputs": [
    {
     "name": "stdout",
     "output_type": "stream",
     "text": [
      "0.02417773437499986\n",
      "0.5144531249999789\n",
      "0.0661669735330218\n",
      "6.61669735330218 %\n"
     ]
    }
   ],
   "source": [
    "DT1, C_avail1, sqerr = g.findParams(fuelID, experimental, moist=moist, T0=T0, P=P, air=air, airType=airType, species=species)\n",
    "print(DT1)\n",
    "print(C_avail1)\n",
    "print(sqerr)\n",
    "print(sqerr*100, '%')"
   ]
  },
  {
   "cell_type": "code",
   "execution_count": 11,
   "metadata": {},
   "outputs": [
    {
     "name": "stdout",
     "output_type": "stream",
     "text": [
      "279.563168127537\n",
      " final_simplex: (array([[803.58683187],\n",
      "       [803.58688352]]), array([0.01320056, 0.01320056]))\n",
      "           fun: 0.013200558304511827\n",
      "       message: 'Optimization terminated successfully.'\n",
      "          nfev: 50\n",
      "           nit: 25\n",
      "        status: 0\n",
      "       success: True\n",
      "             x: array([803.58683187])\n"
     ]
    }
   ],
   "source": [
    "Tquasi = g.findTquasi(fuelID, experimental, moist=moist, T0=T0, P=P, \n",
    "                air=air, airType=airType, C_avail=C_avail0, species=species)\n",
    "DT2 = T0 - Tquasi.x[0]\n",
    "print(DT2)\n",
    "print(Tquasi)"
   ]
  },
  {
   "cell_type": "code",
   "execution_count": 12,
   "metadata": {},
   "outputs": [
    {
     "name": "stdout",
     "output_type": "stream",
     "text": [
      "51.15670581983078\n",
      "CO 21.615255228987102 %\n",
      "CO2 7.264273724438117 %\n",
      "H2 18.326220255374555 %\n",
      "CH4 0.02655097776255576 %\n",
      "N2 46.32177383697563 %\n",
      "C 3.010811893063498e-26 %\n"
     ]
    }
   ],
   "source": [
    "report1 = g.gasifier(fuelID, moist=moist, T=T0-DT1, air=air, P=P, airType=airType, species=species+['C'], C_avail=C_avail1)\n",
    "CC1 = report1['CC']\n",
    "print(CC1)\n",
    "for sp in species+['C']:\n",
    "    print(sp, report1[sp]*100, '%')"
   ]
  },
  {
   "cell_type": "code",
   "execution_count": 13,
   "metadata": {},
   "outputs": [
    {
     "name": "stdout",
     "output_type": "stream",
     "text": [
      "51.15670581983078\n",
      "CO 4.045425207567627 %\n",
      "CO2 16.910218943581462 %\n",
      "H2 9.891175392446197 %\n",
      "CH4 2.633638271324082 %\n",
      "N2 55.80393395507851 %\n",
      "C 2.8778485436630257e-37 %\n"
     ]
    }
   ],
   "source": [
    "report2 = g.gasifier(fuelID, moist=moist, T=T0-DT2, air=air, P=P, airType=airType, species=species+['C'], C_avail=C_avail0)\n",
    "CC2 = report1['CC']\n",
    "print(CC2)\n",
    "for sp in species+['C']:\n",
    "    print(sp, report2[sp]*100, '%')"
   ]
  },
  {
   "cell_type": "code",
   "execution_count": 14,
   "metadata": {},
   "outputs": [
    {
     "name": "stdout",
     "output_type": "stream",
     "text": [
      "0.04045425207567627 0.102\n",
      "0.16910218943581462 0.157\n",
      "0.09891175392446197 0.08\n",
      "0.02633638271324082 0.01\n",
      "0.5580393395507851 0.6509999999999999\n",
      "4.037134688941118 %\n"
     ]
    }
   ],
   "source": [
    "def ARE(predicted, experimental):\n",
    "    ARE = 0\n",
    "    for i, exp in enumerate(experimental):\n",
    "        ARE += abs((predicted[i]-exp)/exp)\n",
    "    return ARE/len(predicted)\n",
    "\n",
    "def AAE(predicted, experimental):\n",
    "    AAE = 0\n",
    "    for i, exp in enumerate(experimental):\n",
    "        print(predicted[i], exp)\n",
    "        AAE += abs((predicted[i]-exp))\n",
    "    return AAE/len(predicted)\n",
    "\n",
    "def SQE(predicted, experimental):\n",
    "    SQE = 0\n",
    "    for i, exp in enumerate(experimental):\n",
    "        SQE += (predicted[i]-exp)**2\n",
    "    return SQE\n",
    "\n",
    "predicted = []\n",
    "for i, sp in enumerate(species):\n",
    "    predicted.append(report2[sp])\n",
    "\n",
    "error = AAE(predicted, experimental)\n",
    "print(error*100, '%')"
   ]
  }
 ],
 "metadata": {
  "interpreter": {
   "hash": "ab41b54e4c1455ad47a64297637293cdab919e934b3b21d6ec5db0dcb5c25070"
  },
  "kernelspec": {
   "display_name": "Python 3.9.12 ('ct-env')",
   "language": "python",
   "name": "python3"
  },
  "language_info": {
   "codemirror_mode": {
    "name": "ipython",
    "version": 3
   },
   "file_extension": ".py",
   "mimetype": "text/x-python",
   "name": "python",
   "nbconvert_exporter": "python",
   "pygments_lexer": "ipython3",
   "version": "3.9.12"
  },
  "orig_nbformat": 4
 },
 "nbformat": 4,
 "nbformat_minor": 2
}
