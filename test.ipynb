{
 "cells": [
  {
   "cell_type": "code",
   "execution_count": 6,
   "metadata": {},
   "outputs": [],
   "source": [
    "# Importing libraries\n",
    "import numpy as np\n",
    "import pandas as pd\n",
    "import cantera as ct\n",
    "\n",
    "# Importing packages\n",
    "import feedstock2 as fs\n",
    "import pp2 as pp\n",
    "import gasifier2 as g\n",
    "import fuel as fu\n",
    "import energy as en\n",
    "import outputs as op"
   ]
  },
  {
   "cell_type": "code",
   "execution_count": 7,
   "metadata": {},
   "outputs": [],
   "source": [
    "# Old packages\n",
    "import feedstock as fs1\n",
    "import pp as pp1\n",
    "import gasifier as g1"
   ]
  },
  {
   "cell_type": "code",
   "execution_count": 8,
   "metadata": {},
   "outputs": [],
   "source": [
    "# Definição dos parâmetros\n",
    "fuel1 = 'SMC'\n",
    "fuel2 = 'PS2'\n",
    "T = 1021 + 273.15\n",
    "P = ct.one_atm\n",
    "ER = 0.42\n",
    "SR = 0.41/(pp.Mw['H2O']/pp.Mw['C'])\n",
    "bld = 1.0/3.0\n",
    "moist = [0, 0]\n",
    "species = ['CO2','H2','N2','CO','CH4']"
   ]
  },
  {
   "cell_type": "code",
   "execution_count": 9,
   "metadata": {},
   "outputs": [
    {
     "name": "stdout",
     "output_type": "stream",
     "text": [
      "{'Fuel #1': 'Shenmu coal', 'Fuel #2': 'Pine sawdust', 'Mass': 1.0, 'Blend': 33.33333333333333, 'Moisture': 0.0, 'T': 1021.0000000000001, 'P': 1.0, 'ER': 0.42, 'SR': 0.27335609214543427, 'O/C': 1.4817664594545477, 'H/C': 1.3920879007073885, 'CO2': 6.339223589773186, 'H2': 13.52701393711666, 'N2': 49.76838950484159, 'CO': 22.61299371634839, 'CH4': 6.759168815164199e-05, 'H2/CO': 0.5981965106785976, 'CC': 99.99176191312807, 'Y': 1.8075174195928405, 'HHV': 17.984325282666802, 'CGE': 67.44706654445231}\n"
     ]
    }
   ],
   "source": [
    "print(g.cogasifier(fuel1, fuel2, 1.0, bld, moist, T, P, ER, SR, 'ER', 'SR', True, species))"
   ]
  }
 ],
 "metadata": {
  "interpreter": {
   "hash": "ab41b54e4c1455ad47a64297637293cdab919e934b3b21d6ec5db0dcb5c25070"
  },
  "kernelspec": {
   "display_name": "Python 3.9.12 ('ct-env')",
   "language": "python",
   "name": "python3"
  },
  "language_info": {
   "codemirror_mode": {
    "name": "ipython",
    "version": 3
   },
   "file_extension": ".py",
   "mimetype": "text/x-python",
   "name": "python",
   "nbconvert_exporter": "python",
   "pygments_lexer": "ipython3",
   "version": "3.9.12"
  },
  "orig_nbformat": 4
 },
 "nbformat": 4,
 "nbformat_minor": 2
}
