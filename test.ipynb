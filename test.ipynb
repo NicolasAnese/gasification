{
 "cells": [
  {
   "cell_type": "code",
   "execution_count": 1,
   "metadata": {},
   "outputs": [
    {
     "name": "stdout",
     "output_type": "stream",
     "text": [
      "CanteraWarning: NasaPoly2::validate: \n",
      "For species Fe(c), discontinuity in cp/R detected at Tmid = 1000.0\n",
      "\tValue computed using low-temperature polynomial:  0.0\n",
      "\tValue computed using high-temperature polynomial: 4.2881898\n",
      "\n",
      "CanteraWarning: NasaPoly2::validate: \n",
      "For species Fe(c), discontinuity in h/RT detected at Tmid = 1000.0\n",
      "\tValue computed using low-temperature polynomial:  0.0\n",
      "\tValue computed using high-temperature polynomial: 3.425820683333331\n",
      "\n",
      "CanteraWarning: NasaPoly2::validate: \n",
      "For species Fe(c), discontinuity in s/R detected at Tmid = 1000.0\n",
      "\tValue computed using low-temperature polynomial:  0.0\n",
      "\tValue computed using high-temperature polynomial: 8.486560101557188\n",
      "\n",
      "CanteraWarning: NasaPoly2::validate: \n",
      "For species Cr(cr), discontinuity in cp/R detected at Tmid = 1000.0\n",
      "\tValue computed using low-temperature polynomial:  749.1520512400002\n",
      "\tValue computed using high-temperature polynomial: 0.0\n",
      "\n",
      "CanteraWarning: NasaPoly2::validate: \n",
      "For species Cr(cr), discontinuity in h/RT detected at Tmid = 1000.0\n",
      "\tValue computed using low-temperature polynomial:  113.24055562733336\n",
      "\tValue computed using high-temperature polynomial: 0.0\n",
      "\n",
      "CanteraWarning: NasaPoly2::validate: \n",
      "For species Cr(cr), discontinuity in s/R detected at Tmid = 1000.0\n",
      "\tValue computed using low-temperature polynomial:  135.51255437035232\n",
      "\tValue computed using high-temperature polynomial: 0.0\n",
      "\n",
      "CanteraWarning: NasaPoly2::validate: \n",
      "For species Fe(c), discontinuity in cp/R detected at Tmid = 1000.0\n",
      "\tValue computed using low-temperature polynomial:  0.0\n",
      "\tValue computed using high-temperature polynomial: 4.2881898\n",
      "\n",
      "CanteraWarning: NasaPoly2::validate: \n",
      "For species Fe(c), discontinuity in h/RT detected at Tmid = 1000.0\n",
      "\tValue computed using low-temperature polynomial:  0.0\n",
      "\tValue computed using high-temperature polynomial: 3.425820683333331\n",
      "\n",
      "CanteraWarning: NasaPoly2::validate: \n",
      "For species Fe(c), discontinuity in s/R detected at Tmid = 1000.0\n",
      "\tValue computed using low-temperature polynomial:  0.0\n",
      "\tValue computed using high-temperature polynomial: 8.486560101557188\n",
      "\n",
      "CanteraWarning: NasaPoly2::validate: \n",
      "For species Cr(cr), discontinuity in cp/R detected at Tmid = 1000.0\n",
      "\tValue computed using low-temperature polynomial:  749.1520512400002\n",
      "\tValue computed using high-temperature polynomial: 0.0\n",
      "\n",
      "CanteraWarning: NasaPoly2::validate: \n",
      "For species Cr(cr), discontinuity in h/RT detected at Tmid = 1000.0\n",
      "\tValue computed using low-temperature polynomial:  113.24055562733336\n",
      "\tValue computed using high-temperature polynomial: 0.0\n",
      "\n",
      "CanteraWarning: NasaPoly2::validate: \n",
      "For species Cr(cr), discontinuity in s/R detected at Tmid = 1000.0\n",
      "\tValue computed using low-temperature polynomial:  135.51255437035232\n",
      "\tValue computed using high-temperature polynomial: 0.0\n",
      "\n"
     ]
    }
   ],
   "source": [
    "# Importing libraries\n",
    "import numpy as np\n",
    "import pandas as pd\n",
    "import cantera as ct\n",
    "\n",
    "# Importing packages\n",
    "import feedstock2 as fs\n",
    "import pp2 as pp\n",
    "import gasifier2 as g\n",
    "import fuel as fu\n",
    "import energy as en\n",
    "import outputs as op"
   ]
  },
  {
   "cell_type": "code",
   "execution_count": 2,
   "metadata": {},
   "outputs": [],
   "source": [
    "# Old packages\n",
    "import feedstock as fs1\n",
    "import pp as pp1\n",
    "import gasifier as g1"
   ]
  },
  {
   "cell_type": "code",
   "execution_count": 3,
   "metadata": {},
   "outputs": [],
   "source": [
    "# Definição dos parâmetros\n",
    "fuel1 = 'SMC'\n",
    "fuel2 = 'PS2'\n",
    "T = 1021 + 273.15\n",
    "P = ct.one_atm\n",
    "ER = 0.42\n",
    "SR = 0.41/(pp.Mw['H2O']/pp.Mw['C'])\n",
    "bld = 1.0/3.0\n",
    "moist = [0, 0]\n",
    "species = ['CO2','H2','N2','CO','CH4']"
   ]
  },
  {
   "cell_type": "code",
   "execution_count": 4,
   "metadata": {},
   "outputs": [
    {
     "name": "stdout",
     "output_type": "stream",
     "text": [
      "{'Fuel #1': 'Shenmu coal', 'Fuel #2': 'Pine sawdust', 'Mass': 1.0, 'Blend': 33.33333333333333, 'Moisture': 0.0, 'T': 1021.0000000000001, 'P': 1.0, 'ER': 0.42, 'SR': 0.27335609214543427, 'O/C': 1.4817664594545477, 'H/C': 1.3920879007073885, 'CO2': 6.339223589773186, 'H2': 13.52701393711666, 'N2': 49.76838950484159, 'CO': 22.61299371634839, 'CH4': 6.759168815164199e-05, 'H2/CO': 0.5981965106785976, 'CC': 99.99176191312807, 'Y': 1.8075174195928405, 'HHV': 17.984325282666802, 'CGE': 67.44706654445231}\n"
     ]
    }
   ],
   "source": [
    "print(g.cogasifier(fuel1, fuel2, 1.0, bld, moist, T, P, ER, SR, 'ER', 'SR', True, species))"
   ]
  },
  {
   "cell_type": "code",
   "execution_count": 5,
   "metadata": {},
   "outputs": [
    {
     "name": "stdout",
     "output_type": "stream",
     "text": [
      "0.0\n"
     ]
    }
   ],
   "source": [
    "f1 = fs1.fraction([fuel1, fuel2])['mass'][0]\n",
    "mix1, stoic1 = g1.get_fuel_db(f1)\n",
    "mix2 = fs.getFuelMix(fuel1, 1)\n",
    "stoic2 = fs.stoichO2(mix2)\n",
    "HHV = fu.HV(fuel1, type='HHV')\n",
    "hfo1 = g1.enthalpy_of_formation(f1, HHV)\n",
    "hfo2 = en.hFormation(fuel1, HHV)\n",
    "mw1 = sum(mix1.species_moles * pp1.Mw)\n",
    "mw2 = fs.Mw(mix2)\n",
    "print(hfo1 - hfo2)"
   ]
  },
  {
   "cell_type": "code",
   "execution_count": 6,
   "metadata": {},
   "outputs": [
    {
     "ename": "AttributeError",
     "evalue": "'cantera._cantera.Mixture' object has no attribute 'H'",
     "output_type": "error",
     "traceback": [
      "\u001b[1;31m---------------------------------------------------------------------------\u001b[0m",
      "\u001b[1;31mAttributeError\u001b[0m                            Traceback (most recent call last)",
      "\u001b[1;32me:\\Área de Trabalho\\IC Rodolfo\\gasification\\test.ipynb Cell 6'\u001b[0m in \u001b[0;36m<cell line: 1>\u001b[1;34m()\u001b[0m\n\u001b[1;32m----> <a href='vscode-notebook-cell:/e%3A/%C3%81rea%20de%20Trabalho/IC%20Rodolfo/gasification/test.ipynb#ch0000005?line=0'>1</a>\u001b[0m outlet, inlet, fuelmix \u001b[39m=\u001b[39m g\u001b[39m.\u001b[39;49mNonIsotGasification(fuel1)\n\u001b[0;32m      <a href='vscode-notebook-cell:/e%3A/%C3%81rea%20de%20Trabalho/IC%20Rodolfo/gasification/test.ipynb#ch0000005?line=1'>2</a>\u001b[0m \u001b[39mprint\u001b[39m(outlet\u001b[39m.\u001b[39mT)\n",
      "File \u001b[1;32me:\\Área de Trabalho\\IC Rodolfo\\gasification\\gasifier2.py:278\u001b[0m, in \u001b[0;36mNonIsotGasification\u001b[1;34m(fuelID, mass, moist, T0, P, air, stm, airType, stmType, heatLoss)\u001b[0m\n\u001b[0;32m    <a href='file:///e%3A/%C3%81rea%20de%20Trabalho/IC%20Rodolfo/gasification/gasifier2.py?line=274'>275</a>\u001b[0m inlet \u001b[39m=\u001b[39m getFeed(fuelMix, moist, air, stm, airType, stmType)\n\u001b[0;32m    <a href='file:///e%3A/%C3%81rea%20de%20Trabalho/IC%20Rodolfo/gasification/gasifier2.py?line=275'>276</a>\u001b[0m outlet \u001b[39m=\u001b[39m getFeed(fuelMix, moist, air, stm, airType, stmType)\n\u001b[1;32m--> <a href='file:///e%3A/%C3%81rea%20de%20Trabalho/IC%20Rodolfo/gasification/gasifier2.py?line=277'>278</a>\u001b[0m H \u001b[39m=\u001b[39m outlet\u001b[39m.\u001b[39;49mH\n\u001b[0;32m    <a href='file:///e%3A/%C3%81rea%20de%20Trabalho/IC%20Rodolfo/gasification/gasifier2.py?line=279'>280</a>\u001b[0m \u001b[39m# Calculate equilibrium\u001b[39;00m\n\u001b[0;32m    <a href='file:///e%3A/%C3%81rea%20de%20Trabalho/IC%20Rodolfo/gasification/gasifier2.py?line=280'>281</a>\u001b[0m outlet\u001b[39m.\u001b[39mH \u001b[39m=\u001b[39m H\n",
      "\u001b[1;31mAttributeError\u001b[0m: 'cantera._cantera.Mixture' object has no attribute 'H'"
     ]
    }
   ],
   "source": [
    "outlet, inlet, fuelmix = g.NonIsotGasification(fuel1)\n",
    "print(outlet.T)"
   ]
  }
 ],
 "metadata": {
  "interpreter": {
   "hash": "ab41b54e4c1455ad47a64297637293cdab919e934b3b21d6ec5db0dcb5c25070"
  },
  "kernelspec": {
   "display_name": "Python 3.9.12 ('ct-env')",
   "language": "python",
   "name": "python3"
  },
  "language_info": {
   "codemirror_mode": {
    "name": "ipython",
    "version": 3
   },
   "file_extension": ".py",
   "mimetype": "text/x-python",
   "name": "python",
   "nbconvert_exporter": "python",
   "pygments_lexer": "ipython3",
   "version": "3.9.12"
  },
  "orig_nbformat": 4
 },
 "nbformat": 4,
 "nbformat_minor": 2
}
