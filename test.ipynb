{
 "cells": [
  {
   "cell_type": "code",
   "execution_count": 1,
   "metadata": {},
   "outputs": [
    {
     "name": "stdout",
     "output_type": "stream",
     "text": [
      "CanteraWarning: NasaPoly2::validate: \n",
      "For species Fe(c), discontinuity in cp/R detected at Tmid = 1000.0\n",
      "\tValue computed using low-temperature polynomial:  0.0\n",
      "\tValue computed using high-temperature polynomial: 4.2881898\n",
      "\n",
      "CanteraWarning: NasaPoly2::validate: \n",
      "For species Fe(c), discontinuity in h/RT detected at Tmid = 1000.0\n",
      "\tValue computed using low-temperature polynomial:  0.0\n",
      "\tValue computed using high-temperature polynomial: 3.425820683333331\n",
      "\n",
      "CanteraWarning: NasaPoly2::validate: \n",
      "For species Fe(c), discontinuity in s/R detected at Tmid = 1000.0\n",
      "\tValue computed using low-temperature polynomial:  0.0\n",
      "\tValue computed using high-temperature polynomial: 8.486560101557188\n",
      "\n",
      "CanteraWarning: NasaPoly2::validate: \n",
      "For species Cr(cr), discontinuity in cp/R detected at Tmid = 1000.0\n",
      "\tValue computed using low-temperature polynomial:  749.1520512400002\n",
      "\tValue computed using high-temperature polynomial: 0.0\n",
      "\n",
      "CanteraWarning: NasaPoly2::validate: \n",
      "For species Cr(cr), discontinuity in h/RT detected at Tmid = 1000.0\n",
      "\tValue computed using low-temperature polynomial:  113.24055562733336\n",
      "\tValue computed using high-temperature polynomial: 0.0\n",
      "\n",
      "CanteraWarning: NasaPoly2::validate: \n",
      "For species Cr(cr), discontinuity in s/R detected at Tmid = 1000.0\n",
      "\tValue computed using low-temperature polynomial:  135.51255437035232\n",
      "\tValue computed using high-temperature polynomial: 0.0\n",
      "\n"
     ]
    }
   ],
   "source": [
    "# Importing libraries\n",
    "import sys\n",
    "import numpy as np\n",
    "import pandas as pd\n",
    "import cantera as ct\n",
    "import scipy.optimize as opt\n",
    "\n",
    "# Importing packages\n",
    "import gasifier as g\n",
    "import fuel as fu\n",
    "import energy as en\n",
    "import outputs as op\n",
    "import feedstock as fs\n",
    "import pp"
   ]
  },
  {
   "cell_type": "code",
   "execution_count": 2,
   "metadata": {},
   "outputs": [],
   "source": [
    "# # Old packages\n",
    "# import feedstock as fs1\n",
    "# import pp as pp1\n",
    "# import gasifier as g1"
   ]
  },
  {
   "cell_type": "code",
   "execution_count": 14,
   "metadata": {},
   "outputs": [],
   "source": [
    "fuelID = \"JarungCoconut\"\n",
    "Info = {\"Description\":\"Coconut shell\", \"Type\":\"Biomass\", \"Category\":\"Wood\", \"Reference\":\"Zhou et al.\", \"Year\":2009, \"DOI\":\"10.1016/j.biotechadv.2009.04.011\"}\n",
    "moist = [\"wb\", 12.29]\n",
    "prox = [\"wb\", 14.75, 72.47, 0.49]\n",
    "HV = [None, 17.482]\n",
    "biochem = [None, None, None]\n",
    "ult = [\"wb\", 43.43, 4.84, 38.53, 0.32, 0.10, 0.00]\n",
    "ashC = [None, None, None, None, None, None, None, None, None, None, None]\n",
    "\n",
    "#fu.addToDatabase(fuelID, Info, moist, prox, HV, biochem, ult, ashC)"
   ]
  },
  {
   "cell_type": "code",
   "execution_count": 5,
   "metadata": {},
   "outputs": [
    {
     "name": "stdout",
     "output_type": "stream",
     "text": [
      "90\n"
     ]
    }
   ],
   "source": [
    "print(pp.nsp)"
   ]
  },
  {
   "cell_type": "code",
   "execution_count": 6,
   "metadata": {},
   "outputs": [],
   "source": [
    "fuelID = \"AltafiniSawdust\"\n",
    "species = ['H2', 'CO', 'CH4', 'CO2', 'N2']\n",
    "experimental = np.array([20.59, 26.73, 0.02, 7.28, 44.85])/100 # fraction\n",
    "T0 = 800+273.15 # K\n",
    "P = ct.one_atm # Pa\n",
    "air = 2.0841 # kg/kg fuel\n",
    "airType = 'air'\n",
    "moist = 0"
   ]
  },
  {
   "cell_type": "code",
   "execution_count": 7,
   "metadata": {},
   "outputs": [],
   "source": [
    "fuelID = \"HighAshCoal\"\n",
    "species = ['H2', 'CO', 'CH4', 'CO2', 'H2O', 'H2S', 'NH3', 'N2']\n",
    "#experimental = np.array([10.2, 15.7, 8.0, 1.0, 65.1])/100 # fraction\n",
    "T0 = 1000+273.15 # K\n",
    "P = ct.one_atm # Pa\n",
    "air = 0.4\n",
    "airType = 'ER'\n",
    "moist = 0"
   ]
  },
  {
   "cell_type": "code",
   "execution_count": 8,
   "metadata": {},
   "outputs": [],
   "source": [
    "fuelID = \"Highvale\"\n",
    "species = ['CO', 'CO2', 'H2', 'CH4', 'N2']\n",
    "experimental = np.array([9.1, 15.0, 5.6, 0.5, 69.8])/100 # fraction\n",
    "CCexp = 73.8 # %\n",
    "T0 = 880+273.15 # K\n",
    "P = 1.55E5 # Pa\n",
    "air = 0.52\n",
    "airType = 'ER'\n",
    "moist = 0.11607"
   ]
  },
  {
   "cell_type": "code",
   "execution_count": 9,
   "metadata": {},
   "outputs": [],
   "source": [
    "fuelID = \"Highvale\"\n",
    "species = ['CO', 'CO2', 'H2', 'CH4', 'N2']\n",
    "experimental = np.array([10.2, 15.7, 8.0, 1.0, 65.1])/100 # fraction\n",
    "CCexp = 61.4 # %\n",
    "T0 = 810+273.15 # K\n",
    "P = 1.6E5 # Pa\n",
    "air = 0.37\n",
    "airType = 'ER'\n",
    "moist = 0.11607"
   ]
  },
  {
   "cell_type": "code",
   "execution_count": 10,
   "metadata": {},
   "outputs": [
    {
     "name": "stdout",
     "output_type": "stream",
     "text": [
      "0.6227745197925871\n"
     ]
    }
   ],
   "source": [
    "report0 = g.gasifier(fuelID, moist=moist, T=T0, P=P, air=air, airType=airType, species=species+['C'], C_avail=1.0)\n",
    "CC0 = report0['CC']\n",
    "C_avail0 = CCexp / CC0\n",
    "print(C_avail0)"
   ]
  },
  {
   "cell_type": "code",
   "execution_count": 11,
   "metadata": {},
   "outputs": [
    {
     "name": "stdout",
     "output_type": "stream",
     "text": [
      "243.61375921065246\n",
      "1.0\n",
      "0.0046993686809537645\n",
      "0.46993686809537644 %\n"
     ]
    }
   ],
   "source": [
    "DT1, C_avail1, sqerr = g.findParams(fuelID, experimental, moist=moist, T0=T0, P=P, air=air, airType=airType, species=species)\n",
    "print(DT1)\n",
    "print(C_avail1)\n",
    "print(sqerr)\n",
    "print(sqerr*100, '%')"
   ]
  },
  {
   "cell_type": "code",
   "execution_count": 12,
   "metadata": {},
   "outputs": [
    {
     "ename": "AttributeError",
     "evalue": "'tuple' object has no attribute 'x'",
     "output_type": "error",
     "traceback": [
      "\u001b[1;31m---------------------------------------------------------------------------\u001b[0m",
      "\u001b[1;31mAttributeError\u001b[0m                            Traceback (most recent call last)",
      "\u001b[1;32me:\\Área de Trabalho\\IC Rodolfo\\gasification\\test.ipynb Cell 12'\u001b[0m in \u001b[0;36m<cell line: 3>\u001b[1;34m()\u001b[0m\n\u001b[0;32m      <a href='vscode-notebook-cell:/e%3A/%C3%81rea%20de%20Trabalho/IC%20Rodolfo/gasification/test.ipynb#ch0000010?line=0'>1</a>\u001b[0m Tquasi \u001b[39m=\u001b[39m g\u001b[39m.\u001b[39mfindTquasi(fuelID, experimental, moist\u001b[39m=\u001b[39mmoist, T0\u001b[39m=\u001b[39mT0, P\u001b[39m=\u001b[39mP, \n\u001b[0;32m      <a href='vscode-notebook-cell:/e%3A/%C3%81rea%20de%20Trabalho/IC%20Rodolfo/gasification/test.ipynb#ch0000010?line=1'>2</a>\u001b[0m                 air\u001b[39m=\u001b[39mair, airType\u001b[39m=\u001b[39mairType, C_avail\u001b[39m=\u001b[39mC_avail0, species\u001b[39m=\u001b[39mspecies)\n\u001b[1;32m----> <a href='vscode-notebook-cell:/e%3A/%C3%81rea%20de%20Trabalho/IC%20Rodolfo/gasification/test.ipynb#ch0000010?line=2'>3</a>\u001b[0m DT2 \u001b[39m=\u001b[39m T0 \u001b[39m-\u001b[39m Tquasi\u001b[39m.\u001b[39;49mx[\u001b[39m0\u001b[39m]\n\u001b[0;32m      <a href='vscode-notebook-cell:/e%3A/%C3%81rea%20de%20Trabalho/IC%20Rodolfo/gasification/test.ipynb#ch0000010?line=3'>4</a>\u001b[0m \u001b[39mprint\u001b[39m(DT2)\n\u001b[0;32m      <a href='vscode-notebook-cell:/e%3A/%C3%81rea%20de%20Trabalho/IC%20Rodolfo/gasification/test.ipynb#ch0000010?line=4'>5</a>\u001b[0m \u001b[39mprint\u001b[39m(Tquasi)\n",
      "\u001b[1;31mAttributeError\u001b[0m: 'tuple' object has no attribute 'x'"
     ]
    }
   ],
   "source": [
    "Tquasi = g.findTquasi(fuelID, experimental, moist=moist, T0=T0, P=P, \n",
    "                air=air, airType=airType, C_avail=C_avail0, species=species)\n",
    "DT2 = T0 - Tquasi.x[0]\n",
    "print(DT2)\n",
    "print(Tquasi)"
   ]
  },
  {
   "cell_type": "code",
   "execution_count": null,
   "metadata": {},
   "outputs": [
    {
     "name": "stdout",
     "output_type": "stream",
     "text": [
      "51.15670581983078\n",
      "CO 21.615255228987102 %\n",
      "CO2 7.264273724438117 %\n",
      "H2 18.326220255374555 %\n",
      "CH4 0.02655097776255576 %\n",
      "N2 46.32177383697563 %\n",
      "C 3.010811893063498e-26 %\n"
     ]
    }
   ],
   "source": [
    "report1 = g.gasifier(fuelID, moist=moist, T=T0-DT1, air=air, P=P, airType=airType, species=species+['C'], C_avail=C_avail1)\n",
    "CC1 = report1['CC']\n",
    "print(CC1)\n",
    "for sp in species+['C']:\n",
    "    print(sp, report1[sp]*100, '%')"
   ]
  },
  {
   "cell_type": "code",
   "execution_count": null,
   "metadata": {},
   "outputs": [
    {
     "name": "stdout",
     "output_type": "stream",
     "text": [
      "51.15670581983078\n",
      "CO 4.045425207567627 %\n",
      "CO2 16.910218943581462 %\n",
      "H2 9.891175392446197 %\n",
      "CH4 2.633638271324082 %\n",
      "N2 55.80393395507851 %\n",
      "C 2.8778485436630257e-37 %\n"
     ]
    }
   ],
   "source": [
    "report2 = g.gasifier(fuelID, moist=moist, T=T0-DT2, air=air, P=P, airType=airType, species=species+['C'], C_avail=C_avail0)\n",
    "CC2 = report1['CC']\n",
    "print(CC2)\n",
    "for sp in species+['C']:\n",
    "    print(sp, report2[sp]*100, '%')"
   ]
  },
  {
   "cell_type": "code",
   "execution_count": null,
   "metadata": {},
   "outputs": [
    {
     "name": "stdout",
     "output_type": "stream",
     "text": [
      "0.04045425207567627 0.102\n",
      "0.16910218943581462 0.157\n",
      "0.09891175392446197 0.08\n",
      "0.02633638271324082 0.01\n",
      "0.5580393395507851 0.6509999999999999\n",
      "4.037134688941118 %\n"
     ]
    }
   ],
   "source": [
    "def ARE(predicted, experimental):\n",
    "    ARE = 0\n",
    "    for i, exp in enumerate(experimental):\n",
    "        ARE += abs((predicted[i]-exp)/exp)\n",
    "    return ARE/len(predicted)\n",
    "\n",
    "def AAE(predicted, experimental):\n",
    "    AAE = 0\n",
    "    for i, exp in enumerate(experimental):\n",
    "        print(predicted[i], exp)\n",
    "        AAE += abs((predicted[i]-exp))\n",
    "    return AAE/len(predicted)\n",
    "\n",
    "def SQE(predicted, experimental):\n",
    "    SQE = 0\n",
    "    for i, exp in enumerate(experimental):\n",
    "        SQE += (predicted[i]-exp)**2\n",
    "    return SQE\n",
    "\n",
    "predicted = []\n",
    "for i, sp in enumerate(species):\n",
    "    predicted.append(report2[sp])\n",
    "\n",
    "error = AAE(predicted, experimental)\n",
    "print(error*100, '%')"
   ]
  }
 ],
 "metadata": {
  "interpreter": {
   "hash": "ab41b54e4c1455ad47a64297637293cdab919e934b3b21d6ec5db0dcb5c25070"
  },
  "kernelspec": {
   "display_name": "Python 3.9.12 ('ct-env')",
   "language": "python",
   "name": "python3"
  },
  "language_info": {
   "codemirror_mode": {
    "name": "ipython",
    "version": 3
   },
   "file_extension": ".py",
   "mimetype": "text/x-python",
   "name": "python",
   "nbconvert_exporter": "python",
   "pygments_lexer": "ipython3",
   "version": "3.9.12"
  },
  "orig_nbformat": 4
 },
 "nbformat": 4,
 "nbformat_minor": 2
}
