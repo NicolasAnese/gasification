{
 "cells": [
  {
   "cell_type": "code",
   "execution_count": 1,
   "metadata": {},
   "outputs": [
    {
     "name": "stdout",
     "output_type": "stream",
     "text": [
      "CanteraWarning: NasaPoly2::validate: \n",
      "For species Fe(c), discontinuity in cp/R detected at Tmid = 1000.0\n",
      "\tValue computed using low-temperature polynomial:  0.0\n",
      "\tValue computed using high-temperature polynomial: 4.2881898\n",
      "\n",
      "CanteraWarning: NasaPoly2::validate: \n",
      "For species Fe(c), discontinuity in h/RT detected at Tmid = 1000.0\n",
      "\tValue computed using low-temperature polynomial:  0.0\n",
      "\tValue computed using high-temperature polynomial: 3.425820683333331\n",
      "\n",
      "CanteraWarning: NasaPoly2::validate: \n",
      "For species Fe(c), discontinuity in s/R detected at Tmid = 1000.0\n",
      "\tValue computed using low-temperature polynomial:  0.0\n",
      "\tValue computed using high-temperature polynomial: 8.486560101557188\n",
      "\n",
      "CanteraWarning: NasaPoly2::validate: \n",
      "For species Cr(cr), discontinuity in cp/R detected at Tmid = 1000.0\n",
      "\tValue computed using low-temperature polynomial:  749.1520512400002\n",
      "\tValue computed using high-temperature polynomial: 0.0\n",
      "\n",
      "CanteraWarning: NasaPoly2::validate: \n",
      "For species Cr(cr), discontinuity in h/RT detected at Tmid = 1000.0\n",
      "\tValue computed using low-temperature polynomial:  113.24055562733336\n",
      "\tValue computed using high-temperature polynomial: 0.0\n",
      "\n",
      "CanteraWarning: NasaPoly2::validate: \n",
      "For species Cr(cr), discontinuity in s/R detected at Tmid = 1000.0\n",
      "\tValue computed using low-temperature polynomial:  135.51255437035232\n",
      "\tValue computed using high-temperature polynomial: 0.0\n",
      "\n",
      "CanteraWarning: NasaPoly2::validate: \n",
      "For species Fe(c), discontinuity in cp/R detected at Tmid = 1000.0\n",
      "\tValue computed using low-temperature polynomial:  0.0\n",
      "\tValue computed using high-temperature polynomial: 4.2881898\n",
      "\n",
      "CanteraWarning: NasaPoly2::validate: \n",
      "For species Fe(c), discontinuity in h/RT detected at Tmid = 1000.0\n",
      "\tValue computed using low-temperature polynomial:  0.0\n",
      "\tValue computed using high-temperature polynomial: 3.425820683333331\n",
      "\n",
      "CanteraWarning: NasaPoly2::validate: \n",
      "For species Fe(c), discontinuity in s/R detected at Tmid = 1000.0\n",
      "\tValue computed using low-temperature polynomial:  0.0\n",
      "\tValue computed using high-temperature polynomial: 8.486560101557188\n",
      "\n",
      "CanteraWarning: NasaPoly2::validate: \n",
      "For species Cr(cr), discontinuity in cp/R detected at Tmid = 1000.0\n",
      "\tValue computed using low-temperature polynomial:  749.1520512400002\n",
      "\tValue computed using high-temperature polynomial: 0.0\n",
      "\n",
      "CanteraWarning: NasaPoly2::validate: \n",
      "For species Cr(cr), discontinuity in h/RT detected at Tmid = 1000.0\n",
      "\tValue computed using low-temperature polynomial:  113.24055562733336\n",
      "\tValue computed using high-temperature polynomial: 0.0\n",
      "\n",
      "CanteraWarning: NasaPoly2::validate: \n",
      "For species Cr(cr), discontinuity in s/R detected at Tmid = 1000.0\n",
      "\tValue computed using low-temperature polynomial:  135.51255437035232\n",
      "\tValue computed using high-temperature polynomial: 0.0\n",
      "\n"
     ]
    }
   ],
   "source": [
    "# Importing libraries\n",
    "import numpy as np\n",
    "import pandas as pd\n",
    "import cantera as ct\n",
    "import scipy.optimize as opt\n",
    "\n",
    "# Importing packages\n",
    "import feedstock2 as fs\n",
    "import pp2 as pp\n",
    "import gasifier2 as g\n",
    "import fuel as fu\n",
    "import energy as en\n",
    "import outputs as op"
   ]
  },
  {
   "cell_type": "code",
   "execution_count": 2,
   "metadata": {},
   "outputs": [],
   "source": [
    "# Old packages\n",
    "import feedstock as fs1\n",
    "import pp as pp1\n",
    "import gasifier as g1"
   ]
  },
  {
   "cell_type": "code",
   "execution_count": 3,
   "metadata": {},
   "outputs": [],
   "source": [
    "fuelID = \"AltafiniSawdust\"\n",
    "Info = {\"Description\":\"Pinus Elliotis sawdust\", \"Type\":\"Biomass\", \"Category\":\"Wood\", \"Reference\":\"Altafini et al.\", \"Year\":2003, \"DOI\":\"10.1016/S0196-8904(03)00025-6\"}\n",
    "moist = [None, None]\n",
    "prox = [\"db\", 0.0, 99.9, 0.1]\n",
    "HV = [20.407, 19.087]\n",
    "biochem = [None, None, None]\n",
    "ult = [\"db\", 52.00, 41.55, 0.28, 6.07, 0.00, 0.00]\n",
    "ashC = [None, None, None, None, None, None, None, None, None, None, None]\n",
    "\n",
    "#fu.addToDatabase(fuelID, Info, moist, prox, HV, biochem, ult, ashC)"
   ]
  },
  {
   "cell_type": "code",
   "execution_count": 4,
   "metadata": {},
   "outputs": [
    {
     "name": "stdout",
     "output_type": "stream",
     "text": [
      "90\n"
     ]
    }
   ],
   "source": [
    "print(pp.nsp)"
   ]
  },
  {
   "cell_type": "code",
   "execution_count": 5,
   "metadata": {},
   "outputs": [],
   "source": [
    "fuelID = \"AltafiniSawdust\"\n",
    "species = ['H2', 'CO', 'CH4', 'CO2', 'N2']\n",
    "experimental = np.array([20.59, 26.73, 0.02, 7.28, 44.85])/100 # fraction\n",
    "T0 = 800+273.15 # K\n",
    "P = ct.one_atm # Pa\n",
    "air = 2.0841 # kg/kg fuel\n",
    "airType = 'air'\n",
    "moist = 0"
   ]
  },
  {
   "cell_type": "code",
   "execution_count": 6,
   "metadata": {},
   "outputs": [],
   "source": [
    "fuelID = \"HighAshCoal\"\n",
    "species = ['H2', 'CO', 'CH4', 'CO2', 'H2O', 'H2S', 'NH3', 'N2']\n",
    "#experimental = np.array([10.2, 15.7, 8.0, 1.0, 65.1])/100 # fraction\n",
    "T0 = 1000+273.15 # K\n",
    "P = ct.one_atm # Pa\n",
    "air = 0.4\n",
    "airType = 'ER'\n",
    "moist = 0"
   ]
  },
  {
   "cell_type": "code",
   "execution_count": 7,
   "metadata": {},
   "outputs": [],
   "source": [
    "fuelID = \"Highvale\"\n",
    "species = ['CO', 'CO2', 'H2', 'CH4', 'N2']\n",
    "experimental = np.array([10.2, 15.7, 8.0, 1.0, 65.1])/100 # fraction\n",
    "T0 = 810+273.15 # K\n",
    "P = 1.6E5 # Pa\n",
    "air = 0.37\n",
    "airType = 'ER'\n",
    "moist = 0.11607"
   ]
  },
  {
   "cell_type": "code",
   "execution_count": 8,
   "metadata": {},
   "outputs": [
    {
     "name": "stdout",
     "output_type": "stream",
     "text": [
      "240.56180694126812\n",
      "1.0\n",
      "0.004711434369560997\n",
      "6.863988905557028 %\n"
     ]
    }
   ],
   "source": [
    "DT, C_avail, sqerr = g.findParams(fuelID, experimental, moist=moist, T0=T0, P=P, air=air, airType=airType, species=species)\n",
    "print(DT)\n",
    "print(C_avail)\n",
    "print(sqerr)\n",
    "print(np.sqrt(sqerr)*100, '%')"
   ]
  },
  {
   "cell_type": "code",
   "execution_count": 9,
   "metadata": {},
   "outputs": [
    {
     "name": "stdout",
     "output_type": "stream",
     "text": [
      "CO 7.280509907610908 %\n",
      "CO2 15.472537062014272 %\n",
      "H2 10.271170829216706 %\n",
      "CH4 0.6690281954509992 %\n",
      "N2 58.77211463882137 %\n"
     ]
    }
   ],
   "source": [
    "report = g.gasifier(fuelID, moist=moist, T=T0-DT, air=air, airType=airType, species=species, C_avail=C_avail)\n",
    "for sp in species:\n",
    "    print(sp, report[sp]*100, '%')"
   ]
  },
  {
   "cell_type": "code",
   "execution_count": 10,
   "metadata": {},
   "outputs": [
    {
     "name": "stdout",
     "output_type": "stream",
     "text": [
      "20.255666047901126 %\n"
     ]
    }
   ],
   "source": [
    "def ARE(predicted, experimental):\n",
    "    ARE = 0\n",
    "    for i, exp in enumerate(experimental):\n",
    "        ARE += abs((predicted[i]-exp)/exp)\n",
    "    return ARE/len(predicted)\n",
    "\n",
    "predicted = []\n",
    "for i, sp in enumerate(species):\n",
    "    predicted.append(report[sp])\n",
    "\n",
    "error = ARE(predicted, experimental)\n",
    "print(error*100, '%')"
   ]
  }
 ],
 "metadata": {
  "interpreter": {
   "hash": "ab41b54e4c1455ad47a64297637293cdab919e934b3b21d6ec5db0dcb5c25070"
  },
  "kernelspec": {
   "display_name": "Python 3.9.12 ('ct-env')",
   "language": "python",
   "name": "python3"
  },
  "language_info": {
   "codemirror_mode": {
    "name": "ipython",
    "version": 3
   },
   "file_extension": ".py",
   "mimetype": "text/x-python",
   "name": "python",
   "nbconvert_exporter": "python",
   "pygments_lexer": "ipython3",
   "version": "3.9.12"
  },
  "orig_nbformat": 4
 },
 "nbformat": 4,
 "nbformat_minor": 2
}
