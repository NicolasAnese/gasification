{
 "cells": [
  {
   "cell_type": "code",
   "execution_count": 21,
   "metadata": {},
   "outputs": [],
   "source": [
    "import sys\n",
    "import cantera as ct\n",
    "import numpy as np\n",
    "import scipy.optimize as opt\n",
    "import matplotlib.pyplot as plt\n",
    "\n",
    "import phases\n",
    "import feedstock as fs\n",
    "import fuel as fu\n",
    "import energy as en\n",
    "import gasifier as gs"
   ]
  },
  {
   "cell_type": "code",
   "execution_count": 22,
   "metadata": {},
   "outputs": [],
   "source": [
    "ultimate = [46.76, 5.76, 45.83, 0.22, 0.67, 0] # %m/m, dry basis\n",
    "moistWB = 0.1245 # fraction, wet basis\n",
    "ashWB = 0.0077 # fraction, wet basis\n",
    "GCV = 17.36 # MJ/kg\n",
    "\n",
    "moistDB = moistWB / (1 - moistWB)\n",
    "ashDB = ashWB / (1 - moistWB)\n",
    "\n",
    "conv = (phases.Pn) * (phases.Mw_air) / (phases.R * phases.Tn)"
   ]
  },
  {
   "cell_type": "code",
   "execution_count": 23,
   "metadata": {},
   "outputs": [],
   "source": [
    "feedRate = np.array([1.73, 2.15, 2.64, 3.19, 3.69, 4.02, 4.06, 4.48, 4.70, 4.93, 5.40]) # kg/h of wet fuel\n",
    "airRatio = np.array([1.63, 1.64, 1.52, 1.38, 1.51, 1.46, 1.47, 1.44, 1.37, 1.48, 1.50]) # Nm³/kg\n",
    "dryFeedRate = (1 - moistWB) * feedRate # kg/h of dry fuel\n",
    "airFlow = conv * airRatio * feedRate # kg/h of air"
   ]
  },
  {
   "cell_type": "code",
   "execution_count": 24,
   "metadata": {},
   "outputs": [],
   "source": [
    "H2_exp = np.array([14.77, 14.62, 14.77, 14.77, 14.12, 13.13, 12.67, 11.86, 13.83, 11.33, 11.11])\n",
    "N2_exp = np.array([58.67, 59.67, 56.96, 57.05, 57.07, 53.33, 54.71, 53.95, 54.24, 55.65, 55.83])\n",
    "CH4_exp = np.array([1.40, 2.10, 1.94, 2.03, 1.70, 2.18, 1.97, 2.47, 1.98, 2.36, 2.15])\n",
    "CO_exp = np.array([8.56, 8.92, 12.08, 14.41, 16.80, 20.66, 19.63, 19.89, 18.41, 18.99, 18.56])\n",
    "CO2_exp = np.array([16.33, 13.92, 13.02, 11.42, 9.93, 9.52, 10.02, 11.25, 11.12, 11.09, 11.22])\n",
    "gasFlow_exp = np.array([3.55, 4.44, 5.33, 6.22, 7.26, 8.15, 8.15, 9.18, 9.48, 10.07, 10.96]) # Nm³/h\n",
    "HHV_exp = np.array([3.47, 3.76, 4.22, 4.50, 4.55, 5.12, 4.96, 5.15, 4.75, 4.86, 4.66])"
   ]
  },
  {
   "cell_type": "code",
   "execution_count": null,
   "metadata": {},
   "outputs": [],
   "source": [
    "char_params = np.array([])\n",
    "methane_params = np.array([])"
   ]
  },
  {
   "cell_type": "code",
   "execution_count": 25,
   "metadata": {},
   "outputs": [],
   "source": [
    "fuels = []\n",
    "airs = []\n",
    "ERs = np.zeros_like(feedRate)\n",
    "outlets = []\n",
    "\n",
    "for i, dryFeed in enumerate(dryFeedRate):\n",
    "    fuel = fs.create_fuel_stream(dryFeed, ultimate, ashDB, moistDB, GCV)\n",
    "    fuels.append(fuel)\n",
    "    air = fs.create_air_stream(airFlow[i])\n",
    "    airs.append(air)\n",
    "    outlet = gs.gasify_nonisot(fuel, air)\n",
    "    outlets.append(outlet)\n",
    "    stoichAir = fs.create_air_from_ER(fuel, 1.0)\n",
    "    ER = air.get_mass() / stoichAir.get_mass()\n",
    "    ERs[i] = ER"
   ]
  },
  {
   "cell_type": "code",
   "execution_count": 30,
   "metadata": {},
   "outputs": [
    {
     "name": "stdout",
     "output_type": "stream",
     "text": [
      "4.748746325398493\n",
      "-7.100556403681466\n",
      "-2.0157742433215233\n",
      "3.431749018645718\n",
      "0.8810318969389748\n"
     ]
    }
   ],
   "source": [
    "syngasHHV = np.array([out.get_syngas_hhv(basis='vol', water=False, nitrogen=True) for out in outlets])\n",
    "syngasFlow = np.array([out.get_syngas_amount(basis='vol', water=False, nitrogen=True) for out in outlets])\n",
    "H2 = np.array([100*out.get_syngas_fraction(species='H2', water=False, nitrogen=True) for out in outlets])\n",
    "N2 = np.array([100*out.get_syngas_fraction(species='N2', water=False, nitrogen=True) for out in outlets])\n",
    "CH4 = np.array([100*out.get_syngas_fraction(species='CH4', water=False, nitrogen=True) for out in outlets])\n",
    "CO = np.array([100*out.get_syngas_fraction(species='CO', water=False, nitrogen=True) for out in outlets])\n",
    "CO2 = np.array([100*out.get_syngas_fraction(species='CO2', water=False, nitrogen=True) for out in outlets])\n",
    "# print(syngasHHV)\n",
    "# print(syngasFlow)\n",
    "print(np.average(H2) - np.average(H2_exp))\n",
    "print(np.average(N2) - np.average(N2_exp))\n",
    "print(np.average(CH4) - np.average(CH4_exp))\n",
    "print(np.average(CO) - np.average(CO_exp))\n",
    "print(np.average(CO2) - np.average(CO2_exp))"
   ]
  },
  {
   "cell_type": "code",
   "execution_count": 27,
   "metadata": {},
   "outputs": [
    {
     "data": {
      "image/png": "[encoded data removed]",
      "text/plain": [
       "<Figure size 432x288 with 1 Axes>"
      ]
     },
     "metadata": {
      "needs_background": "light"
     },
     "output_type": "display_data"
    }
   ],
   "source": [
    "plt.scatter(airRatio, [out.T for out in outlets])\n",
    "plt.ylim(0, 1600)\n",
    "plt.show()"
   ]
  }
 ],
 "metadata": {
  "kernelspec": {
   "display_name": "ct-env",
   "language": "python",
   "name": "python3"
  },
  "language_info": {
   "codemirror_mode": {
    "name": "ipython",
    "version": 3
   },
   "file_extension": ".py",
   "mimetype": "text/x-python",
   "name": "python",
   "nbconvert_exporter": "python",
   "pygments_lexer": "ipython3",
   "version": "3.9.12"
  },
  "orig_nbformat": 4,
  "vscode": {
   "interpreter": {
    "hash": "2f8f1d48e13c088e6e56ea43e4e7205e8329df80b1713cb4d658a3a978301f46"
   }
  }
 },
 "nbformat": 4,
 "nbformat_minor": 2
}
