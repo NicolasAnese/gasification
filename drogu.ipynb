{
 "cells": [
  {
   "cell_type": "code",
   "execution_count": 1,
   "metadata": {},
   "outputs": [
    {
     "name": "stdout",
     "output_type": "stream",
     "text": [
      "CanteraWarning: NasaPoly2::validate: \n",
      "For species Fe(c), discontinuity in cp/R detected at Tmid = 1000.0\n",
      "\tValue computed using low-temperature polynomial:  0.0\n",
      "\tValue computed using high-temperature polynomial: 4.2881898\n",
      "\n",
      "CanteraWarning: NasaPoly2::validate: \n",
      "For species Fe(c), discontinuity in h/RT detected at Tmid = 1000.0\n",
      "\tValue computed using low-temperature polynomial:  0.0\n",
      "\tValue computed using high-temperature polynomial: 3.425820683333331\n",
      "\n",
      "CanteraWarning: NasaPoly2::validate: \n",
      "For species Fe(c), discontinuity in s/R detected at Tmid = 1000.0\n",
      "\tValue computed using low-temperature polynomial:  0.0\n",
      "\tValue computed using high-temperature polynomial: 8.486560101557188\n",
      "\n",
      "CanteraWarning: NasaPoly2::validate: \n",
      "For species Cr(cr), discontinuity in cp/R detected at Tmid = 1000.0\n",
      "\tValue computed using low-temperature polynomial:  749.1520512400002\n",
      "\tValue computed using high-temperature polynomial: 0.0\n",
      "\n",
      "CanteraWarning: NasaPoly2::validate: \n",
      "For species Cr(cr), discontinuity in h/RT detected at Tmid = 1000.0\n",
      "\tValue computed using low-temperature polynomial:  113.24055562733336\n",
      "\tValue computed using high-temperature polynomial: 0.0\n",
      "\n",
      "CanteraWarning: NasaPoly2::validate: \n",
      "For species Cr(cr), discontinuity in s/R detected at Tmid = 1000.0\n",
      "\tValue computed using low-temperature polynomial:  135.51255437035232\n",
      "\tValue computed using high-temperature polynomial: 0.0\n",
      "\n"
     ]
    }
   ],
   "source": [
    "import sys\n",
    "import cantera as ct\n",
    "import numpy as np\n",
    "import scipy.optimize as opt\n",
    "import matplotlib.pyplot as plt\n",
    "\n",
    "import phases\n",
    "import feedstock as fs\n",
    "import fuel as fu\n",
    "import energy as en\n",
    "import gasifier as gs"
   ]
  },
  {
   "cell_type": "code",
   "execution_count": 2,
   "metadata": {},
   "outputs": [],
   "source": [
    "ultimate = [46.76, 5.76, 45.83, 0.22, 0.67, 0] # %m/m, dry basis\n",
    "moistWB = 0.1245 # fraction, wet basis\n",
    "ashWB = 0.0077 # fraction, wet basis\n",
    "GCV = 17.36 # MJ/kg\n",
    "\n",
    "moistDB = moistWB / (1 - moistWB)\n",
    "ashDB = ashWB / (1 - moistWB)\n",
    "\n",
    "conv = (phases.Pn) * (phases.Mw_air) / (phases.R * phases.Tn)"
   ]
  },
  {
   "cell_type": "code",
   "execution_count": 3,
   "metadata": {},
   "outputs": [],
   "source": [
    "feedRate = np.array([1.73, 2.15, 2.64, 3.19, 3.69, 4.02, 4.06, 4.48, 4.70, 4.93, 5.40]) # kg/h of wet fuel\n",
    "airRatio = np.array([1.63, 1.64, 1.52, 1.38, 1.51, 1.46, 1.47, 1.44, 1.37, 1.48, 1.50]) # Nm³/kg\n",
    "dryFeedRate = (1 - moistWB) * feedRate # kg/h of dry fuel\n",
    "airFlow = conv * airRatio * feedRate # kg/h of air"
   ]
  },
  {
   "cell_type": "code",
   "execution_count": 4,
   "metadata": {},
   "outputs": [
    {
     "name": "stdout",
     "output_type": "stream",
     "text": [
      "[2.05202312 2.06511628 2.01893939 1.94984326 1.96747967 2.02736318\n",
      " 2.00738916 2.04910714 2.01702128 2.04259635 2.02962963]\n"
     ]
    }
   ],
   "source": [
    "H2_exp = np.array([14.77, 14.62, 14.77, 14.77, 14.12, 13.13, 12.67, 11.86, 13.83, 11.33, 11.11])\n",
    "N2_exp = np.array([58.67, 59.67, 56.96, 57.05, 57.07, 53.33, 54.71, 53.95, 54.24, 55.65, 55.83])\n",
    "CH4_exp = np.array([1.40, 2.10, 1.94, 2.03, 1.70, 2.18, 1.97, 2.47, 1.98, 2.36, 2.15])\n",
    "CO_exp = np.array([8.56, 8.92, 12.08, 14.41, 16.80, 20.66, 19.63, 19.89, 18.41, 18.99, 18.56])\n",
    "CO2_exp = np.array([16.33, 13.92, 13.02, 11.42, 9.93, 9.52, 10.02, 11.25, 11.12, 11.09, 11.22])\n",
    "gasFlow_exp = np.array([3.55, 4.44, 5.33, 6.22, 7.26, 8.15, 8.15, 9.18, 9.48, 10.07, 10.96]) # Nm³/h\n",
    "HHV_exp = np.array([3.47, 3.76, 4.22, 4.50, 4.55, 5.12, 4.96, 5.15, 4.75, 4.86, 4.66]) # MJ/Nm³\n",
    "gasYield_exp = gasFlow_exp / feedRate\n",
    "print(gasYield_exp)"
   ]
  },
  {
   "cell_type": "code",
   "execution_count": 5,
   "metadata": {},
   "outputs": [],
   "source": [
    "fuels = []\n",
    "airs = []\n",
    "ERs = np.zeros_like(feedRate)\n",
    "outlets = []\n",
    "\n",
    "for i, dryFeed in enumerate(dryFeedRate):\n",
    "    fuel = fs.create_fuel_stream(dryFeed, ultimate, ashDB, moistDB, GCV)\n",
    "    fuels.append(fuel)\n",
    "    air = fs.create_air_stream(airFlow[i])\n",
    "    airs.append(air)\n",
    "    outlet = gs.gasify_nonisot(fuel, air)\n",
    "    outlets.append(outlet)\n",
    "    stoichAir = fs.create_air_from_ER(fuel, 1.0)\n",
    "    ER = air.get_mass() / stoichAir.get_mass()\n",
    "    ERs[i] = ER"
   ]
  },
  {
   "cell_type": "code",
   "execution_count": 6,
   "metadata": {},
   "outputs": [],
   "source": [
    "syngasHHV = np.array([out.get_syngas_hhv(basis='vol', water=False, nitrogen=True) for out in outlets])\n",
    "syngasFlow = np.array([out.get_syngas_amount(basis='vol', water=False, nitrogen=True) for out in outlets])\n",
    "syngasYield = syngasFlow / feedRate\n",
    "temperatures = np.array([out.T for out in outlets]) # K\n",
    "H2 = np.array([100*out.get_syngas_fraction(species='H2', water=False, nitrogen=True) for out in outlets])\n",
    "N2 = np.array([100*out.get_syngas_fraction(species='N2', water=False, nitrogen=True) for out in outlets])\n",
    "CH4 = np.array([100*out.get_syngas_fraction(species='CH4', water=False, nitrogen=True) for out in outlets])\n",
    "CO = np.array([100*out.get_syngas_fraction(species='CO', water=False, nitrogen=True) for out in outlets])\n",
    "CO2 = np.array([100*out.get_syngas_fraction(species='CO2', water=False, nitrogen=True) for out in outlets])\n"
   ]
  },
  {
   "cell_type": "code",
   "execution_count": 7,
   "metadata": {},
   "outputs": [],
   "source": [
    "char_params = np.array([-111.1574, 3.9705, 0.0362, -7.1958, 3.0419, 1.2430, 0.1276, 1.1034, 1.4281])\n",
    "methane_params = np.array([16.5264, 0.4982, -0.0304, 0.1739, 0.2148, -0.1864, -0.1186, -0.2192, -0.2552])\n",
    "\n",
    "def char(ER, MC, T, C, H, O, ash):\n",
    "    a = lambda i: char_params[i]\n",
    "    return np.exp(a(0) + a(1)*ER + a(2)*MC + a(3)*((10**(-3))*T) + a(4)*((10**(-3))*T)**2 + a(5)*C + a(6)*H + a(7)*O +a(8)*ash)\n",
    "\n",
    "def met(ER, MC, T, C, H, O, ash):\n",
    "    b = lambda i: methane_params[i]\n",
    "    return np.exp(b(0) + b(1)*ER + b(2)*MC + b(3)*((10**(-3))*T) + b(4)*((10**(-3))*T)**2 + b(5)*C + b(6)*H + b(7)*O +b(8)*ash)"
   ]
  },
  {
   "cell_type": "code",
   "execution_count": 8,
   "metadata": {},
   "outputs": [],
   "source": [
    "outlets_char = []\n",
    "for i, fuel in enumerate(fuels):\n",
    "    air = airs[i]\n",
    "    ER = ERs[i]\n",
    "    T = temperatures[i]\n",
    "    charFormation = char(ER, 100*moistDB, T, ultimate[0], ultimate[1], ultimate[2], 100*ashDB)\n",
    "    methaneConversion = met(ER, 100*moistDB, T, ultimate[0], ultimate[1], ultimate[2], 100*ashDB)\n",
    "    # print(charFormation, methaneConversion)\n",
    "    outlet = gs.gasify_nonisot(fuel, air, charFormation=charFormation, directMethaneConv=0)\n",
    "    outlets_char.append(outlet)\n",
    "\n",
    "syngasHHV_char = np.array([out.get_syngas_hhv(basis='vol', water=False, nitrogen=True) for out in outlets_char])\n",
    "syngasFlow_char = np.array([out.get_syngas_amount(basis='vol', water=False, nitrogen=True) for out in outlets_char])\n",
    "syngasYield_char = syngasFlow_char / feedRate\n",
    "temperatures_char = np.array([out.T for out in outlets_char]) # K\n",
    "H2_char = np.array([100*out.get_syngas_fraction(species='H2', water=False, nitrogen=True) for out in outlets_char])\n",
    "N2_char = np.array([100*out.get_syngas_fraction(species='N2', water=False, nitrogen=True) for out in outlets_char])\n",
    "CH4_char = np.array([100*out.get_syngas_fraction(species='CH4', water=False, nitrogen=True) for out in outlets_char])\n",
    "CO_char = np.array([100*out.get_syngas_fraction(species='CO', water=False, nitrogen=True) for out in outlets_char])\n",
    "CO2_char = np.array([100*out.get_syngas_fraction(species='CO2', water=False, nitrogen=True) for out in outlets_char])"
   ]
  },
  {
   "cell_type": "code",
   "execution_count": 9,
   "metadata": {},
   "outputs": [],
   "source": [
    "outlets_met = []\n",
    "for i, fuel in enumerate(fuels):\n",
    "    air = airs[i]\n",
    "    ER = ERs[i]\n",
    "    T = temperatures[i]\n",
    "    charFormation = char(ER, 100*moistDB, T, ultimate[0], ultimate[1], ultimate[2], 100*ashDB)\n",
    "    methaneConversion = met(ER, 100*moistDB, T, ultimate[0], ultimate[1], ultimate[2], 100*ashDB)\n",
    "    # print(charFormation, methaneConversion)\n",
    "    outlet = gs.gasify_nonisot(fuel, air, charFormation=0, directMethaneConv=methaneConversion)\n",
    "    outlets_met.append(outlet)\n",
    "\n",
    "syngasHHV_met = np.array([out.get_syngas_hhv(basis='vol', water=False, nitrogen=True) for out in outlets_met])\n",
    "syngasFlow_met = np.array([out.get_syngas_amount(basis='vol', water=False, nitrogen=True) for out in outlets_met])\n",
    "syngasYield_met = syngasFlow_met / feedRate\n",
    "temperatures_met = np.array([out.T for out in outlets_met]) # K\n",
    "H2_met = np.array([100*out.get_syngas_fraction(species='H2', water=False, nitrogen=True) for out in outlets_met])\n",
    "N2_met = np.array([100*out.get_syngas_fraction(species='N2', water=False, nitrogen=True) for out in outlets_met])\n",
    "CH4_met = np.array([100*out.get_syngas_fraction(species='CH4', water=False, nitrogen=True) for out in outlets_met])\n",
    "CO_met = np.array([100*out.get_syngas_fraction(species='CO', water=False, nitrogen=True) for out in outlets_met])\n",
    "CO2_met = np.array([100*out.get_syngas_fraction(species='CO2', water=False, nitrogen=True) for out in outlets_met])"
   ]
  },
  {
   "cell_type": "code",
   "execution_count": 10,
   "metadata": {},
   "outputs": [],
   "source": [
    "outlets_both = []\n",
    "for i, fuel in enumerate(fuels):\n",
    "    air = airs[i]\n",
    "    ER = ERs[i]\n",
    "    T = temperatures[i]\n",
    "    charFormation = char(ER, 100*moistDB, T, ultimate[0], ultimate[1], ultimate[2], 100*ashDB)\n",
    "    methaneConversion = met(ER, 100*moistDB, T, ultimate[0], ultimate[1], ultimate[2], 100*ashDB)\n",
    "    # print(charFormation, methaneConversion)\n",
    "    outlet = gs.gasify_nonisot(fuel, air, charFormation=charFormation, directMethaneConv=methaneConversion)\n",
    "    outlets_both.append(outlet)\n",
    "\n",
    "syngasHHV_both = np.array([out.get_syngas_hhv(basis='vol', water=False, nitrogen=True) for out in outlets_both])\n",
    "syngasFlow_both = np.array([out.get_syngas_amount(basis='vol', water=False, nitrogen=True) for out in outlets_both])\n",
    "syngasYield_both = syngasFlow_both / feedRate\n",
    "temperatures_both = np.array([out.T for out in outlets_both]) # K\n",
    "H2_both = np.array([100*out.get_syngas_fraction(species='H2', water=False, nitrogen=True) for out in outlets_both])\n",
    "N2_both = np.array([100*out.get_syngas_fraction(species='N2', water=False, nitrogen=True) for out in outlets_both])\n",
    "CH4_both = np.array([100*out.get_syngas_fraction(species='CH4', water=False, nitrogen=True) for out in outlets_both])\n",
    "CO_both = np.array([100*out.get_syngas_fraction(species='CO', water=False, nitrogen=True) for out in outlets_both])\n",
    "CO2_both = np.array([100*out.get_syngas_fraction(species='CO2', water=False, nitrogen=True) for out in outlets_both])"
   ]
  },
  {
   "cell_type": "code",
   "execution_count": 13,
   "metadata": {},
   "outputs": [
    {
     "data": {
      "image/png": "[encoded data removed]",
      "text/plain": [
       "<Figure size 800x500 with 2 Axes>"
      ]
     },
     "metadata": {
      "needs_background": "light"
     },
     "output_type": "display_data"
    }
   ],
   "source": [
    "frac_groups = ['$H_2$', '$CO$', '$CO_2$', '$CH_4$', '$N_2$']\n",
    "exp_frac = [np.average(H2_exp), np.average(CO_exp), np.average(CO2_exp), np.average(CH4_exp), np.average(N2_exp)]\n",
    "pure_model_frac = [np.average(H2), np.average(CO), np.average(CO2), np.average(CH4), np.average(N2)]\n",
    "char_model_frac = [np.average(H2_char), np.average(CO_char), np.average(CO2_char), np.average(CH4_char), np.average(N2_char)]\n",
    "met_model_frac = [np.average(H2_met), np.average(CO_met), np.average(CO2_met), np.average(CH4_met), np.average(N2_met)]\n",
    "both_model_frac = [np.average(H2_both), np.average(CO_both), np.average(CO2_both), np.average(CH4_both), np.average(N2_both)]\n",
    "\n",
    "prop_groups = ['HHV', 'Yield']\n",
    "exp_props = [np.average(HHV_exp), np.average(gasYield_exp)]\n",
    "pure_model_props = [np.average(syngasHHV), np.average(syngasYield)]\n",
    "char_model_props = [np.average(syngasHHV_char), np.average(syngasYield_char)]\n",
    "met_model_props = [np.average(syngasHHV_met), np.average(syngasYield_met)]\n",
    "both_model_props = [np.average(syngasHHV_both), np.average(syngasYield_both)]\n",
    "  \n",
    "X_axis1 = np.arange(len(frac_groups))\n",
    "X_axis2 = np.arange(X_axis1[-1]+1, X_axis1[-1]+1+len(prop_groups))\n",
    "\n",
    "w = 0.15\n",
    "\n",
    "fig, ax1 = plt.subplots(figsize=(8,5), dpi=100)\n",
    "ax1.bar(X_axis1 - 2*w, exp_frac, w, label='Experimental', zorder=3)\n",
    "ax1.bar(X_axis1 - w, pure_model_frac, w, label='Pure model', zorder=3)\n",
    "ax1.bar(X_axis1, char_model_frac, w, label='Modified model - Char formation', zorder=3)\n",
    "ax1.bar(X_axis1 + w, met_model_frac, w, label='Modified model - Methane conversion', zorder=3)\n",
    "ax1.bar(X_axis1 + 2*w, both_model_frac, w, label='Modified model - Both', zorder=3)\n",
    "ax1.set_ylabel(\"Syngas mole fraction (%)\")\n",
    "ax1.grid(zorder=0, axis='y')\n",
    "ax1.set_ylim(0, 70)\n",
    "\n",
    "ax2 = ax1.twinx()\n",
    "ax2.bar(X_axis2 - 2*w, exp_props, w, label='Experimental', zorder=3)\n",
    "ax2.bar(X_axis2 - w, pure_model_props, w, label='Pure Model', zorder=3)\n",
    "ax2.bar(X_axis2, char_model_props, w, label='Modified Model - Char formation', zorder=3)\n",
    "ax2.bar(X_axis2 + w, met_model_props, w, label='Modified Model - Methane conversion', zorder=3)\n",
    "ax2.bar(X_axis2 + 2*w, both_model_props, w, label='Modified Model - Both', zorder=3)\n",
    "plt.xticks(np.append(X_axis1,X_axis2), frac_groups+prop_groups)\n",
    "ax2.set_ylabel(\"HHV (MJ/Nm³) \\n Syngas yield (Nm³/kg)\")\n",
    "ax2.set_ylim(0, 7)\n",
    "\n",
    "plt.legend(loc='upper left')\n",
    "plt.savefig('figures/drogu.png')\n",
    "plt.show()"
   ]
  }
 ],
 "metadata": {
  "kernelspec": {
   "display_name": "ct-env",
   "language": "python",
   "name": "python3"
  },
  "language_info": {
   "codemirror_mode": {
    "name": "ipython",
    "version": 3
   },
   "file_extension": ".py",
   "mimetype": "text/x-python",
   "name": "python",
   "nbconvert_exporter": "python",
   "pygments_lexer": "ipython3",
   "version": "3.9.12"
  },
  "orig_nbformat": 4,
  "vscode": {
   "interpreter": {
    "hash": "2f8f1d48e13c088e6e56ea43e4e7205e8329df80b1713cb4d658a3a978301f46"
   }
  }
 },
 "nbformat": 4,
 "nbformat_minor": 2
}
