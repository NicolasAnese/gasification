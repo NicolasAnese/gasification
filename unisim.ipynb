{
 "cells": [
  {
   "cell_type": "code",
   "execution_count": 1,
   "metadata": {},
   "outputs": [
    {
     "name": "stdout",
     "output_type": "stream",
     "text": [
      "CanteraWarning: NasaPoly2::validate: \n",
      "For species Fe(c), discontinuity in cp/R detected at Tmid = 1000.0\n",
      "\tValue computed using low-temperature polynomial:  0.0\n",
      "\tValue computed using high-temperature polynomial: 4.2881898\n",
      "\n",
      "CanteraWarning: NasaPoly2::validate: \n",
      "For species Fe(c), discontinuity in h/RT detected at Tmid = 1000.0\n",
      "\tValue computed using low-temperature polynomial:  0.0\n",
      "\tValue computed using high-temperature polynomial: 3.425820683333331\n",
      "\n",
      "CanteraWarning: NasaPoly2::validate: \n",
      "For species Fe(c), discontinuity in s/R detected at Tmid = 1000.0\n",
      "\tValue computed using low-temperature polynomial:  0.0\n",
      "\tValue computed using high-temperature polynomial: 8.486560101557188\n",
      "\n",
      "CanteraWarning: NasaPoly2::validate: \n",
      "For species Cr(cr), discontinuity in cp/R detected at Tmid = 1000.0\n",
      "\tValue computed using low-temperature polynomial:  749.1520512400002\n",
      "\tValue computed using high-temperature polynomial: 0.0\n",
      "\n",
      "CanteraWarning: NasaPoly2::validate: \n",
      "For species Cr(cr), discontinuity in h/RT detected at Tmid = 1000.0\n",
      "\tValue computed using low-temperature polynomial:  113.24055562733336\n",
      "\tValue computed using high-temperature polynomial: 0.0\n",
      "\n",
      "CanteraWarning: NasaPoly2::validate: \n",
      "For species Cr(cr), discontinuity in s/R detected at Tmid = 1000.0\n",
      "\tValue computed using low-temperature polynomial:  135.51255437035232\n",
      "\tValue computed using high-temperature polynomial: 0.0\n",
      "\n"
     ]
    }
   ],
   "source": [
    "import sys\n",
    "import cantera as ct\n",
    "import numpy as np\n",
    "import scipy.optimize as opt\n",
    "import matplotlib.pyplot as plt\n",
    "\n",
    "import phases\n",
    "import feedstock as fs\n",
    "import fuel as fu\n",
    "import energy as en\n",
    "import gasifier as gs"
   ]
  },
  {
   "cell_type": "code",
   "execution_count": 2,
   "metadata": {},
   "outputs": [],
   "source": [
    "coalUltimate = [78.4750, 3.9681, 16.0249, 0.7044, 0.7748, 0.0528] # % daf\n",
    "coalAshWB = 0.128199 # fraction, w.b.\n",
    "coalMoistWB = 0.02 # fraction, w.b.\n",
    "coalHHV = 24.727 # MJ/kg\n",
    "coalLHV = 24.155 # MJ/kg\n",
    "coalAshDB = coalAshWB / (1 - coalMoistWB) # fraction, d.b.\n",
    "coalMoistDB = coalMoistWB / (1 - coalMoistWB) # fraction, d.b.\n",
    "ashComposition = [54.06, 6.57, 23.18, 6.85, 0.82, 1.6, 1.83, 0.5, 1.05, 3.54, 0] # % of ash\n",
    "coal = fs.create_fuel_stream(980, coalUltimate, coalAshDB, coalMoistDB, HHV=coalHHV, LHV=coalLHV, ashComposition=ashComposition)"
   ]
  },
  {
   "cell_type": "code",
   "execution_count": 3,
   "metadata": {},
   "outputs": [
    {
     "name": "stdout",
     "output_type": "stream",
     "text": [
      "24.727\n",
      "24.155\n",
      "0.130815306122449\n",
      "[1, 0.6025178514540572, 0.15330288654350233, 0.007697010185118156, 0.0036989114667723413, 0.00022796360991053454, 0.03279459552285828]\n",
      "0.020408163265306124\n",
      "979.9999999999995\n",
      "999.9999999999995\n",
      "55.65322077678792\n",
      "Combs -480686810.26983654\n",
      "HHV 435418825.0342371\n",
      "Moist -317324451.84568405\n",
      "N 412.16400366345385\n",
      "O -58226.11201054668\n",
      "Ash -31674118.01080205\n",
      "-21945.42116785586\n"
     ]
    }
   ],
   "source": [
    "print(coal.fuelHHV)\n",
    "print(coal.fuelLHV)\n",
    "print(coal.fuelAshFraction)\n",
    "print(coal.get_fuel_formula())\n",
    "print(coal.fuelMoisture)\n",
    "print(coal.get_dry_mass())\n",
    "print(coal.get_mass())\n",
    "print(coal.species_moles[phases.indices['C(gr)']])\n",
    "print(en.get_fuel_enthalpy_formation(coal) / 10**6)"
   ]
  },
  {
   "cell_type": "code",
   "execution_count": 4,
   "metadata": {},
   "outputs": [
    {
     "name": "stdout",
     "output_type": "stream",
     "text": [
      "C(gr) = 55.65322077678792 kmol, 668.4508347499997 kg\n",
      "H = 33.532059008928556 kmol, 33.800315480999984 kg\n",
      "O = 8.531799390524405 kmol, 136.50025844899997 kg\n",
      "N = 0.42836340715356597 kmol, 6.0000862439999985 kg\n",
      "S = 0.20585633649407353 kmol, 6.599754147999998 kg\n",
      "CL = 0.012686909111424538 kmol, 0.4497509279999999 kg\n",
      "H2O = 1.1101859561476544 kmol, 19.999999999999993 kg\n",
      "Ash = 1.8251248649190923 kmol, 128.19900000000004 kg\n",
      "Ash MW = 70.24122155372811  kg/kmol\n"
     ]
    }
   ],
   "source": [
    "for i, sp in enumerate(['C(gr)', 'H', 'O', 'N', 'S', 'CL', 'H2O']):\n",
    "    print(f'{sp} = {coal.species_moles[phases.indices[sp]]} kmol, {coal.species_moles[phases.indices[sp]]*phases.Mw[sp]} kg')\n",
    "ashComponents = ['SiO2(hqz)', 'CaO(s)', 'AL2O3(a)', 'Fe2O3(s)', 'Na2O(c)', 'K2O(s)', 'MgO(s)', 'P2O5', 'TiO2(ru)', 'SO3', 'Cr2O3(s)']\n",
    "ashMass = 0\n",
    "ashMoles = 0\n",
    "for i, ash in enumerate(ashComponents):\n",
    "    mol = coal.species_moles[phases.indices[ash]]\n",
    "    mass = mol * phases.Mw[ash]\n",
    "    ashMoles += mol\n",
    "    ashMass += mass\n",
    "print(f'Ash = {ashMoles} kmol, {ashMass} kg')\n",
    "print('Ash MW =', ashMass / ashMoles, ' kg/kmol')\n"
   ]
  },
  {
   "cell_type": "code",
   "execution_count": 5,
   "metadata": {},
   "outputs": [
    {
     "name": "stdout",
     "output_type": "stream",
     "text": [
      "Combs -480686810.26983654\n",
      "HHV 435418825.0342371\n",
      "Moist -317324451.84568405\n",
      "N 412.16400366345385\n",
      "O -58226.11201054668\n",
      "Ash -31674118.01080205\n",
      "-21945.42116785586\n"
     ]
    }
   ],
   "source": [
    "print(en.get_fuel_enthalpy_formation(coal)/10**6)"
   ]
  }
 ],
 "metadata": {
  "kernelspec": {
   "display_name": "ct-env",
   "language": "python",
   "name": "python3"
  },
  "language_info": {
   "codemirror_mode": {
    "name": "ipython",
    "version": 3
   },
   "file_extension": ".py",
   "mimetype": "text/x-python",
   "name": "python",
   "nbconvert_exporter": "python",
   "pygments_lexer": "ipython3",
   "version": "3.9.12 (main, Apr  4 2022, 05:22:27) [MSC v.1916 64 bit (AMD64)]"
  },
  "orig_nbformat": 4,
  "vscode": {
   "interpreter": {
    "hash": "2f8f1d48e13c088e6e56ea43e4e7205e8329df80b1713cb4d658a3a978301f46"
   }
  }
 },
 "nbformat": 4,
 "nbformat_minor": 2
}
