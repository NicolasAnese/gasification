{
 "cells": [
  {
   "cell_type": "code",
   "execution_count": 4,
   "metadata": {},
   "outputs": [],
   "source": [
    "# Importing libraries\n",
    "import numpy as np\n",
    "import pandas as pd\n",
    "import cantera as ct\n",
    "import matplotlib.pyplot as plt\n",
    "import json\n",
    "\n",
    "# Importing packages\n",
    "import feedstock as fs\n",
    "import pp\n",
    "import gasifier as g\n",
    "import fuel as fu\n",
    "import energy as en\n",
    "import outputs as op"
   ]
  },
  {
   "cell_type": "code",
   "execution_count": 5,
   "metadata": {},
   "outputs": [],
   "source": [
    "fuelID = 'UniSimCoal'\n",
    "Info = {'Description': 'Coal from UniSim', 'Type': 'Coal', 'Category': None, 'Reference': 'UniSim', 'Year': 2022,'DOI': None}\n",
    "moist = ['wb', 2]\n",
    "prox = ['wb', 61.7081, 23.4720, 12.8199]\n",
    "HV = [24.727, 24.155]\n",
    "biochem = [None, None, None]\n",
    "ult = ['daf', 78.4750, 3.9681, 16.0249, 0.7044, 0.7748, 0.0528]\n",
    "ashC = [None, None, None, None, None, None, None, None, None, None, None]\n",
    "\n",
    "# fu.addToDatabase(fuelID, Info, moist, prox, HV, biochem, ult, ashC)"
   ]
  },
  {
   "cell_type": "code",
   "execution_count": 6,
   "metadata": {},
   "outputs": [
    {
     "ename": "ValueError",
     "evalue": "Fuel ID not found in database.",
     "output_type": "error",
     "traceback": [
      "\u001b[1;31m---------------------------------------------------------------------------\u001b[0m",
      "\u001b[1;31mValueError\u001b[0m                                Traceback (most recent call last)",
      "\u001b[1;32md:\\user\\Desktop\\Faculdade\\IC Rodolfo\\gasification\\unisim.ipynb Cell 3\u001b[0m in \u001b[0;36m<cell line: 1>\u001b[1;34m()\u001b[0m\n\u001b[1;32m----> <a href='vscode-notebook-cell:/d%3A/user/Desktop/Faculdade/IC%20Rodolfo/gasification/unisim.ipynb#W2sZmlsZQ%3D%3D?line=0'>1</a>\u001b[0m report, feed, outlet, fuelMix \u001b[39m=\u001b[39m g\u001b[39m.\u001b[39;49mgasifier(fuelID, fuelMass\u001b[39m=\u001b[39;49m\u001b[39m1.0\u001b[39;49m, moist\u001b[39m=\u001b[39;49m\u001b[39m0.1422\u001b[39;49m, T\u001b[39m=\u001b[39;49m\u001b[39m1273.15\u001b[39;49m, P\u001b[39m=\u001b[39;49mct\u001b[39m.\u001b[39;49mone_atm, \n\u001b[0;32m      <a href='vscode-notebook-cell:/d%3A/user/Desktop/Faculdade/IC%20Rodolfo/gasification/unisim.ipynb#W2sZmlsZQ%3D%3D?line=1'>2</a>\u001b[0m                 air\u001b[39m=\u001b[39;49m\u001b[39m1.90384\u001b[39;49m, stm\u001b[39m=\u001b[39;49m\u001b[39m0.0\u001b[39;49m, airType\u001b[39m=\u001b[39;49m\u001b[39m'\u001b[39;49m\u001b[39mair\u001b[39;49m\u001b[39m'\u001b[39;49m, stmType\u001b[39m=\u001b[39;49m\u001b[39m'\u001b[39;49m\u001b[39mSR\u001b[39;49m\u001b[39m'\u001b[39;49m, C\u001b[39m=\u001b[39;49m\u001b[39m1.0\u001b[39;49m, CH4\u001b[39m=\u001b[39;49m\u001b[39m0.0\u001b[39;49m, isot\u001b[39m=\u001b[39;49m\u001b[39mFalse\u001b[39;49;00m, heatLoss\u001b[39m=\u001b[39;49m\u001b[39m0.0\u001b[39;49m,\n\u001b[0;32m      <a href='vscode-notebook-cell:/d%3A/user/Desktop/Faculdade/IC%20Rodolfo/gasification/unisim.ipynb#W2sZmlsZQ%3D%3D?line=2'>3</a>\u001b[0m                 species\u001b[39m=\u001b[39;49m[\u001b[39m'\u001b[39;49m\u001b[39mC(gr)\u001b[39;49m\u001b[39m'\u001b[39;49m,\u001b[39m'\u001b[39;49m\u001b[39mN2\u001b[39;49m\u001b[39m'\u001b[39;49m,\u001b[39m'\u001b[39;49m\u001b[39mO2\u001b[39;49m\u001b[39m'\u001b[39;49m,\u001b[39m'\u001b[39;49m\u001b[39mH2\u001b[39;49m\u001b[39m'\u001b[39;49m,\u001b[39m'\u001b[39;49m\u001b[39mCO\u001b[39;49m\u001b[39m'\u001b[39;49m,\u001b[39m'\u001b[39;49m\u001b[39mCH4\u001b[39;49m\u001b[39m'\u001b[39;49m,\u001b[39m'\u001b[39;49m\u001b[39mCO2\u001b[39;49m\u001b[39m'\u001b[39;49m,\u001b[39m'\u001b[39;49m\u001b[39mH2O\u001b[39;49m\u001b[39m'\u001b[39;49m])\n\u001b[0;32m      <a href='vscode-notebook-cell:/d%3A/user/Desktop/Faculdade/IC%20Rodolfo/gasification/unisim.ipynb#W2sZmlsZQ%3D%3D?line=3'>4</a>\u001b[0m \u001b[39mprint\u001b[39m(report[\u001b[39m'\u001b[39m\u001b[39mY\u001b[39m\u001b[39m'\u001b[39m])\n",
      "File \u001b[1;32md:\\user\\Desktop\\Faculdade\\IC Rodolfo\\gasification\\gasifier.py:985\u001b[0m, in \u001b[0;36mgasifier\u001b[1;34m(fuelID, fuelMass, moist, T, P, air, stm, airType, stmType, C, CH4, isot, heatLoss, species)\u001b[0m\n\u001b[0;32m    944\u001b[0m \u001b[39mdef\u001b[39;00m \u001b[39mgasifier\u001b[39m(fuelID, fuelMass\u001b[39m=\u001b[39m\u001b[39m1.0\u001b[39m, moist\u001b[39m=\u001b[39m\u001b[39m0.0\u001b[39m, T\u001b[39m=\u001b[39m\u001b[39m1273.15\u001b[39m, P\u001b[39m=\u001b[39mct\u001b[39m.\u001b[39mone_atm, \n\u001b[0;32m    945\u001b[0m                 air\u001b[39m=\u001b[39m\u001b[39m0.5\u001b[39m, stm\u001b[39m=\u001b[39m\u001b[39m0.0\u001b[39m, airType\u001b[39m=\u001b[39m\u001b[39m'\u001b[39m\u001b[39mER\u001b[39m\u001b[39m'\u001b[39m, stmType\u001b[39m=\u001b[39m\u001b[39m'\u001b[39m\u001b[39mSR\u001b[39m\u001b[39m'\u001b[39m, C\u001b[39m=\u001b[39m\u001b[39m1.0\u001b[39m, CH4\u001b[39m=\u001b[39m\u001b[39m0.0\u001b[39m, isot\u001b[39m=\u001b[39m\u001b[39mTrue\u001b[39;00m, heatLoss\u001b[39m=\u001b[39m\u001b[39m0.0\u001b[39m,\n\u001b[0;32m    946\u001b[0m                 species\u001b[39m=\u001b[39m[\u001b[39m'\u001b[39m\u001b[39mC(gr)\u001b[39m\u001b[39m'\u001b[39m,\u001b[39m'\u001b[39m\u001b[39mN2\u001b[39m\u001b[39m'\u001b[39m,\u001b[39m'\u001b[39m\u001b[39mO2\u001b[39m\u001b[39m'\u001b[39m,\u001b[39m'\u001b[39m\u001b[39mH2\u001b[39m\u001b[39m'\u001b[39m,\u001b[39m'\u001b[39m\u001b[39mCO\u001b[39m\u001b[39m'\u001b[39m,\u001b[39m'\u001b[39m\u001b[39mCH4\u001b[39m\u001b[39m'\u001b[39m,\u001b[39m'\u001b[39m\u001b[39mCO2\u001b[39m\u001b[39m'\u001b[39m,\u001b[39m'\u001b[39m\u001b[39mH2O\u001b[39m\u001b[39m'\u001b[39m]):\n\u001b[0;32m    947\u001b[0m     \u001b[39m'''\u001b[39;00m\n\u001b[0;32m    948\u001b[0m \u001b[39m    Creates a full report of the outputs for a given gasification condition.\u001b[39;00m\n\u001b[0;32m    949\u001b[0m \n\u001b[1;32m   (...)\u001b[0m\n\u001b[0;32m    983\u001b[0m \u001b[39m        Dictionary containing the report.\u001b[39;00m\n\u001b[0;32m    984\u001b[0m \u001b[39m    '''\u001b[39;00m\n\u001b[1;32m--> 985\u001b[0m     fuelMix \u001b[39m=\u001b[39m fs\u001b[39m.\u001b[39;49mgetFuelMix(fuelID, fuelMass)\n\u001b[0;32m    987\u001b[0m     \u001b[39mif\u001b[39;00m stmType \u001b[39m==\u001b[39m \u001b[39m'\u001b[39m\u001b[39mSR\u001b[39m\u001b[39m'\u001b[39m:\n\u001b[0;32m    988\u001b[0m         stmMass \u001b[39m=\u001b[39m fs\u001b[39m.\u001b[39mSRtosteam(fuelMix, stm)\n",
      "File \u001b[1;32md:\\user\\Desktop\\Faculdade\\IC Rodolfo\\gasification\\feedstock.py:47\u001b[0m, in \u001b[0;36mgetFuelMix\u001b[1;34m(fuelID, fuelMass)\u001b[0m\n\u001b[0;32m     31\u001b[0m \u001b[39mdef\u001b[39;00m \u001b[39mgetFuelMix\u001b[39m(fuelID, fuelMass):\n\u001b[0;32m     32\u001b[0m     \u001b[39m'''\u001b[39;00m\n\u001b[0;32m     33\u001b[0m \u001b[39m    Create a Cantera 'Mixture' object representing the given fuel.\u001b[39;00m\n\u001b[0;32m     34\u001b[0m \n\u001b[1;32m   (...)\u001b[0m\n\u001b[0;32m     45\u001b[0m \u001b[39m        The fuel mixture object.\u001b[39;00m\n\u001b[0;32m     46\u001b[0m \u001b[39m    '''\u001b[39;00m\n\u001b[1;32m---> 47\u001b[0m     comp \u001b[39m=\u001b[39m fu\u001b[39m.\u001b[39;49mfuelComp(fuelID)\n\u001b[0;32m     48\u001b[0m     massBySpecies \u001b[39m=\u001b[39m {key: value\u001b[39m*\u001b[39mfuelMass \u001b[39mfor\u001b[39;00m key, value \u001b[39min\u001b[39;00m comp\u001b[39m.\u001b[39mitems()} \u001b[39m# kg\u001b[39;00m\n\u001b[0;32m     50\u001b[0m     molesBySpecies \u001b[39m=\u001b[39m {key: value\u001b[39m/\u001b[39mpp\u001b[39m.\u001b[39mMw[key] \u001b[39mfor\u001b[39;00m key, value \u001b[39min\u001b[39;00m massBySpecies\u001b[39m.\u001b[39mitems()} \u001b[39m# kmol\u001b[39;00m\n",
      "File \u001b[1;32md:\\user\\Desktop\\Faculdade\\IC Rodolfo\\gasification\\fuel.py:289\u001b[0m, in \u001b[0;36mfuelComp\u001b[1;34m(fuelID)\u001b[0m\n\u001b[0;32m    273\u001b[0m \u001b[39mdef\u001b[39;00m \u001b[39mfuelComp\u001b[39m(fuelID):\n\u001b[0;32m    274\u001b[0m     \u001b[39m'''\u001b[39;00m\n\u001b[0;32m    275\u001b[0m \u001b[39m    Gets the full mass composition for the dry fuel.\u001b[39;00m\n\u001b[0;32m    276\u001b[0m \u001b[39m    The fuel must be available in the database (file: 'fuels.csv').\u001b[39;00m\n\u001b[1;32m   (...)\u001b[0m\n\u001b[0;32m    286\u001b[0m \u001b[39m        A dictionary representing the mass fraction of each species.\u001b[39;00m\n\u001b[0;32m    287\u001b[0m \u001b[39m    '''\u001b[39;00m\n\u001b[1;32m--> 289\u001b[0m     ash \u001b[39m=\u001b[39m proximate(fuelID)[\u001b[39m\"\u001b[39m\u001b[39mAsh\u001b[39m\u001b[39m\"\u001b[39m]\n\u001b[0;32m    290\u001b[0m     ult \u001b[39m=\u001b[39m ultimate(fuelID)\n\u001b[0;32m    291\u001b[0m     ashCompos \u001b[39m=\u001b[39m ashComp(fuelID)\n",
      "File \u001b[1;32md:\\user\\Desktop\\Faculdade\\IC Rodolfo\\gasification\\fuel.py:119\u001b[0m, in \u001b[0;36mproximate\u001b[1;34m(fuelID, basis)\u001b[0m\n\u001b[0;32m    101\u001b[0m \u001b[39m'''\u001b[39;00m\n\u001b[0;32m    102\u001b[0m \u001b[39mGets the proximate analysis for a given fuel. \u001b[39;00m\n\u001b[0;32m    103\u001b[0m \u001b[39mThe fuel must be available in the database (file: 'fuels-updated.csv').\u001b[39;00m\n\u001b[1;32m   (...)\u001b[0m\n\u001b[0;32m    116\u001b[0m \u001b[39m    {\"Ash\": Ash, \"FC\": Fixed Carbon, \"VM\": Volatile Matter}\u001b[39;00m\n\u001b[0;32m    117\u001b[0m \u001b[39m'''\u001b[39;00m\n\u001b[0;32m    118\u001b[0m \u001b[39mif\u001b[39;00m fuelID \u001b[39mnot\u001b[39;00m \u001b[39min\u001b[39;00m myID:\n\u001b[1;32m--> 119\u001b[0m     \u001b[39mraise\u001b[39;00m \u001b[39mValueError\u001b[39;00m(\u001b[39m'\u001b[39m\u001b[39mFuel ID not found in database.\u001b[39m\u001b[39m'\u001b[39m)\n\u001b[0;32m    121\u001b[0m \u001b[39m# Read values from CSV\u001b[39;00m\n\u001b[0;32m    122\u001b[0m rProxBasis \u001b[39m=\u001b[39m fuels\u001b[39m.\u001b[39mloc[fuelID][\u001b[39m'\u001b[39m\u001b[39mPbasis\u001b[39m\u001b[39m'\u001b[39m]\n",
      "\u001b[1;31mValueError\u001b[0m: Fuel ID not found in database."
     ]
    }
   ],
   "source": [
    "report, feed, outlet, fuelMix = g.gasifier(fuelID, fuelMass=1.0, moist=0.1422, T=1273.15, P=ct.one_atm, \n",
    "                air=1.90384, stm=0.0, airType='air', stmType='SR', C=1.0, CH4=0.0, isot=False, heatLoss=0.0,\n",
    "                species=['C(gr)','N2','O2','H2','CO','CH4','CO2','H2O'])\n",
    "print(report['Y'])"
   ]
  },
  {
   "cell_type": "code",
   "execution_count": null,
   "metadata": {},
   "outputs": [],
   "source": [
    "report2, feed2, outlet2, fuelMix2 = g.gasifier(fuelID, fuelMass=1.0, moist=0.1422, T=1273.15, P=ct.one_atm, \n",
    "                air=1.90384, stm=0.0, airType='air', stmType='SR', C=1.0, CH4=0.0, isot=True, heatLoss=0.1,\n",
    "                species=['C(gr)','N2','O2','H2','CO','CH4','CO2','H2O'])"
   ]
  },
  {
   "cell_type": "code",
   "execution_count": null,
   "metadata": {},
   "outputs": [
    {
     "name": "stdout",
     "output_type": "stream",
     "text": [
      "0.18789319755892625 0.3409995675836656\n",
      "0.11531233032153008 0.0035175600279411263\n",
      "0.001178428910775306 1.5941530807798894e-38\n",
      "0.16941136367658288 2.6764955114789676e-18\n",
      "0.45458422653066133 0.645776874542468\n",
      "10.672709401632945 7.624970954369199\n",
      "1.2182419326045792 0.6311791103055245\n"
     ]
    }
   ],
   "source": [
    "print(report['CO'], report2['CO'])\n",
    "print(report['CO2'], report2['CO2'])\n",
    "print(report['CH4'], report2['CH4'])\n",
    "print(report['H2'], report2['H2'])\n",
    "print(report['N2'], report2['N2'])\n",
    "print(report['HHV'], report2['HHV'])\n",
    "print(report['Y'], report2['Y'])"
   ]
  }
 ],
 "metadata": {
  "kernelspec": {
   "display_name": "ct-env",
   "language": "python",
   "name": "python3"
  },
  "language_info": {
   "codemirror_mode": {
    "name": "ipython",
    "version": 3
   },
   "file_extension": ".py",
   "mimetype": "text/x-python",
   "name": "python",
   "nbconvert_exporter": "python",
   "pygments_lexer": "ipython3",
   "version": "3.9.12 (main, Apr  4 2022, 05:22:27) [MSC v.1916 64 bit (AMD64)]"
  },
  "orig_nbformat": 4,
  "vscode": {
   "interpreter": {
    "hash": "2f8f1d48e13c088e6e56ea43e4e7205e8329df80b1713cb4d658a3a978301f46"
   }
  }
 },
 "nbformat": 4,
 "nbformat_minor": 2
}
