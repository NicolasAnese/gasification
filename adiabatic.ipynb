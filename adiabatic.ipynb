{
 "cells": [
  {
   "cell_type": "code",
   "execution_count": 1,
   "metadata": {},
   "outputs": [
    {
     "name": "stdout",
     "output_type": "stream",
     "text": [
      "CanteraWarning: NasaPoly2::validate: \n",
      "For species Fe(c), discontinuity in cp/R detected at Tmid = 1000.0\n",
      "\tValue computed using low-temperature polynomial:  0.0\n",
      "\tValue computed using high-temperature polynomial: 4.2881898\n",
      "\n",
      "CanteraWarning: NasaPoly2::validate: \n",
      "For species Fe(c), discontinuity in h/RT detected at Tmid = 1000.0\n",
      "\tValue computed using low-temperature polynomial:  0.0\n",
      "\tValue computed using high-temperature polynomial: 3.425820683333331\n",
      "\n",
      "CanteraWarning: NasaPoly2::validate: \n",
      "For species Fe(c), discontinuity in s/R detected at Tmid = 1000.0\n",
      "\tValue computed using low-temperature polynomial:  0.0\n",
      "\tValue computed using high-temperature polynomial: 8.486560101557188\n",
      "\n",
      "CanteraWarning: NasaPoly2::validate: \n",
      "For species Cr(cr), discontinuity in cp/R detected at Tmid = 1000.0\n",
      "\tValue computed using low-temperature polynomial:  749.1520512400002\n",
      "\tValue computed using high-temperature polynomial: 0.0\n",
      "\n",
      "CanteraWarning: NasaPoly2::validate: \n",
      "For species Cr(cr), discontinuity in h/RT detected at Tmid = 1000.0\n",
      "\tValue computed using low-temperature polynomial:  113.24055562733336\n",
      "\tValue computed using high-temperature polynomial: 0.0\n",
      "\n",
      "CanteraWarning: NasaPoly2::validate: \n",
      "For species Cr(cr), discontinuity in s/R detected at Tmid = 1000.0\n",
      "\tValue computed using low-temperature polynomial:  135.51255437035232\n",
      "\tValue computed using high-temperature polynomial: 0.0\n",
      "\n"
     ]
    }
   ],
   "source": [
    "# Importing libraries\n",
    "import numpy as np\n",
    "import pandas as pd\n",
    "import cantera as ct\n",
    "import matplotlib.pyplot as plt\n",
    "import json\n",
    "\n",
    "# Importing packages\n",
    "import feedstock as fs\n",
    "import pp\n",
    "import gasifier as g\n",
    "import fuel as fu\n",
    "import energy as en\n",
    "import outputs as op"
   ]
  },
  {
   "cell_type": "code",
   "execution_count": 2,
   "metadata": {},
   "outputs": [],
   "source": [
    "# fuelID = \"Sorghum\"\n",
    "# Info = {\"Description\":\"Sorghum (HTS)\", \"Type\":\"Biomass\", \"Category\":\"Agricultural\", \"Reference\":\"Rodriguez-Alejandro et al.\", \"Year\":\"2016\", \"DOI\":\"10.1016/j.energy.2016.09.079\"}\n",
    "# moist = [None, None]\n",
    "# prox = [\"db\", 14.44, 71.4, 14.16]\n",
    "# HV = [19.58, None]\n",
    "# biochem = [None, None, None, None]\n",
    "# ult = [\"db\", 42.29, 5.74, 37.32, 0.42, 0.07, None]\n",
    "# ashC = [None, None, None, None, None, None, None, None, None, None, None]\n",
    "# fu.addToDatabase(fuelID, Info, moist, prox, HV, biochem, ult, ashC)"
   ]
  },
  {
   "cell_type": "code",
   "execution_count": 3,
   "metadata": {},
   "outputs": [
    {
     "name": "stdout",
     "output_type": "stream",
     "text": [
      "19.58\n",
      "-3741.0460880329497 kJ/kg\n",
      "-48678.36719316474 kJ/kg\n"
     ]
    }
   ],
   "source": [
    "fuelID = \"Sorghum\"\n",
    "fuelMix = fs.getFuelMix(fuelID, 1.0) # 1 kg\n",
    "HHV = fu.HV(fuelID, 'HHV')\n",
    "print(HHV)\n",
    "Hfo = en.hFormation(fuelID, HHV)\n",
    "print(Hfo/1000, \"kJ/kg\")\n",
    "print((-190.3-1407*fs.OHCratio(fuelMix)[1])*2.326*fs.Mw(fuelMix), \"kJ/kg\")"
   ]
  },
  {
   "cell_type": "code",
   "execution_count": 4,
   "metadata": {},
   "outputs": [
    {
     "ename": "IndexError",
     "evalue": "only integers, slices (`:`), ellipsis (`...`), numpy.newaxis (`None`) and integer or boolean arrays are valid indices",
     "output_type": "error",
     "traceback": [
      "\u001b[1;31m---------------------------------------------------------------------------\u001b[0m",
      "\u001b[1;31mIndexError\u001b[0m                                Traceback (most recent call last)",
      "\u001b[1;32md:\\user\\Desktop\\Faculdade\\IC Rodolfo\\gasification\\adiabatic.ipynb Cell 4\u001b[0m in \u001b[0;36m<cell line: 1>\u001b[1;34m()\u001b[0m\n\u001b[1;32m----> <a href='vscode-notebook-cell:/d%3A/user/Desktop/Faculdade/IC%20Rodolfo/gasification/adiabatic.ipynb#W3sZmlsZQ%3D%3D?line=0'>1</a>\u001b[0m outlet, inlet, fuelMix \u001b[39m=\u001b[39m g\u001b[39m.\u001b[39;49mNonIsotGasification(fuelID, fuelMass\u001b[39m=\u001b[39;49m\u001b[39m1.0\u001b[39;49m, moist\u001b[39m=\u001b[39;49m\u001b[39m0.0\u001b[39;49m, T0\u001b[39m=\u001b[39;49m\u001b[39m730\u001b[39;49m\u001b[39m+\u001b[39;49m\u001b[39m273.15\u001b[39;49m, P\u001b[39m=\u001b[39;49mct\u001b[39m.\u001b[39;49mone_atm, air\u001b[39m=\u001b[39;49m\u001b[39m0.35\u001b[39;49m, stm\u001b[39m=\u001b[39;49m\u001b[39m0.0\u001b[39;49m, airType\u001b[39m=\u001b[39;49m\u001b[39m'\u001b[39;49m\u001b[39mER\u001b[39;49m\u001b[39m'\u001b[39;49m, stmType\u001b[39m=\u001b[39;49m\u001b[39m'\u001b[39;49m\u001b[39mSR\u001b[39;49m\u001b[39m'\u001b[39;49m, heatLoss\u001b[39m=\u001b[39;49m\u001b[39m0.0\u001b[39;49m, guess\u001b[39m=\u001b[39;49mpp\u001b[39m.\u001b[39;49mTo)\n",
      "File \u001b[1;32md:\\user\\Desktop\\Faculdade\\IC Rodolfo\\gasification\\gasifier.py:563\u001b[0m, in \u001b[0;36mNonIsotGasification\u001b[1;34m(fuelID, fuelMass, moist, T0, P, air, stm, airType, stmType, heatLoss, guess)\u001b[0m\n\u001b[0;32m    561\u001b[0m \u001b[39m# Create H2O mix\u001b[39;00m\n\u001b[0;32m    562\u001b[0m steamMix \u001b[39m=\u001b[39m pp\u001b[39m.\u001b[39mmix()\n\u001b[1;32m--> 563\u001b[0m steamMix\u001b[39m.\u001b[39mspecies_moles[\u001b[39m'\u001b[39m\u001b[39mH2O\u001b[39m\u001b[39m'\u001b[39m] \u001b[39m=\u001b[39m steamMoles\n\u001b[0;32m    564\u001b[0m steamMix\u001b[39m.\u001b[39mT \u001b[39m=\u001b[39m T0\n\u001b[0;32m    565\u001b[0m steamMix\u001b[39m.\u001b[39mP \u001b[39m=\u001b[39m P\n",
      "\u001b[1;31mIndexError\u001b[0m: only integers, slices (`:`), ellipsis (`...`), numpy.newaxis (`None`) and integer or boolean arrays are valid indices"
     ]
    }
   ],
   "source": [
    "outlet, inlet, fuelMix = g.NonIsotGasification(fuelID, fuelMass=1.0, moist=0.0, T0=730+273.15, P=ct.one_atm, air=0.35, stm=0.0, airType='ER', stmType='SR', heatLoss=0.0, guess=pp.To)"
   ]
  }
 ],
 "metadata": {
  "kernelspec": {
   "display_name": "Python 3.9.12 ('ct-env')",
   "language": "python",
   "name": "python3"
  },
  "language_info": {
   "codemirror_mode": {
    "name": "ipython",
    "version": 3
   },
   "file_extension": ".py",
   "mimetype": "text/x-python",
   "name": "python",
   "nbconvert_exporter": "python",
   "pygments_lexer": "ipython3",
   "version": "3.9.12"
  },
  "orig_nbformat": 4,
  "vscode": {
   "interpreter": {
    "hash": "2f8f1d48e13c088e6e56ea43e4e7205e8329df80b1713cb4d658a3a978301f46"
   }
  }
 },
 "nbformat": 4,
 "nbformat_minor": 2
}
